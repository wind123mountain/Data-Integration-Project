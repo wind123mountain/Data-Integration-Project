{
 "cells": [
  {
   "cell_type": "code",
   "execution_count": 2,
   "metadata": {},
   "outputs": [],
   "source": [
    "from urllib.request import urlopen, Request\n",
    "import json\n",
    "\n",
    "data = []\n",
    "\n",
    "for i in range(1, 17):\n",
    "    url = 'https://cellphones.com.vn/lapi/LoadMoreProductCate/index/?page=' + str(i) + '&id=3&order=view_count2&dir=desc&fearture=flashsale_samsung'\n",
    "\n",
    "    try:\n",
    "        rep = Request(url, headers={'User-Agent': 'Mozilla/5.0'})\n",
    "        page = urlopen(rep, timeout=30).read()\n",
    "        crawl_data = json.loads(page)\n",
    "        data.extend(crawl_data)\n",
    "\n",
    "    except:\n",
    "        print(url + ': không tồn tại hoặc bị ẩn')\n",
    "        #f_temp.write(url+'\\n')\n",
    "\n"
   ]
  },
  {
   "cell_type": "code",
   "execution_count": null,
   "metadata": {},
   "outputs": [],
   "source": [
    "data"
   ]
  },
  {
   "cell_type": "code",
   "execution_count": 6,
   "metadata": {},
   "outputs": [
    {
     "data": {
      "text/plain": [
       "{'type_id': 'configurable',\n",
       " 'entity_id': '16520',\n",
       " 'name': 'iPhone 11 64GB I Chính hãng VN/A ',\n",
       " 'url': 'https://cellphones.com.vn/iphone-11.html',\n",
       " 'price': '18000000.0000',\n",
       " 'final_price': 11490000,\n",
       " 'small_image': 'https://cdn.cellphones.com.vn/media/catalog/product/cache/7/small_image/9df78eab33525d08d6e5fb8d27136e95/i/p/iphone_11_white_4_.png',\n",
       " 'promotion_information': '<div class=\"promotion\"><p class=\"gift-cont\">[HOT] Thu cũ lên đời giá cao - Thủ tục nhanh - Trợ giá lên tới 1.000.000đ và <b>1 km</b> khác</p></div>',\n",
       " 'count_all_reviews': 67,\n",
       " 'average_ratings': 4.9,\n",
       " 'attribute_black_friday': False,\n",
       " 'attribute_uu_dai_tet': False,\n",
       " 'attribute_doc_quyen': False,\n",
       " 'tinh_trang_may_cu': None,\n",
       " 'isLastPage': False,\n",
       " 'stock_available': 46,\n",
       " 'display_size': '6.1 inches',\n",
       " 'laptop_ram': False,\n",
       " 'hdd_sdd': False,\n",
       " 'laptop_cpu': False,\n",
       " 'memory_internal': '4 GB',\n",
       " 'storage': '64 GB',\n",
       " 'linh_kien_attribute': None}"
      ]
     },
     "execution_count": 6,
     "metadata": {},
     "output_type": "execute_result"
    }
   ],
   "source": [
    "data[1]"
   ]
  },
  {
   "cell_type": "code",
   "execution_count": null,
   "metadata": {},
   "outputs": [],
   "source": [
    "with open('Data\\Cellphones\\Cellphones_raw_data.json', \"w\", encoding=\"utf-8\") as outfile:\n",
    "        json.dump(data, outfile)"
   ]
  }
 ],
 "metadata": {
  "interpreter": {
   "hash": "bb0ca4744550a54ef6d6f0223fbdf8af236b117fd1588dc9b614ba2a4e01e5ad"
  },
  "kernelspec": {
   "display_name": "Python 3.8.8 ('base')",
   "language": "python",
   "name": "python3"
  },
  "language_info": {
   "codemirror_mode": {
    "name": "ipython",
    "version": 3
   },
   "file_extension": ".py",
   "mimetype": "text/x-python",
   "name": "python",
   "nbconvert_exporter": "python",
   "pygments_lexer": "ipython3",
   "version": "3.8.8"
  },
  "orig_nbformat": 4
 },
 "nbformat": 4,
 "nbformat_minor": 2
}
