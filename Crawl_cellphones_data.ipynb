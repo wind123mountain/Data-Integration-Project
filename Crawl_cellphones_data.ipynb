{
 "cells": [
  {
   "cell_type": "markdown",
   "metadata": {},
   "source": [
    "### **Crawl**"
   ]
  },
  {
   "cell_type": "code",
   "execution_count": null,
   "metadata": {},
   "outputs": [],
   "source": [
    "from urllib.request import urlopen, Request\n",
    "import json\n",
    "\n",
    "data = []\n",
    "\n",
    "for i in range(1, 17):\n",
    "    url = 'https://cellphones.com.vn/lapi/LoadMoreProductCate/index/?page=' + str(i) + '&id=3&order=view_count2&dir=desc&fearture=flashsale_samsung'\n",
    "\n",
    "    try:\n",
    "        rep = Request(url, headers={'User-Agent': 'Mozilla/5.0'})\n",
    "        page = urlopen(rep, timeout=30).read()\n",
    "        crawl_data = json.loads(page)\n",
    "        data.extend(crawl_data)\n",
    "\n",
    "    except:\n",
    "        print(url + ': không tồn tại hoặc bị ẩn')\n",
    "        #f_temp.write(url+'\\n')\n",
    "\n"
   ]
  },
  {
   "cell_type": "code",
   "execution_count": null,
   "metadata": {},
   "outputs": [],
   "source": [
    "data"
   ]
  },
  {
   "cell_type": "code",
   "execution_count": null,
   "metadata": {},
   "outputs": [],
   "source": [
    "data[1]"
   ]
  },
  {
   "cell_type": "code",
   "execution_count": null,
   "metadata": {},
   "outputs": [],
   "source": [
    "with open('Data\\Cellphones\\Cellphones_raw_data.json', \"w\", encoding=\"utf-8\") as outfile:\n",
    "        json.dump(data, outfile)"
   ]
  },
  {
   "cell_type": "markdown",
   "metadata": {},
   "source": [
    "### **Tranform to csv**"
   ]
  },
  {
   "cell_type": "code",
   "execution_count": null,
   "metadata": {},
   "outputs": [],
   "source": [
    "import json\n",
    "\n",
    "with open('Data\\Cellphones\\Cellphones_raw_data.json', \"r\", encoding=\"utf-8\") as infile:\n",
    "        data = json.load(infile)\n",
    "\n",
    "len(data)"
   ]
  },
  {
   "cell_type": "code",
   "execution_count": null,
   "metadata": {},
   "outputs": [],
   "source": [
    "data[5]"
   ]
  },
  {
   "cell_type": "code",
   "execution_count": null,
   "metadata": {},
   "outputs": [],
   "source": [
    "import pandas as pd\n",
    "import numpy as np\n",
    "\n",
    "df = pd.DataFrame.from_dict(data)\n",
    "df"
   ]
  },
  {
   "cell_type": "code",
   "execution_count": null,
   "metadata": {},
   "outputs": [],
   "source": [
    "cols_drop = ['isLastPage', 'laptop_ram', 'hdd_sdd', 'laptop_cpu', 'tinh_trang_may_cu', 'linh_kien_attribute']\n",
    "\n",
    "df.drop(columns=cols_drop, inplace=True)"
   ]
  },
  {
   "cell_type": "code",
   "execution_count": null,
   "metadata": {},
   "outputs": [],
   "source": [
    "df['price'] = pd.to_numeric(df['price'], downcast='integer')\n",
    "df['final_price'] = pd.to_numeric(df['final_price'], downcast='integer')\n",
    "df['entity_id'] = pd.to_numeric(df['entity_id'])\n",
    "df['name'] = df['name'].astype('string')"
   ]
  },
  {
   "cell_type": "code",
   "execution_count": null,
   "metadata": {},
   "outputs": [],
   "source": [
    "with pd.option_context('display.max_colwidth', None):\n",
    "  display(df.query(\"count_all_reviews != count_all_reviews\")[['name', 'price', 'final_price', 'stock_available','count_all_reviews', 'average_ratings', 'url']])"
   ]
  },
  {
   "cell_type": "code",
   "execution_count": null,
   "metadata": {},
   "outputs": [],
   "source": [
    "with pd.option_context('display.max_colwidth', None):\n",
    "  display(df.query(\"price == 0\")[['name', 'price', 'final_price', 'stock_available','count_all_reviews', 'average_ratings', 'url']])"
   ]
  },
  {
   "cell_type": "code",
   "execution_count": null,
   "metadata": {},
   "outputs": [],
   "source": [
    "df.drop(df[df.price == 0].index, inplace=True)\n",
    "df[['stock_available', 'count_all_reviews']] = df[['stock_available', 'count_all_reviews']].fillna(0)"
   ]
  },
  {
   "cell_type": "code",
   "execution_count": null,
   "metadata": {},
   "outputs": [],
   "source": [
    "with pd.option_context('display.max_colwidth', None):\n",
    "  display(df.query(\"average_ratings != average_ratings\")[['name', 'price', 'final_price', 'stock_available','count_all_reviews', 'average_ratings', 'url']])"
   ]
  },
  {
   "cell_type": "code",
   "execution_count": null,
   "metadata": {},
   "outputs": [],
   "source": [
    "df['average_ratings'] = df['average_ratings'].fillna(0.0)\n",
    "df['promotion_information'] = df['promotion_information'].fillna('')"
   ]
  },
  {
   "cell_type": "code",
   "execution_count": null,
   "metadata": {},
   "outputs": [],
   "source": [
    "len(df)"
   ]
  },
  {
   "cell_type": "code",
   "execution_count": null,
   "metadata": {},
   "outputs": [],
   "source": [
    "df.loc[3, ['promotion_information']]"
   ]
  },
  {
   "cell_type": "code",
   "execution_count": null,
   "metadata": {},
   "outputs": [],
   "source": [
    "# delete html tags in promotion_information\n",
    "# pip install beautifulsoup4\n",
    "# pip install lxml\n",
    "\n",
    "from bs4 import BeautifulSoup\n",
    "\n",
    "IDs = list(df.index)\n",
    "\n",
    "for i in range(len(IDs)):\n",
    "    df.loc[IDs[i], ['promotion_information']] = BeautifulSoup(df['promotion_information'].iloc[i], \"lxml\").text"
   ]
  },
  {
   "cell_type": "code",
   "execution_count": null,
   "metadata": {},
   "outputs": [],
   "source": [
    "len(df['promotion_information'])"
   ]
  },
  {
   "cell_type": "code",
   "execution_count": null,
   "metadata": {},
   "outputs": [],
   "source": [
    "df.info()"
   ]
  },
  {
   "cell_type": "code",
   "execution_count": null,
   "metadata": {},
   "outputs": [],
   "source": [
    "with pd.option_context('display.max_colwidth', None):\n",
    "  display(df.promotion_information)"
   ]
  },
  {
   "cell_type": "code",
   "execution_count": null,
   "metadata": {},
   "outputs": [],
   "source": [
    "df.to_csv (r'Data\\Cellphones\\Cellphones_data.csv', index=False, header=True)"
   ]
  },
  {
   "cell_type": "code",
   "execution_count": null,
   "metadata": {},
   "outputs": [],
   "source": [
    "import pandas as pd\n",
    "import numpy as np\n",
    "\n",
    "df = pd.read_csv('Data\\Cellphones\\Cellphones_data.csv')"
   ]
  },
  {
   "cell_type": "markdown",
   "metadata": {},
   "source": [
    "### **Crawl specification**"
   ]
  },
  {
   "cell_type": "code",
   "execution_count": null,
   "metadata": {},
   "outputs": [],
   "source": [
    "from urllib.request import urlopen, Request\n",
    "from bs4 import BeautifulSoup\n",
    "\n",
    "item_list = []\n",
    "\n",
    "for i in range(len(df)):\n",
    "\n",
    "    url = df['url'].iloc[i]\n",
    "    rep = Request(url, headers={'User-Agent': 'Mozilla/5.0'})\n",
    "\n",
    "    page = urlopen(rep).read()\n",
    "    page = page.decode(\"utf-8\")\n",
    "\n",
    "    soup = BeautifulSoup(page, \"html.parser\")\n",
    "    tables_specification = soup.findAll('table', class_='')\n",
    "\n",
    "    specifications = {}\n",
    "    specifications['url'] = url.split('/')[-1]\n",
    "\n",
    "    for table in tables_specification[1:]:\n",
    "        for tag in table.findAll('tr', class_=''):\n",
    "            specification = BeautifulSoup(str(tag), 'lxml').text.strip().split('\\n')\n",
    "            try:\n",
    "                specifications[specification[0]] = specification[1]\n",
    "            except:\n",
    "                print(specifications)\n",
    "                specifications[specification[0]] = np.nan\n",
    "\n",
    "    item_list.append(specifications)\n"
   ]
  },
  {
   "cell_type": "code",
   "execution_count": null,
   "metadata": {},
   "outputs": [],
   "source": [
    "pd.DataFrame.from_dict(item_list).to_csv (r'Data\\Cellphones\\Cellphones_specification_data.csv', index=False, header=True)"
   ]
  }
 ],
 "metadata": {
  "interpreter": {
   "hash": "bb0ca4744550a54ef6d6f0223fbdf8af236b117fd1588dc9b614ba2a4e01e5ad"
  },
  "kernelspec": {
   "display_name": "Python 3.8.8 ('base')",
   "language": "python",
   "name": "python3"
  },
  "language_info": {
   "codemirror_mode": {
    "name": "ipython",
    "version": 3
   },
   "file_extension": ".py",
   "mimetype": "text/x-python",
   "name": "python",
   "nbconvert_exporter": "python",
   "pygments_lexer": "ipython3",
   "version": "3.8.8"
  },
  "orig_nbformat": 4
 },
 "nbformat": 4,
 "nbformat_minor": 2
}
