{
 "cells": [
  {
   "cell_type": "code",
   "execution_count": null,
   "metadata": {},
   "outputs": [],
   "source": [
    "import pandas as pd\n",
    "import numpy as np\n",
    "import json\n",
    "import re"
   ]
  },
  {
   "cell_type": "code",
   "execution_count": null,
   "metadata": {},
   "outputs": [],
   "source": [
    "def strip_df(df):\n",
    "    for i in list(df.index):\n",
    "        for col in df.columns:\n",
    "            if df[col].iloc[i] == df[col].iloc[i]:\n",
    "                df.loc[i, [col]] = str(df[col].iloc[i]).strip()"
   ]
  },
  {
   "cell_type": "markdown",
   "metadata": {},
   "source": [
    "### **Nguyễn Kim**"
   ]
  },
  {
   "cell_type": "code",
   "execution_count": null,
   "metadata": {},
   "outputs": [],
   "source": [
    "nk_df = pd.read_csv(\"Data/nguyenkim.csv\")\n",
    "nk_df.info()"
   ]
  },
  {
   "cell_type": "code",
   "execution_count": null,
   "metadata": {},
   "outputs": [],
   "source": [
    "with open('map_col/nguyenkim.json', \"r\", encoding=\"utf-8\") as infile:\n",
    "        cols = json.load(infile)\n",
    "\n",
    "tranNK_df = pd.DataFrame()\n",
    "\n",
    "for col in cols:\n",
    "    if(len(cols[col]) > 0):\n",
    "        tranNK_df[col] = nk_df[cols[col]]\n",
    "    else:\n",
    "        tranNK_df[col] = np.nan\n",
    "\n",
    "tranNK_df['web'] = 'Nguyen_Kim'\n",
    "\n",
    "strip_df(tranNK_df)"
   ]
  },
  {
   "cell_type": "code",
   "execution_count": null,
   "metadata": {},
   "outputs": [],
   "source": [
    "for i in list(tranNK_df.index):\n",
    "    if len(str(tranNK_df['Kích thước màn hình'].iloc[i]).split('\"')) < 5:\n",
    "        tranNK_df.loc[i, ['Kích thước màn hình']] = str(tranNK_df['Kích thước màn hình'].iloc[i]).split('\"')[0].strip()\n",
    "        tranNK_df.loc[i, ['Kích thước màn hình']] = str(tranNK_df['Kích thước màn hình'].iloc[i]).split(' ')[0].strip()\n",
    "        tranNK_df.loc[i, ['Kích thước màn hình']] = str(tranNK_df['Kích thước màn hình'].iloc[i]).split('”')[0].strip()\n",
    "    else:\n",
    "        tranNK_df.loc[i, ['Kích thước màn hình']] = ''.join(tranNK_df['Kích thước màn hình'].iloc[i].split(\"inches\"))\n",
    "\n",
    "    if str(tranNK_df['Kích thước màn hình'].iloc[i]) == 'nan':\n",
    "        tranNK_df.loc[i, ['Kích thước màn hình']] = np.nan\n",
    "\n",
    "    if str(tranNK_df['Kích thước màn hình'].iloc[i]) == '6,4':\n",
    "        tranNK_df.loc[i, ['Kích thước màn hình']] = '6.4'"
   ]
  },
  {
   "cell_type": "code",
   "execution_count": null,
   "metadata": {},
   "outputs": [],
   "source": [
    "tranNK_df['Kích thước màn hình'].unique()"
   ]
  },
  {
   "cell_type": "code",
   "execution_count": null,
   "metadata": {},
   "outputs": [],
   "source": [
    "for i in list(tranNK_df.index):\n",
    "    if tranNK_df['RAM'].iloc[i] == tranNK_df['RAM'].iloc[i]:\n",
    "        if len(str(tranNK_df['RAM'].iloc[i]).split()) < 3:\n",
    "            tranNK_df.loc[i, ['RAM']] = ''.join(str(tranNK_df['RAM'].iloc[i]).split())\n",
    "        else:\n",
    "            tranNK_df.loc[i, ['RAM']] = ''.join(str(tranNK_df['RAM'].iloc[i]).split())\n",
    "            tranNK_df.loc[i, ['RAM']] = str(tranNK_df['RAM'].iloc[i]).split('DDR3')[0]\n",
    "    \n",
    "    if tranNK_df['Bộ nhớ'].iloc[i] == tranNK_df['Bộ nhớ'].iloc[i]:\n",
    "        if len(str(tranNK_df['Bộ nhớ'].iloc[i]).split()) < 5:\n",
    "            tranNK_df.loc[i, ['Bộ nhớ']] = ''.join(str(tranNK_df['Bộ nhớ'].iloc[i]).split())\n",
    "        else:\n",
    "            tranNK_df.loc[i, ['Bộ nhớ']] = ''.join(str(tranNK_df['Bộ nhớ'].iloc[i]).split())\n",
    "            tranNK_df.loc[i, ['Bộ nhớ']] = str(tranNK_df['Bộ nhớ'].iloc[i]).split('e-')[0]"
   ]
  },
  {
   "cell_type": "code",
   "execution_count": null,
   "metadata": {},
   "outputs": [],
   "source": [
    "tranNK_df['RAM'].unique()"
   ]
  },
  {
   "cell_type": "code",
   "execution_count": null,
   "metadata": {},
   "outputs": [],
   "source": [
    "tranNK_df['Bộ nhớ'].unique()"
   ]
  },
  {
   "cell_type": "code",
   "execution_count": null,
   "metadata": {},
   "outputs": [],
   "source": [
    "tranNK_df[\"Camera trước\"].unique()"
   ]
  },
  {
   "cell_type": "code",
   "execution_count": null,
   "metadata": {},
   "outputs": [],
   "source": [
    "tranNK_df[\"Pin\"].unique()"
   ]
  },
  {
   "cell_type": "code",
   "execution_count": null,
   "metadata": {},
   "outputs": [],
   "source": [
    "for i in list(tranNK_df.index):\n",
    "     if tranNK_df['Camera trước'].iloc[i] == tranNK_df['Camera trước'].iloc[i]:\n",
    "          tranNK_df.loc[i, ['Camera trước']] = ''.join(str(tranNK_df['Camera trước'].iloc[i]).split())\n",
    "          tranNK_df.loc[i, ['Camera trước']] = ' '.join(re.findall(r'[\\d+.0|\\d+]+MP', str(tranNK_df['Camera trước'].iloc[i])))\n",
    "          tranNK_df.loc[i, ['Camera trước']] = ''.join(str(tranNK_df['Camera trước'].iloc[i]).split('.0'))\n",
    "\n",
    "     if tranNK_df['Pin'].iloc[i] == tranNK_df['Pin'].iloc[i]:\n",
    "          tranNK_df.loc[i, ['Pin']] = ''.join(str(tranNK_df['Pin'].iloc[i]).split())\n",
    "          tranNK_df.loc[i, ['Pin']] = ''.join(str(tranNK_df['Pin'].iloc[i]).split('.'))\n",
    "          tranNK_df.loc[i, ['Pin']] = ''.join(str(tranNK_df['Pin'].iloc[i]).split(','))\n",
    "          tranNK_df.loc[i, ['Pin']] = ' '.join(re.findall(r'[\\d+]+mAh', str(tranNK_df['Pin'].iloc[i])))\n",
    "     \n",
    "     if str(tranNK_df['Pin'].iloc[i]) == '':\n",
    "          tranNK_df.loc[i, ['Pin']] = np.nan"
   ]
  },
  {
   "cell_type": "code",
   "execution_count": null,
   "metadata": {},
   "outputs": [],
   "source": [
    "tranNK_df[\"Pin\"].unique()"
   ]
  },
  {
   "cell_type": "code",
   "execution_count": null,
   "metadata": {},
   "outputs": [],
   "source": [
    "tranNK_df[\"Camera trước\"].unique()"
   ]
  },
  {
   "cell_type": "code",
   "execution_count": null,
   "metadata": {},
   "outputs": [],
   "source": [
    "tranNK_df.drop(17, inplace=True)"
   ]
  },
  {
   "cell_type": "markdown",
   "metadata": {},
   "source": [
    "### **TGDĐ**"
   ]
  },
  {
   "cell_type": "code",
   "execution_count": null,
   "metadata": {},
   "outputs": [],
   "source": [
    "tgdd_df = pd.read_csv(\"Data/data_phones_tgdd.csv\")\n",
    "tgdd_df.info()"
   ]
  },
  {
   "cell_type": "code",
   "execution_count": null,
   "metadata": {},
   "outputs": [],
   "source": [
    "with open('map_col/tgdd.json', \"r\", encoding=\"utf-8\") as infile:\n",
    "        cols = json.load(infile)\n",
    "\n",
    "tranTGDD_df = pd.DataFrame()\n",
    "\n",
    "for col in cols:\n",
    "    if(len(cols[col]) > 0):\n",
    "        tranTGDD_df[col] = tgdd_df[cols[col]]\n",
    "    else:\n",
    "        tranTGDD_df[col] = np.nan\n",
    "\n",
    "tranTGDD_df['web'] = 'The_Gioi_Di_Dong'\n",
    "\n",
    "strip_df(tranTGDD_df)"
   ]
  },
  {
   "cell_type": "code",
   "execution_count": null,
   "metadata": {},
   "outputs": [],
   "source": [
    "tranTGDD_df['Kích thước màn hình'].unique()"
   ]
  },
  {
   "cell_type": "code",
   "execution_count": null,
   "metadata": {},
   "outputs": [],
   "source": [
    "for i in list(tranTGDD_df.index):\n",
    "    if len(str(tranTGDD_df['Kích thước màn hình'].iloc[i]).split('\"')) < 3:\n",
    "        tranTGDD_df.loc[i, ['Kích thước màn hình']] = str(tranTGDD_df['Kích thước màn hình'].iloc[i]).split('\"')[0].strip()\n",
    "    else:\n",
    "        tranTGDD_df.loc[i, ['Kích thước màn hình']] = ''.join(tranTGDD_df['Kích thước màn hình'].iloc[i].split('\"'))\n",
    "\n",
    "    if str(tranTGDD_df['Kích thước màn hình'].iloc[i]) == 'nan':\n",
    "        tranTGDD_df.loc[i, ['Kích thước màn hình']] = np.nan\n",
    "\n",
    "    if str(tranTGDD_df['Chipset'].iloc[i]) == 'Không có':\n",
    "        tranTGDD_df.loc[i, ['Chipset']] = np.nan"
   ]
  },
  {
   "cell_type": "code",
   "execution_count": null,
   "metadata": {},
   "outputs": [],
   "source": [
    "tranTGDD_df['Kích thước màn hình'].unique()"
   ]
  },
  {
   "cell_type": "code",
   "execution_count": null,
   "metadata": {},
   "outputs": [],
   "source": [
    "tranTGDD_df[\"Bộ nhớ\"].unique()"
   ]
  },
  {
   "cell_type": "code",
   "execution_count": null,
   "metadata": {},
   "outputs": [],
   "source": [
    "for i in list(tranTGDD_df.index):\n",
    "    if tranTGDD_df['Bộ nhớ'].iloc[i] == tranTGDD_df['Bộ nhớ'].iloc[i]:\n",
    "        if len(str(tranTGDD_df['Bộ nhớ'].iloc[i]).split()) < 5:\n",
    "            tranTGDD_df.loc[i, ['Bộ nhớ']] = ''.join(str(tranTGDD_df['Bộ nhớ'].iloc[i]).split())\n",
    "\n",
    "    if tranTGDD_df['RAM'].iloc[i] == tranTGDD_df['RAM'].iloc[i]:\n",
    "        if len(str(tranTGDD_df['RAM'].iloc[i]).split()) < 3:\n",
    "            tranTGDD_df.loc[i, ['RAM']] = ''.join(str(tranTGDD_df['RAM'].iloc[i]).split())\n",
    "    \n",
    "    if tranTGDD_df['Trọng lượng'].iloc[i] == tranTGDD_df['Trọng lượng'].iloc[i]:\n",
    "        tranTGDD_df.loc[i, ['Trọng lượng']] = ''.join(str(tranTGDD_df['Trọng lượng'].iloc[i]).split()[-2:])"
   ]
  },
  {
   "cell_type": "code",
   "execution_count": null,
   "metadata": {},
   "outputs": [],
   "source": [
    "tranTGDD_df[\"Camera trước\"].unique()"
   ]
  },
  {
   "cell_type": "code",
   "execution_count": null,
   "metadata": {},
   "outputs": [],
   "source": [
    "for i in list(tranTGDD_df.index):\n",
    "     if tranTGDD_df['Camera trước'].iloc[i] == tranTGDD_df['Camera trước'].iloc[i]:\n",
    "          tranTGDD_df.loc[i, ['Camera trước']] = ''.join(str(tranTGDD_df['Camera trước'].iloc[i]).split())\n",
    "\n",
    "          res = re.findall(r'[\\d+.0|\\d+]+MP', str(tranTGDD_df['Camera trước'].iloc[i]))\n",
    "          if len(res) > 0:\n",
    "               tranTGDD_df.loc[i, ['Camera trước']] = ' '.join(res)\n",
    "          else:\n",
    "               res = re.findall(r'\\d+', str(tranTGDD_df['Camera trước'].iloc[i]))\n",
    "               if len(res) > 0:\n",
    "                    tranTGDD_df.loc[i, ['Camera trước']] = 'x'.join(res)\n",
    "               else:\n",
    "                    tranTGDD_df.loc[i, ['Camera trước']] = np.nan\n",
    "\n",
    "     if tranTGDD_df['Pin'].iloc[i] == tranTGDD_df['Pin'].iloc[i]:\n",
    "          tranTGDD_df.loc[i, ['Pin']] = ''.join(str(tranTGDD_df['Pin'].iloc[i]).split())"
   ]
  },
  {
   "cell_type": "code",
   "execution_count": null,
   "metadata": {},
   "outputs": [],
   "source": [
    "tranTGDD_df['Pin'].unique()"
   ]
  },
  {
   "cell_type": "markdown",
   "metadata": {},
   "source": [
    "### **Cellphones**"
   ]
  },
  {
   "cell_type": "code",
   "execution_count": null,
   "metadata": {},
   "outputs": [],
   "source": [
    "CP_df = pd.read_csv(\"Data/Cellphones.csv\")\n",
    "CP_df.info()"
   ]
  },
  {
   "cell_type": "code",
   "execution_count": null,
   "metadata": {},
   "outputs": [],
   "source": [
    "CP_df['web'] = 'Cellphones'\n",
    "strip_df(CP_df)"
   ]
  },
  {
   "cell_type": "code",
   "execution_count": null,
   "metadata": {},
   "outputs": [],
   "source": [
    "CP_df['Kích thước màn hình'].unique()"
   ]
  },
  {
   "cell_type": "code",
   "execution_count": null,
   "metadata": {},
   "outputs": [],
   "source": [
    "for i in list(CP_df.index):\n",
    "    if len(str(CP_df['Kích thước màn hình'].iloc[i]).split('inches')) < 3:\n",
    "        CP_df.loc[i, ['Kích thước màn hình']] = str(CP_df['Kích thước màn hình'].iloc[i]).split('inches')[0].strip()\n",
    "    else:\n",
    "        CP_df.loc[i, ['Kích thước màn hình']] = ''.join(CP_df['Kích thước màn hình'].iloc[i].split(' inches'))\n",
    "\n",
    "    if str(CP_df['Kích thước màn hình'].iloc[i]) == 'nan':\n",
    "        CP_df.loc[i, ['Kích thước màn hình']] = np.nan"
   ]
  },
  {
   "cell_type": "code",
   "execution_count": null,
   "metadata": {},
   "outputs": [],
   "source": [
    "CP_df['Kích thước màn hình'].unique()"
   ]
  },
  {
   "cell_type": "code",
   "execution_count": null,
   "metadata": {},
   "outputs": [],
   "source": [
    "for i in list(CP_df.index):\n",
    "     if CP_df['Camera trước'].iloc[i] == CP_df['Camera trước'].iloc[i]:\n",
    "          CP_df.loc[i, ['Camera trước']] = ''.join(str(CP_df['Camera trước'].iloc[i]).split())\n",
    "\n",
    "          res = re.findall(r'[\\d+.0|\\d+]+MP', str(CP_df['Camera trước'].iloc[i]))\n",
    "          if len(res) > 0:\n",
    "               CP_df.loc[i, ['Camera trước']] = ' '.join(res)\n",
    "          else:\n",
    "               if str(CP_df['Camera trước'].iloc[i]) == '-32.0Mp-Flashmànhình,Nhậndiệnkhuônmặt,Làmđẹp(Beautify),QuayvideoHD,QuayvideoFullHD-Tựđộnglấynét(AF)':\n",
    "                    CP_df.loc[i, ['Camera trước']] = '32MP'\n",
    "               elif str(CP_df['Camera trước'].iloc[i]) == '-Kíchthướcpixel:1,22μm-FOV:80˚--F.Không(khẩuđộ):F2.4':\n",
    "                    CP_df.loc[i, ['Camera trước']] = '1,22μm'\n",
    "          if str(CP_df['Camera trước'].iloc[i]) == '50MP 2.0+8MP':\n",
    "               CP_df.loc[i, ['Camera trước']] = '50MP 8MP'\n",
    "\n",
    "     if CP_df['Pin'].iloc[i] == CP_df['Pin'].iloc[i]:\n",
    "          CP_df.loc[i, ['Pin']] = ''.join(str(CP_df['Pin'].iloc[i]).split())\n",
    "          CP_df.loc[i, ['Pin']] = ''.join(str(CP_df['Pin'].iloc[i]).split('.'))\n",
    "          CP_df.loc[i, ['Pin']] = ''.join(str(CP_df['Pin'].iloc[i]).split(','))\n",
    "          CP_df.loc[i, ['Pin']] = ' '.join(re.findall(r'[\\d+]+mAh', str(CP_df['Pin'].iloc[i])))\n",
    "\n",
    "          if str(CP_df['Pin'].iloc[i]) == '':\n",
    "               CP_df.loc[i, ['Pin']] = np.nan\n",
    "\n",
    "     if str(CP_df['Pin'].iloc[i]) == '04300mAh':\n",
    "          CP_df.loc[i, ['Pin']] = '4300mAh'\n",
    "\n",
    "CP_df.loc[222, ['Pin']] = '3300mAh'\n",
    "     "
   ]
  },
  {
   "cell_type": "code",
   "execution_count": null,
   "metadata": {},
   "outputs": [],
   "source": [
    "CP_df['Camera trước'].unique()"
   ]
  },
  {
   "cell_type": "code",
   "execution_count": null,
   "metadata": {},
   "outputs": [],
   "source": [
    "CP_df['Pin'].unique()"
   ]
  },
  {
   "cell_type": "code",
   "execution_count": null,
   "metadata": {},
   "outputs": [],
   "source": [
    "CP_df.drop(235, inplace=True)\n",
    "CP_df[CP_df['Tên sản phẩm'] == 'POCO F2 PRO 5G (8GB - 256GB)']"
   ]
  },
  {
   "cell_type": "markdown",
   "metadata": {},
   "source": [
    "### **Media Mart**"
   ]
  },
  {
   "cell_type": "code",
   "execution_count": null,
   "metadata": {},
   "outputs": [],
   "source": [
    "mm_df = pd.read_csv(\"Data/mediamart.csv\")\n",
    "mm_df.info()"
   ]
  },
  {
   "cell_type": "code",
   "execution_count": null,
   "metadata": {},
   "outputs": [],
   "source": [
    "with open('map_col/mediaMart.json', \"r\", encoding=\"utf-8\") as infile:\n",
    "        cols = json.load(infile)\n",
    "\n",
    "tranMM_df = pd.DataFrame()\n",
    "\n",
    "for col in cols:\n",
    "    if(len(cols[col]) > 0):\n",
    "        tranMM_df[col] = mm_df[cols[col]]\n",
    "    else:\n",
    "        tranMM_df[col] = np.nan\n",
    "\n",
    "tranMM_df['web'] = 'Media_Mart'\n",
    "\n",
    "strip_df(tranMM_df)"
   ]
  },
  {
   "cell_type": "code",
   "execution_count": null,
   "metadata": {},
   "outputs": [],
   "source": [
    "tranMM_df[\"Bộ nhớ\"].unique()"
   ]
  },
  {
   "cell_type": "code",
   "execution_count": null,
   "metadata": {},
   "outputs": [],
   "source": [
    "tranMM_df[\"Kích thước màn hình\"].unique()"
   ]
  },
  {
   "cell_type": "code",
   "execution_count": null,
   "metadata": {},
   "outputs": [],
   "source": [
    "tranMM_df[\"Kích thước màn hình\"].loc[tranMM_df.query(\"`Kích thước màn hình` == 'Loại màn hình'\").index] = np.nan\n"
   ]
  },
  {
   "cell_type": "code",
   "execution_count": null,
   "metadata": {},
   "outputs": [],
   "source": [
    "for i in list(tranMM_df.index):\n",
    "    if len(str(tranMM_df['Kích thước màn hình'].iloc[i]).split('inch')) < 3:\n",
    "        tranMM_df.loc[i, ['Kích thước màn hình']] = str(tranMM_df['Kích thước màn hình'].iloc[i]).split('inch')[0].strip()\n",
    "    \n",
    "    tranMM_df.loc[i, ['Kích thước màn hình']] = '& '.join(tranMM_df['Kích thước màn hình'].iloc[i].split('/ '))\n",
    "    tranMM_df.loc[i, ['Kích thước màn hình']] = ''.join(tranMM_df['Kích thước màn hình'].iloc[i].split('\"'))\n",
    "\n",
    "    if str(tranMM_df['Kích thước màn hình'].iloc[i]) == 'nan':\n",
    "        tranMM_df.loc[i, ['Kích thước màn hình']] = np.nan"
   ]
  },
  {
   "cell_type": "code",
   "execution_count": null,
   "metadata": {},
   "outputs": [],
   "source": [
    "tranMM_df[\"Kích thước màn hình\"].loc[tranMM_df.query(\"`Kích thước màn hình` == 'Chính 7.59& Phụ 6.23'\").index] = 'Chính 7.59 & Phụ 6.23'"
   ]
  },
  {
   "cell_type": "code",
   "execution_count": null,
   "metadata": {},
   "outputs": [],
   "source": [
    "tranMM_df[\"Kích thước màn hình\"].unique()"
   ]
  },
  {
   "cell_type": "code",
   "execution_count": null,
   "metadata": {},
   "outputs": [],
   "source": [
    "for i in list(tranMM_df.index):\n",
    "    if tranMM_df['Bộ nhớ'].iloc[i] == tranMM_df['Bộ nhớ'].iloc[i]:\n",
    "        if len(str(tranMM_df['Bộ nhớ'].iloc[i]).split()) < 5:\n",
    "            tranMM_df.loc[i, ['Bộ nhớ']] = ''.join(str(tranMM_df['Bộ nhớ'].iloc[i]).split())\n",
    "\n",
    "    if tranMM_df['RAM'].iloc[i] == tranMM_df['RAM'].iloc[i]:\n",
    "        if len(str(tranMM_df['RAM'].iloc[i]).split()) < 3:\n",
    "            tranMM_df.loc[i, ['RAM']] = ''.join(str(tranMM_df['RAM'].iloc[i]).split())\n",
    "\n",
    "    if tranMM_df['Camera trước'].iloc[i] == tranMM_df['Camera trước'].iloc[i]:\n",
    "          tranMM_df.loc[i, ['Camera trước']] = ''.join(str(tranMM_df['Camera trước'].iloc[i]).split())\n",
    "          tranMM_df.loc[i, ['Camera trước']] = ' '.join(re.findall(r'[\\d+.0|\\d+]+MP', str(tranMM_df['Camera trước'].iloc[i])))\n",
    "          tranMM_df.loc[i, ['Camera trước']] = ''.join(str(tranMM_df['Camera trước'].iloc[i]).split('.0'))\n",
    "\n",
    "          if str(tranMM_df['Camera trước'].iloc[i]) == '32MP +8MP':\n",
    "            tranMM_df.loc[i, ['Camera trước']] = '32MP 8MP'\n",
    "\n",
    "    if tranMM_df['Pin'].iloc[i] == tranMM_df['Pin'].iloc[i]:\n",
    "          tranMM_df.loc[i, ['Pin']] = ''.join(str(tranMM_df['Pin'].iloc[i]).split())"
   ]
  },
  {
   "cell_type": "code",
   "execution_count": null,
   "metadata": {},
   "outputs": [],
   "source": [
    "tranMM_df['Camera trước'].unique()"
   ]
  },
  {
   "cell_type": "code",
   "execution_count": null,
   "metadata": {},
   "outputs": [],
   "source": [
    "tranMM_df['Pin'].unique()"
   ]
  },
  {
   "cell_type": "markdown",
   "metadata": {},
   "source": [
    "### **Worldphone**"
   ]
  },
  {
   "cell_type": "code",
   "execution_count": null,
   "metadata": {},
   "outputs": [],
   "source": [
    "w_df = pd.read_csv(\"Data/Worldphone.csv\")\n",
    "w_df.info()"
   ]
  },
  {
   "cell_type": "code",
   "execution_count": null,
   "metadata": {},
   "outputs": [],
   "source": [
    "with open('map_col/worldphone.json', \"r\", encoding=\"utf-8\") as infile:\n",
    "        cols = json.load(infile)\n",
    "\n",
    "tranWP_df = pd.DataFrame()\n",
    "\n",
    "for col in cols:\n",
    "    if(len(cols[col]) > 0):\n",
    "        tranWP_df[col] = w_df[cols[col]]\n",
    "    else:\n",
    "        tranWP_df[col] = np.nan\n",
    "\n",
    "tranWP_df['web'] = 'Worldphone'\n",
    "\n",
    "strip_df(tranWP_df)"
   ]
  },
  {
   "cell_type": "code",
   "execution_count": null,
   "metadata": {},
   "outputs": [],
   "source": [
    "tranWP_df['Kích thước màn hình'].unique()"
   ]
  },
  {
   "cell_type": "code",
   "execution_count": null,
   "metadata": {},
   "outputs": [],
   "source": [
    "for i in list(tranWP_df.index):\n",
    "    if len(str(tranWP_df['Kích thước màn hình'].iloc[i]).split('\"')) < 5:\n",
    "        tranWP_df.loc[i, ['Kích thước màn hình']] = str(tranWP_df['Kích thước màn hình'].iloc[i]).split('\"')[0].strip()\n",
    "\n",
    "    if str(tranWP_df['Kích thước màn hình'].iloc[i]) == 'nan' or str(tranWP_df['Kích thước màn hình'].iloc[i]) == 'Đang cập nhật':\n",
    "        tranWP_df.loc[i, ['Kích thước màn hình']] = np.nan"
   ]
  },
  {
   "cell_type": "code",
   "execution_count": null,
   "metadata": {},
   "outputs": [],
   "source": [
    "tranWP_df['Tên sản phẩm'].unique()"
   ]
  },
  {
   "cell_type": "code",
   "execution_count": null,
   "metadata": {},
   "outputs": [],
   "source": [
    "tranWP_df['Camera trước'].unique()"
   ]
  },
  {
   "cell_type": "code",
   "execution_count": null,
   "metadata": {},
   "outputs": [],
   "source": [
    "for i in list(tranWP_df.index):\n",
    "     if tranWP_df['Camera trước'].iloc[i] == tranWP_df['Camera trước'].iloc[i]:\n",
    "          if str(tranWP_df['Camera trước'].iloc[i])  == 'Chính 8 MP & Phụ TOF 3D' or str(tranWP_df['Camera trước'].iloc[i])  == '8 MP và TOF 3D (2 camera)':\n",
    "               tranWP_df.loc[i, ['Camera trước']] = '8MP & TOF 3D'\n",
    "          elif str(tranWP_df['Camera trước'].iloc[i]) != '4 Ultra pixel':\n",
    "               tranWP_df.loc[i, ['Camera trước']] = ''.join(str(tranWP_df['Camera trước'].iloc[i]).split())\n",
    "               tranWP_df.loc[i, ['Camera trước']] = ' '.join(re.findall(r'[\\d+.0|\\d+]+MP', str(tranWP_df['Camera trước'].iloc[i])))\n",
    "               tranWP_df.loc[i, ['Camera trước']] = ''.join(str(tranWP_df['Camera trước'].iloc[i]).split('.0'))\n",
    "\n",
    "          if str(tranWP_df['Camera trước'].iloc[i]) == '':\n",
    "               tranWP_df.loc[i, ['Camera trước']] = np.nan\n",
    "\n",
    "     if tranWP_df['Pin'].iloc[i] == tranWP_df['Pin'].iloc[i]:\n",
    "          tranWP_df.loc[i, ['Pin']] = ''.join(str(tranWP_df['Pin'].iloc[i]).split())\n",
    "\n"
   ]
  },
  {
   "cell_type": "code",
   "execution_count": null,
   "metadata": {},
   "outputs": [],
   "source": [
    "tranWP_df['Pin'].unique()"
   ]
  },
  {
   "cell_type": "code",
   "execution_count": null,
   "metadata": {},
   "outputs": [],
   "source": [
    "tranWP_df['Camera trước'].unique()"
   ]
  },
  {
   "cell_type": "code",
   "execution_count": null,
   "metadata": {},
   "outputs": [],
   "source": [
    "for i in list(tranWP_df.index):\n",
    "    if tranWP_df['Bộ nhớ'].iloc[i] == tranWP_df['Bộ nhớ'].iloc[i]:\n",
    "        if len(str(tranWP_df['Bộ nhớ'].iloc[i]).split()) < 5:\n",
    "            tranWP_df.loc[i, ['Bộ nhớ']] = ''.join(str(tranWP_df['Bộ nhớ'].iloc[i]).split())\n",
    "\n",
    "    if tranWP_df['RAM'].iloc[i] == tranWP_df['RAM'].iloc[i]:\n",
    "        if len(str(tranWP_df['RAM'].iloc[i]).split()) < 3:\n",
    "            tranWP_df.loc[i, ['RAM']] = ''.join(str(tranWP_df['RAM'].iloc[i]).split())"
   ]
  },
  {
   "cell_type": "code",
   "execution_count": null,
   "metadata": {},
   "outputs": [],
   "source": [
    "tranWP_df.drop(tranWP_df.query(\"`Bộ nhớ` == '64/128GB' or `Bộ nhớ` == '128/512GB' or `Bộ nhớ` == '16/32GB' or `Bộ nhớ` == '64GB,256GB,512GB'\").index, inplace=True)"
   ]
  },
  {
   "cell_type": "code",
   "execution_count": null,
   "metadata": {},
   "outputs": [],
   "source": [
    "tranWP_df.drop(tranWP_df.query(\"`Giá bán` == '0₫'\").index, inplace=True)"
   ]
  },
  {
   "cell_type": "code",
   "execution_count": null,
   "metadata": {},
   "outputs": [],
   "source": [
    "dict = tranWP_df.groupby([\"Tên sản phẩm\"])[\"Camera trước\"].groups\n",
    "\n",
    "for key in dict.keys():\n",
    "    if len(dict[key]) > 0:\n",
    "        tranWP_df.drop(dict[key][1:], inplace=True)"
   ]
  },
  {
   "cell_type": "markdown",
   "metadata": {},
   "source": [
    "### **Save**"
   ]
  },
  {
   "cell_type": "code",
   "execution_count": null,
   "metadata": {},
   "outputs": [],
   "source": [
    "tranNK_df.notnull().sum().sort_values(ascending=False)"
   ]
  },
  {
   "cell_type": "code",
   "execution_count": null,
   "metadata": {},
   "outputs": [],
   "source": [
    "tranTGDD_df.notnull().sum().sort_values(ascending=False)"
   ]
  },
  {
   "cell_type": "code",
   "execution_count": null,
   "metadata": {},
   "outputs": [],
   "source": [
    "CP_df.notnull().sum().sort_values(ascending=False)"
   ]
  },
  {
   "cell_type": "code",
   "execution_count": null,
   "metadata": {},
   "outputs": [],
   "source": [
    "tranMM_df.notnull().sum().sort_values(ascending=False)"
   ]
  },
  {
   "cell_type": "code",
   "execution_count": null,
   "metadata": {},
   "outputs": [],
   "source": [
    "tranWP_df.notnull().sum().sort_values(ascending=False)"
   ]
  },
  {
   "cell_type": "code",
   "execution_count": null,
   "metadata": {},
   "outputs": [],
   "source": [
    "def show_val(df):\n",
    "    print()\n",
    "    print(df[\"Kích thước màn hình\"].unique())\n",
    "    print()\n",
    "    print(df[\"Bộ nhớ\"].unique())\n",
    "    print()\n",
    "    print(df[\"RAM\"].unique())\n",
    "    print()\n",
    "    print(\"-------------------------------------------------------------------------------------------\")\n"
   ]
  },
  {
   "cell_type": "code",
   "execution_count": null,
   "metadata": {},
   "outputs": [],
   "source": [
    "show_val(tranTGDD_df)\n",
    "show_val(CP_df)\n",
    "show_val(tranMM_df)\n",
    "show_val(tranNK_df)\n",
    "show_val(tranWP_df)"
   ]
  },
  {
   "cell_type": "code",
   "execution_count": null,
   "metadata": {},
   "outputs": [],
   "source": [
    "tranTGDD_df.to_csv(r'Data/Tranform_data/tf_tgdd.csv', index=False, header=True)\n",
    "CP_df.to_csv(r'Data/Tranform_data/tf_cellphones.csv', index=False, header=True)\n",
    "tranMM_df.to_csv(r'Data/Tranform_data/tf_media_mart.csv', index=False, header=True)\n",
    "tranNK_df.to_csv(r'Data/Tranform_data/tf_nguyen_kim.csv', index=False, header=True)\n",
    "tranWP_df.to_csv(r'Data/Tranform_data/tf_worldphone.csv', index=False, header=True)"
   ]
  },
  {
   "cell_type": "code",
   "execution_count": null,
   "metadata": {},
   "outputs": [],
   "source": [
    "df = pd.concat([tranTGDD_df, CP_df, tranMM_df, tranNK_df, tranWP_df], ignore_index=True)"
   ]
  },
  {
   "cell_type": "code",
   "execution_count": null,
   "metadata": {},
   "outputs": [],
   "source": [
    "df.notnull().sum().sort_values(ascending=False)"
   ]
  },
  {
   "cell_type": "code",
   "execution_count": null,
   "metadata": {},
   "outputs": [],
   "source": [
    "df.groupby(['Pin', 'Camera trước']).groups.keys()"
   ]
  },
  {
   "cell_type": "code",
   "execution_count": null,
   "metadata": {},
   "outputs": [],
   "source": [
    "for col in df.columns:\n",
    "    print(col + \" : \" + str(len(df[col].unique())))"
   ]
  },
  {
   "cell_type": "markdown",
   "metadata": {},
   "source": [
    "### **Process \"Tên sản phẩm\", \"Chipset\"**"
   ]
  },
  {
   "cell_type": "code",
   "execution_count": null,
   "metadata": {},
   "outputs": [],
   "source": [
    "tranTGDD_df = pd.read_csv('Data/Tranform_data/tf_tgdd.csv')\n",
    "\n",
    "CP_df = pd.read_csv('Data/Tranform_data/tf_cellphones.csv')\n",
    "\n",
    "tranMM_df = pd.read_csv('Data/Tranform_data/tf_media_mart.csv')\n",
    "\n",
    "tranNK_df = pd.read_csv('Data/Tranform_data/tf_nguyen_kim.csv')\n",
    "\n",
    "tranWP_df = pd.read_csv('Data/Tranform_data/tf_worldphone.csv')"
   ]
  },
  {
   "cell_type": "code",
   "execution_count": null,
   "metadata": {},
   "outputs": [],
   "source": [
    "tranWP_df['Kích thước màn hình'] = tranWP_df['Kích thước màn hình'].astype(str)\n",
    "CP_df['Kích thước màn hình'] = CP_df['Kích thước màn hình'].astype(str)\n",
    "tranNK_df['Kích thước màn hình'] = CP_df['Kích thước màn hình'].astype(str)"
   ]
  },
  {
   "cell_type": "code",
   "execution_count": null,
   "metadata": {},
   "outputs": [],
   "source": [
    "tranWP_df['Kích thước màn hình'].unique()"
   ]
  },
  {
   "cell_type": "code",
   "execution_count": null,
   "metadata": {},
   "outputs": [],
   "source": [
    "for i in list(tranNK_df.index):\n",
    "    tranNK_df.loc[i, ['Tên sản phẩm']] = ''.join(str(tranNK_df['Tên sản phẩm'].iloc[i]).split('Điện thoại ')).strip()\n",
    "    tranNK_df.loc[i, ['Tên sản phẩm']] = ' '.join(filter(None, re.split(r'[\\d+.0|\\d+]+[G|T]+B|/| |\\d+G', str(tranNK_df['Tên sản phẩm'].iloc[i]))))\n",
    "    tranNK_df.loc[i, ['Tên sản phẩm']] = str(tranNK_df['Tên sản phẩm'].iloc[i]).upper()\n",
    "\n",
    "    if tranNK_df['Chipset'].iloc[i] == tranNK_df['Chipset'].iloc[i]:\n",
    "        tranNK_df.loc[i, ['Chipset']] = ' '.join(filter(None, re.split(r'\\W', str(tranNK_df['Chipset'].iloc[i]))))\n",
    "\n",
    "\n",
    "for i in list(tranTGDD_df.index):\n",
    "    tranTGDD_df.loc[i, ['Tên sản phẩm']] = ''.join(str(tranTGDD_df['Tên sản phẩm'].iloc[i]).split('Điện thoại ')).strip()\n",
    "    tranTGDD_df.loc[i, ['Tên sản phẩm']] = ' '.join(filter(None, re.split(r'[\\d+.0|\\d+]+[G|T]+B|/| |\\d+G|\\W.*\\W', str(tranTGDD_df['Tên sản phẩm'].iloc[i]))))\n",
    "    tranTGDD_df.loc[i, ['Tên sản phẩm']] = str(tranTGDD_df['Tên sản phẩm'].iloc[i]).upper()\n",
    "\n",
    "    if tranTGDD_df['Chipset'].iloc[i] == tranTGDD_df['Chipset'].iloc[i]:\n",
    "        tranTGDD_df.loc[i, ['Chipset']] = ' '.join(filter(None, re.split(r'\\W', str(tranTGDD_df['Chipset'].iloc[i]))))\n",
    "\n",
    "\n",
    "for i in list(CP_df.index):\n",
    "    CP_df.loc[i, ['Tên sản phẩm']] = ''.join(str(CP_df['Tên sản phẩm'].iloc[i]).split('Điện thoại ')).strip()\n",
    "    CP_df.loc[i, ['Tên sản phẩm']] = ' '.join(filter(None, re.split(r'[\\d+.0|\\d+]+[G|T]+B|/| |\\d+G|\\W.*\\W', str(CP_df['Tên sản phẩm'].iloc[i]))))\n",
    "    CP_df.loc[i, ['Tên sản phẩm']] = str(CP_df['Tên sản phẩm'].iloc[i]).upper()\n",
    "\n",
    "    if CP_df['Chipset'].iloc[i] == CP_df['Chipset'].iloc[i]:\n",
    "        CP_df.loc[i, ['Chipset']] = ' '.join(filter(None, re.split(r'\\W', str(CP_df['Chipset'].iloc[i]))))\n",
    "\n",
    "\n",
    "for i in list(tranMM_df.index):\n",
    "    tranMM_df.loc[i, ['Tên sản phẩm']] = ' '.join(re.split(r'APPLE|Apple|\\Điện thoại |-', str(tranMM_df['Tên sản phẩm'].iloc[i]))).strip()\n",
    "    tranMM_df.loc[i, ['Tên sản phẩm']] = ' '.join(filter(None, re.split(r'[\\d+.0|\\d+]+[G|T]+B|/| |\\d+G|\\W.*\\W', str(tranMM_df['Tên sản phẩm'].iloc[i]))))\n",
    "    tranMM_df.loc[i, ['Tên sản phẩm']] = str(tranMM_df['Tên sản phẩm'].iloc[i]).upper()\n",
    "\n",
    "    if tranMM_df['Chipset'].iloc[i] == tranMM_df['Chipset'].iloc[i]:\n",
    "        tranMM_df.loc[i, ['Chipset']] = ' '.join(filter(None, re.split(r'\\W', str(tranMM_df['Chipset'].iloc[i]))))\n",
    "\n",
    "\n",
    "\n",
    "for i in list(tranWP_df.index):\n",
    "    tranWP_df.loc[i, ['Tên sản phẩm']] = ' '.join(re.split(r'APPLE|Apple|\\Điện thoại |Likenew|99|%|FullBox|Nhật|-|Mỹ|Quốc|Tế|Mới|tế|Hàn|Cũ', str(tranWP_df['Tên sản phẩm'].iloc[i]))).strip()\n",
    "    tranWP_df.loc[i, ['Tên sản phẩm']] = ' '.join(filter(None, re.split(r'[\\d+.0|\\d+]+[G|T]+B|/| |\\d+G|\\W.*\\W', str(tranWP_df['Tên sản phẩm'].iloc[i]))))\n",
    "    tranWP_df.loc[i, ['Tên sản phẩm']] = str(tranWP_df['Tên sản phẩm'].iloc[i]).upper()\n",
    "\n",
    "    if tranWP_df['Chipset'].iloc[i] == tranWP_df['Chipset'].iloc[i]:\n",
    "        tranWP_df.loc[i, ['Chipset']] = ' '.join(filter(None, re.split(r'\\W', str(tranWP_df['Chipset'].iloc[i]))))\n"
   ]
  },
  {
   "cell_type": "code",
   "execution_count": null,
   "metadata": {},
   "outputs": [],
   "source": [
    "tranTGDD_df.to_csv(r'Data/Processed_data/tgdd.csv', index=False, header=True)\n",
    "CP_df.to_csv(r'Data/Processed_data/cellphones.csv', index=False, header=True)\n",
    "tranMM_df.to_csv(r'Data/Processed_data/media_mart.csv', index=False, header=True)\n",
    "tranNK_df.to_csv(r'Data/Processed_data/nguyen_kim.csv', index=False, header=True)\n",
    "tranWP_df.to_csv(r'Data/Processed_data/worldphone.csv', index=False, header=True)"
   ]
  },
  {
   "cell_type": "code",
   "execution_count": null,
   "metadata": {},
   "outputs": [],
   "source": [
    "df = pd.concat([tranTGDD_df, CP_df, tranMM_df, tranNK_df, tranWP_df], ignore_index=True)\n",
    "\n",
    "len(list(df['Tên sản phẩm'].unique()))"
   ]
  },
  {
   "cell_type": "code",
   "execution_count": null,
   "metadata": {},
   "outputs": [],
   "source": [
    "df['Kích thước màn hình'].unique()"
   ]
  },
  {
   "cell_type": "code",
   "execution_count": null,
   "metadata": {},
   "outputs": [],
   "source": [
    "list(CP_df.groupby(['Bộ nhớ', 'RAM', 'Kích thước màn hình', 'Camera trước', 'Pin']).groups.keys())"
   ]
  }
 ],
 "metadata": {
  "kernelspec": {
   "display_name": "Python 3.8.8 ('base')",
   "language": "python",
   "name": "python3"
  },
  "language_info": {
   "codemirror_mode": {
    "name": "ipython",
    "version": 3
   },
   "file_extension": ".py",
   "mimetype": "text/x-python",
   "name": "python",
   "nbconvert_exporter": "python",
   "pygments_lexer": "ipython3",
   "version": "3.8.8"
  },
  "orig_nbformat": 4,
  "vscode": {
   "interpreter": {
    "hash": "bb0ca4744550a54ef6d6f0223fbdf8af236b117fd1588dc9b614ba2a4e01e5ad"
   }
  }
 },
 "nbformat": 4,
 "nbformat_minor": 2
}
