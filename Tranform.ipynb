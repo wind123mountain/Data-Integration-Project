{
 "cells": [
  {
   "cell_type": "code",
   "execution_count": 1,
   "metadata": {},
   "outputs": [],
   "source": [
    "import pandas as pd\n",
    "import numpy as np\n",
    "import json"
   ]
  },
  {
   "cell_type": "code",
   "execution_count": 2,
   "metadata": {},
   "outputs": [],
   "source": [
    "def strip_df(df):\n",
    "    for i in list(df.index):\n",
    "        for col in df.columns:\n",
    "            if df[col].iloc[i] == df[col].iloc[i]:\n",
    "                df.loc[i, [col]] = str(df[col].iloc[i]).strip()"
   ]
  },
  {
   "cell_type": "markdown",
   "metadata": {},
   "source": [
    "### **Nguyễn Kim**"
   ]
  },
  {
   "cell_type": "code",
   "execution_count": 3,
   "metadata": {},
   "outputs": [
    {
     "name": "stdout",
     "output_type": "stream",
     "text": [
      "<class 'pandas.core.frame.DataFrame'>\n",
      "RangeIndex: 141 entries, 0 to 140\n",
      "Data columns (total 50 columns):\n",
      " #   Column                   Non-Null Count  Dtype  \n",
      "---  ------                   --------------  -----  \n",
      " 0   Url                      141 non-null    object \n",
      " 1   Tên sản phẩm             141 non-null    object \n",
      " 2   Giá                      141 non-null    object \n",
      " 3   Ảnh                      141 non-null    object \n",
      " 4   Model:                   141 non-null    object \n",
      " 5   Màu sắc:                 141 non-null    object \n",
      " 6   Nhà sản xuất:            141 non-null    object \n",
      " 7   Xuất xứ:                 141 non-null    object \n",
      " 8   Thời gian bảo hành:      141 non-null    object \n",
      " 9   Địa điểm bảo hành:       141 non-null    object \n",
      " 10  Hệ điều hành:            89 non-null     object \n",
      " 11  Chipset:                 125 non-null    object \n",
      " 12  RAM:                     138 non-null    object \n",
      " 13  Bộ nhớ trong:            141 non-null    object \n",
      " 14  Hỗ trợ thẻ nhớ ngoài:    32 non-null     object \n",
      " 15  Loại màn hình:           121 non-null    object \n",
      " 16  Kích thước màn hình:     140 non-null    object \n",
      " 17  Độ phân giải màn hình:   88 non-null     object \n",
      " 18  Camera trước:            137 non-null    object \n",
      " 19  Camera sau:              133 non-null    object \n",
      " 20  Đèn Flash:               53 non-null     object \n",
      " 21  Số khe SIM:              28 non-null     object \n",
      " 22  WIFI:                    60 non-null     object \n",
      " 23  Bluetooth:               58 non-null     object \n",
      " 24  GPS:                     49 non-null     object \n",
      " 25  Dung lượng Pin:          114 non-null    object \n",
      " 26  Mở khóa nhanh:           68 non-null     object \n",
      " 27  Kích thước sản phẩm:     62 non-null     object \n",
      " 28  Loa ngoài:               13 non-null     object \n",
      " 29  CPU:                     9 non-null      object \n",
      " 30  Video:                   21 non-null     object \n",
      " 31  Mạng 4G:                 31 non-null     object \n",
      " 32  Loại SIM:                40 non-null     object \n",
      " 33  NFC:                     27 non-null     object \n",
      " 34  USB:                     43 non-null     object \n",
      " 35  Năm ra mắt :             40 non-null     float64\n",
      " 36  Cảm ứng:                 39 non-null     object \n",
      " 37  Mạng 3G:                 8 non-null      object \n",
      " 38  Tiện ích khác ĐTDĐ:      18 non-null     object \n",
      " 39  Chống nước:              43 non-null     object \n",
      " 40  Độ dày:                  6 non-null      object \n",
      " 41  Thiết kế:                32 non-null     object \n",
      " 42  Ghi âm:                  10 non-null     object \n",
      " 43  Radio:                   11 non-null     object \n",
      " 44  Màn hình tràn viền:  10 non-null     object \n",
      " 45  Jack 3.5mm:              19 non-null     object \n",
      " 46  Chiều dài:               13 non-null     object \n",
      " 47  Chiều rộng:              13 non-null     object \n",
      " 48  Chiều cao:               8 non-null      object \n",
      " 49  Chiều sâu:               2 non-null      object \n",
      "dtypes: float64(1), object(49)\n",
      "memory usage: 55.2+ KB\n"
     ]
    }
   ],
   "source": [
    "nk_df = pd.read_csv(\"Data/nguyenkim.csv\")\n",
    "nk_df.info()"
   ]
  },
  {
   "cell_type": "code",
   "execution_count": 4,
   "metadata": {},
   "outputs": [],
   "source": [
    "with open('map_col/nguyenkim.json', \"r\", encoding=\"utf-8\") as infile:\n",
    "        cols = json.load(infile)\n",
    "\n",
    "tranNK_df = pd.DataFrame()\n",
    "\n",
    "for col in cols:\n",
    "    if(len(cols[col]) > 0):\n",
    "        tranNK_df[col] = nk_df[cols[col]]\n",
    "    else:\n",
    "        tranNK_df[col] = np.nan\n",
    "\n",
    "strip_df(tranNK_df)"
   ]
  },
  {
   "cell_type": "code",
   "execution_count": 5,
   "metadata": {},
   "outputs": [],
   "source": [
    "for i in list(tranNK_df.index):\n",
    "    if len(str(tranNK_df['Kích thước màn hình'].iloc[i]).split('\"')) < 5:\n",
    "        tranNK_df.loc[i, ['Kích thước màn hình']] = str(tranNK_df['Kích thước màn hình'].iloc[i]).split('\"')[0].strip()\n",
    "        tranNK_df.loc[i, ['Kích thước màn hình']] = str(tranNK_df['Kích thước màn hình'].iloc[i]).split(' ')[0].strip()\n",
    "        tranNK_df.loc[i, ['Kích thước màn hình']] = str(tranNK_df['Kích thước màn hình'].iloc[i]).split('”')[0].strip()\n",
    "    else:\n",
    "        tranNK_df.loc[i, ['Kích thước màn hình']] = ''.join(tranNK_df['Kích thước màn hình'].iloc[i].split(\"inches\"))\n",
    "\n",
    "    if str(tranNK_df['Kích thước màn hình'].iloc[i]) == 'nan':\n",
    "        tranNK_df.loc[i, ['Kích thước màn hình']] = np.nan"
   ]
  },
  {
   "cell_type": "code",
   "execution_count": 6,
   "metadata": {},
   "outputs": [
    {
     "data": {
      "text/plain": [
       "array(['6.43', '6.6', '6.5', '6,4', '6.52', '6.44', '6.4', '6.1', '6.51',\n",
       "       '6.9', '6.53', '6.67', '6.8', '6.7', '6.82', '6.56', '6.58', nan,\n",
       "       '5.4'], dtype=object)"
      ]
     },
     "execution_count": 6,
     "metadata": {},
     "output_type": "execute_result"
    }
   ],
   "source": [
    "tranNK_df['Kích thước màn hình'].unique()"
   ]
  },
  {
   "cell_type": "code",
   "execution_count": 7,
   "metadata": {},
   "outputs": [],
   "source": [
    "for i in list(tranNK_df.index):\n",
    "    if tranNK_df['RAM'].iloc[i] == tranNK_df['RAM'].iloc[i]:\n",
    "        if len(str(tranNK_df['RAM'].iloc[i]).split()) < 3:\n",
    "            tranNK_df.loc[i, ['RAM']] = ''.join(str(tranNK_df['RAM'].iloc[i]).split())\n",
    "        else:\n",
    "            tranNK_df.loc[i, ['RAM']] = ''.join(str(tranNK_df['RAM'].iloc[i]).split())\n",
    "            tranNK_df.loc[i, ['RAM']] = str(tranNK_df['RAM'].iloc[i]).split('DDR3')[0]\n",
    "    \n",
    "    if tranNK_df['Bộ nhớ'].iloc[i] == tranNK_df['Bộ nhớ'].iloc[i]:\n",
    "        if len(str(tranNK_df['Bộ nhớ'].iloc[i]).split()) < 5:\n",
    "            tranNK_df.loc[i, ['Bộ nhớ']] = ''.join(str(tranNK_df['Bộ nhớ'].iloc[i]).split())\n",
    "        else:\n",
    "            tranNK_df.loc[i, ['Bộ nhớ']] = ''.join(str(tranNK_df['Bộ nhớ'].iloc[i]).split())\n",
    "            tranNK_df.loc[i, ['Bộ nhớ']] = str(tranNK_df['Bộ nhớ'].iloc[i]).split('e-')[0]"
   ]
  },
  {
   "cell_type": "code",
   "execution_count": 8,
   "metadata": {},
   "outputs": [
    {
     "data": {
      "text/plain": [
       "array(['8GB', '4GB', '6GB', nan, '3GB', '12GB', '2GB'], dtype=object)"
      ]
     },
     "execution_count": 8,
     "metadata": {},
     "output_type": "execute_result"
    }
   ],
   "source": [
    "tranNK_df['RAM'].unique()"
   ]
  },
  {
   "cell_type": "code",
   "execution_count": 9,
   "metadata": {},
   "outputs": [
    {
     "data": {
      "text/plain": [
       "array(['128GB', '64GB', '32GB', '256GB', '512GB', '1TB'], dtype=object)"
      ]
     },
     "execution_count": 9,
     "metadata": {},
     "output_type": "execute_result"
    }
   ],
   "source": [
    "tranNK_df['Bộ nhớ'].unique()"
   ]
  },
  {
   "cell_type": "code",
   "execution_count": 10,
   "metadata": {},
   "outputs": [
    {
     "data": {
      "text/plain": [
       "array(['32MP', '8.0MP', '5 MP', '13.0 MP', '5MP F2.2', '8MP', '44MP',\n",
       "       '32.0MP', '20MP', '12 MP', '32 MP', '12 MP, ƒ/2.2 aperture',\n",
       "       '40 MP', 'f/2.0 (8MP)', '16MP', '12MP', '40MP', '10 MP',\n",
       "       'Ống kính 40MP AF F2.2', '16 MP', '13 MP',\n",
       "       '5MP, f2.2 với đèn Flash', nan, '8 MP', '50MP',\n",
       "       'Ẩn dưới màn hình chính: UDC, 4MP, FF, F1.8; Màn hình phụ: HID, 10MP, FF, F2.2'],\n",
       "      dtype=object)"
      ]
     },
     "execution_count": 10,
     "metadata": {},
     "output_type": "execute_result"
    }
   ],
   "source": [
    "tranNK_df[\"Camera trước\"].unique()"
   ]
  },
  {
   "cell_type": "markdown",
   "metadata": {},
   "source": [
    "### **TGDĐ**"
   ]
  },
  {
   "cell_type": "code",
   "execution_count": 11,
   "metadata": {},
   "outputs": [
    {
     "name": "stdout",
     "output_type": "stream",
     "text": [
      "<class 'pandas.core.frame.DataFrame'>\n",
      "RangeIndex: 91 entries, 0 to 90\n",
      "Data columns (total 47 columns):\n",
      " #   Column                            Non-Null Count  Dtype  \n",
      "---  ------                            --------------  -----  \n",
      " 0   Name                              91 non-null     object \n",
      " 1   Price                             91 non-null     float64\n",
      " 2   priceValidUntil                   91 non-null     object \n",
      " 3   Công nghệ màn hình                91 non-null     object \n",
      " 4   Độ phân giải                      91 non-null     object \n",
      " 5   Độ sáng tối đa                    80 non-null     object \n",
      " 6   Mặt kính cảm ứng                  91 non-null     object \n",
      " 7   Quay phim                         85 non-null     object \n",
      " 8   Đèn Flash                         86 non-null     object \n",
      " 9   Tính năng                         81 non-null     object \n",
      " 10  Hệ điều hành                      88 non-null     object \n",
      " 11  Chip xử lý (CPU)                  87 non-null     object \n",
      " 12  Tốc độ CPU                        80 non-null     object \n",
      " 13  Chip đồ họa (GPU)                 81 non-null     object \n",
      " 14  RAM                               88 non-null     object \n",
      " 15  Bộ nhớ trong                      88 non-null     object \n",
      " 16  Bộ nhớ còn lại (khả dụng) khoảng  78 non-null     object \n",
      " 17  Danh bạ                           91 non-null     object \n",
      " 18  Mạng di động                      91 non-null     object \n",
      " 19  SIM                               91 non-null     object \n",
      " 20  Wifi                              87 non-null     object \n",
      " 21  GPS                               86 non-null     object \n",
      " 22  Bluetooth                         88 non-null     object \n",
      " 23  Cổng kết nối/sạc              91 non-null     object \n",
      " 24  Jack tai nghe                     88 non-null     object \n",
      " 25  Kết nối khác                      79 non-null     object \n",
      " 26  Dung lượng pin                    91 non-null     object \n",
      " 27  Loại pin                          91 non-null     object \n",
      " 28  Hỗ trợ sạc tối đa                 84 non-null     object \n",
      " 29  Công nghệ pin                     80 non-null     object \n",
      " 30  Bảo mật nâng cao                  83 non-null     object \n",
      " 31  Tính năng đặc biệt                63 non-null     object \n",
      " 32  Kháng nước, bụi                   65 non-null     object \n",
      " 33  Ghi âm                            84 non-null     object \n",
      " 34  Xem phim                          88 non-null     object \n",
      " 35  Nghe nhạc                         89 non-null     object \n",
      " 36  Thiết kế                          91 non-null     object \n",
      " 37  Chất liệu                         91 non-null     object \n",
      " 38  Thời điểm ra mắt                  91 non-null     object \n",
      " 39  Thẻ nhớ                           64 non-null     object \n",
      " 40  Sạc kèm theo máy                  68 non-null     object \n",
      " 41  Radio                             48 non-null     object \n",
      " 42  Hãng                              26 non-null     object \n",
      " 43  Màn hình rộng                     91 non-null     object \n",
      " 44  Tần số quét                       81 non-null     object \n",
      " 45  Kích thước                        91 non-null     object \n",
      " 46  Khối lượng                        91 non-null     object \n",
      "dtypes: float64(1), object(46)\n",
      "memory usage: 33.5+ KB\n"
     ]
    }
   ],
   "source": [
    "tgdd_df = pd.read_csv(\"Data/data_phones_tgdd.csv\")\n",
    "tgdd_df.info()"
   ]
  },
  {
   "cell_type": "code",
   "execution_count": 12,
   "metadata": {},
   "outputs": [],
   "source": [
    "with open('map_col/tgdd.json', \"r\", encoding=\"utf-8\") as infile:\n",
    "        cols = json.load(infile)\n",
    "\n",
    "tranTGDD_df = pd.DataFrame()\n",
    "\n",
    "for col in cols:\n",
    "    if(len(cols[col]) > 0):\n",
    "        tranTGDD_df[col] = tgdd_df[cols[col]]\n",
    "    else:\n",
    "        tranTGDD_df[col] = np.nan\n",
    "\n",
    "strip_df(tranTGDD_df)"
   ]
  },
  {
   "cell_type": "code",
   "execution_count": 13,
   "metadata": {},
   "outputs": [
    {
     "data": {
      "text/plain": [
       "array(['6.1\"', '6.7\"', '5.4\"', '4.7\"', '6.8\"', '6.5\"',\n",
       "       'Chính 7.6\" & Phụ 6.2\"', '6.6\"', 'Chính 6.7\" & Phụ 1.9\"', '6.4\"',\n",
       "       '6.43\"', '6.56\"', '6.52\"', '6.67\"', '6.28\"', '6.55\"', '6.53\"',\n",
       "       '6.71\"', '6.51\"', '6.44\"', '6.58\"', '6.82\"', '2.4\"', '1.8\"',\n",
       "       '1.77\"', '2\"'], dtype=object)"
      ]
     },
     "execution_count": 13,
     "metadata": {},
     "output_type": "execute_result"
    }
   ],
   "source": [
    "tranTGDD_df['Kích thước màn hình'].unique()"
   ]
  },
  {
   "cell_type": "code",
   "execution_count": 14,
   "metadata": {},
   "outputs": [],
   "source": [
    "for i in list(tranTGDD_df.index):\n",
    "    if len(str(tranTGDD_df['Kích thước màn hình'].iloc[i]).split('\"')) < 3:\n",
    "        tranTGDD_df.loc[i, ['Kích thước màn hình']] = str(tranTGDD_df['Kích thước màn hình'].iloc[i]).split('\"')[0].strip()\n",
    "    else:\n",
    "        tranTGDD_df.loc[i, ['Kích thước màn hình']] = ''.join(tranTGDD_df['Kích thước màn hình'].iloc[i].split('\"'))\n",
    "\n",
    "    if str(tranTGDD_df['Kích thước màn hình'].iloc[i]) == 'nan':\n",
    "        tranTGDD_df.loc[i, ['Kích thước màn hình']] = np.nan"
   ]
  },
  {
   "cell_type": "code",
   "execution_count": 15,
   "metadata": {},
   "outputs": [
    {
     "data": {
      "text/plain": [
       "array(['Nặng 194 g', 'Nặng 240 g', 'Nặng 228 g', 'Nặng 204 g',\n",
       "       'Nặng 189 g', 'Nặng 174 g', 'Nặng 141 g', 'Nặng 135 g',\n",
       "       'Nặng 164 g', 'Nặng 144 g', 'Nặng 148 g', 'Nặng 196 g',\n",
       "       'Nặng 271 g', 'Nặng 195 g', 'Nặng 167 g', 'Nặng 183 g',\n",
       "       'Nặng 192 g', 'Nặng 176 g', 'Nặng 177 g', 'Nặng 181 g',\n",
       "       'Nặng 190 g', 'Nặng 186 g', 'Nặng 198 g', 'Nặng 213 g',\n",
       "       'Nặng 184 g', 'Nặng 173 g', 'Nặng 193 g', 'Nặng 218 g',\n",
       "       'Nặng 161 g', 'Nặng 182 g', 'Nặng 180 g', 'Nặng 175 g',\n",
       "       'Nặng 203 g', 'Nặng 202 g', 'Nặng 158 g', 'Nặng 178.8 g',\n",
       "       'Nặng 179 g', 'Nặng 172 g', 'Nặng 178 g', 'Nặng 200 g',\n",
       "       'Nặng 237 g', 'Nặng 191 g', 'Nặng 90.3 g', 'Nặng 84.5 g',\n",
       "       'Nặng 80.2 g', 'Nặng 73 g', 'Nặng 108.5 g', 'Nặng 95 g',\n",
       "       'Nặng 146.2 g', 'Nặng 153 g', 'Nặng 124 g', 'Nặng 100 g',\n",
       "       'Nặng 75 g'], dtype=object)"
      ]
     },
     "execution_count": 15,
     "metadata": {},
     "output_type": "execute_result"
    }
   ],
   "source": [
    "tranTGDD_df[\"Trọng lượng\"].unique()"
   ]
  },
  {
   "cell_type": "code",
   "execution_count": 16,
   "metadata": {},
   "outputs": [
    {
     "data": {
      "text/plain": [
       "array(['64 GB', '128 GB', '512 GB', '256 GB', '32 GB', nan, '128 MB',\n",
       "       '24 MB', '256 MB'], dtype=object)"
      ]
     },
     "execution_count": 16,
     "metadata": {},
     "output_type": "execute_result"
    }
   ],
   "source": [
    "tranTGDD_df[\"Bộ nhớ\"].unique()"
   ]
  },
  {
   "cell_type": "code",
   "execution_count": 17,
   "metadata": {},
   "outputs": [],
   "source": [
    "for i in list(tranTGDD_df.index):\n",
    "    if tranTGDD_df['Bộ nhớ'].iloc[i] == tranTGDD_df['Bộ nhớ'].iloc[i]:\n",
    "        if len(str(tranTGDD_df['Bộ nhớ'].iloc[i]).split()) < 5:\n",
    "            tranTGDD_df.loc[i, ['Bộ nhớ']] = ''.join(str(tranTGDD_df['Bộ nhớ'].iloc[i]).split())\n",
    "\n",
    "    if tranTGDD_df['RAM'].iloc[i] == tranTGDD_df['RAM'].iloc[i]:\n",
    "        if len(str(tranTGDD_df['RAM'].iloc[i]).split()) < 3:\n",
    "            tranTGDD_df.loc[i, ['RAM']] = ''.join(str(tranTGDD_df['RAM'].iloc[i]).split())\n",
    "    \n",
    "    if tranTGDD_df['Trọng lượng'].iloc[i] == tranTGDD_df['Trọng lượng'].iloc[i]:\n",
    "        tranTGDD_df.loc[i, ['Trọng lượng']] = ''.join(str(tranTGDD_df['Trọng lượng'].iloc[i]).split()[-2:])"
   ]
  },
  {
   "cell_type": "markdown",
   "metadata": {},
   "source": [
    "### **Cellphones**"
   ]
  },
  {
   "cell_type": "code",
   "execution_count": 18,
   "metadata": {},
   "outputs": [
    {
     "name": "stdout",
     "output_type": "stream",
     "text": [
      "<class 'pandas.core.frame.DataFrame'>\n",
      "RangeIndex: 274 entries, 0 to 273\n",
      "Data columns (total 21 columns):\n",
      " #   Column                 Non-Null Count  Dtype \n",
      "---  ------                 --------------  ----- \n",
      " 0   Tên sản phẩm           274 non-null    object\n",
      " 1   Giá gốc                274 non-null    int64 \n",
      " 2   Giá bán                274 non-null    int64 \n",
      " 3   Kích thước màn hình    271 non-null    object\n",
      " 4   RAM                    255 non-null    object\n",
      " 5   Bộ nhớ                 269 non-null    object\n",
      " 6   Chipset                265 non-null    object\n",
      " 7   Pin                    272 non-null    object\n",
      " 8   Kích thước             263 non-null    object\n",
      " 9   Bluetooth              263 non-null    object\n",
      " 10  Camera trước           263 non-null    object\n",
      " 11  Wi-Fi                  262 non-null    object\n",
      " 12  Hệ điều hành           260 non-null    object\n",
      " 13  Độ phân giải màn hình  256 non-null    object\n",
      " 14  Tần số quét            169 non-null    object\n",
      " 15  Trọng lượng            256 non-null    object\n",
      " 16  Quay video             249 non-null    object\n",
      " 17  GPU                    244 non-null    object\n",
      " 18  Cổng sạc               212 non-null    object\n",
      " 19  url                    274 non-null    object\n",
      " 20  image_url              274 non-null    object\n",
      "dtypes: int64(2), object(19)\n",
      "memory usage: 45.1+ KB\n"
     ]
    }
   ],
   "source": [
    "CP_df = pd.read_csv(\"Data/Cellphones.csv\")\n",
    "CP_df.info()"
   ]
  },
  {
   "cell_type": "code",
   "execution_count": 19,
   "metadata": {},
   "outputs": [
    {
     "data": {
      "text/plain": [
       "array(['6.7 inches', '6.1 inches', '6.43 inches', '6.8 inches',\n",
       "       '6.67 inches', '6.6 inches', '6.9 inches', '6.55 inches',\n",
       "       '6.58 inches', '4.7 inches', '6.39 inches', '6.4 inches',\n",
       "       '6.78 inches', '6.28 inches', '6.5 inches', '5.4 inches',\n",
       "       '6.53 inches', '6.73 inches', '6.71 inches', '6.51 inches',\n",
       "       '7.6 inches', '6.59 inches', nan, '6.44 inches', '6.82 inches',\n",
       "       '6.52 inches', '6.49 inches', '1.77 inches', '6.56 inches',\n",
       "       '6.81 inches', '1.8 inches', '6.22 inches',\n",
       "       'Chính: 7.6 inches & Phụ: 6.23 inches', '5.5 inches', '2.4 inches',\n",
       "       '5.8 inches', '6.26 inches', '6.2 inches', '5.7 inches',\n",
       "       '5.3 inches', '6.0 inches', '6.47 inches', '6.09 inches'],\n",
       "      dtype=object)"
      ]
     },
     "execution_count": 19,
     "metadata": {},
     "output_type": "execute_result"
    }
   ],
   "source": [
    "CP_df['Kích thước màn hình'].unique()"
   ]
  },
  {
   "cell_type": "code",
   "execution_count": 20,
   "metadata": {},
   "outputs": [],
   "source": [
    "for i in list(CP_df.index):\n",
    "    if len(str(CP_df['Kích thước màn hình'].iloc[i]).split('inches')) < 3:\n",
    "        CP_df.loc[i, ['Kích thước màn hình']] = str(CP_df['Kích thước màn hình'].iloc[i]).split('inches')[0].strip()\n",
    "    else:\n",
    "        CP_df.loc[i, ['Kích thước màn hình']] = ''.join(CP_df['Kích thước màn hình'].iloc[i].split(' inches'))\n",
    "\n",
    "    if str(CP_df['Kích thước màn hình'].iloc[i]) == 'nan':\n",
    "        CP_df.loc[i, ['Kích thước màn hình']] = np.nan"
   ]
  },
  {
   "cell_type": "markdown",
   "metadata": {},
   "source": [
    "### **Media Mart**"
   ]
  },
  {
   "cell_type": "code",
   "execution_count": 21,
   "metadata": {},
   "outputs": [
    {
     "name": "stdout",
     "output_type": "stream",
     "text": [
      "<class 'pandas.core.frame.DataFrame'>\n",
      "RangeIndex: 147 entries, 0 to 146\n",
      "Data columns (total 56 columns):\n",
      " #   Column                Non-Null Count  Dtype \n",
      "---  ------                --------------  ----- \n",
      " 0   name                  147 non-null    object\n",
      " 1   url                   147 non-null    object\n",
      " 2   image_link            147 non-null    object\n",
      " 3   Thương hiệu           144 non-null    object\n",
      " 4   Mã sản phẩm           144 non-null    object\n",
      " 5   Hộp máy gồm           82 non-null     object\n",
      " 6   Công nghệ màn hình    142 non-null    object\n",
      " 7   Độ phân giải          142 non-null    object\n",
      " 8   Màn hình              144 non-null    object\n",
      " 9   Cảm ứng               39 non-null     object\n",
      " 10  Mặt kính cảm ứng      123 non-null    object\n",
      " 11  Camera sau            140 non-null    object\n",
      " 12  Quay phim             131 non-null    object\n",
      " 13  Đèn Flash             118 non-null    object\n",
      " 14  Chụp ảnh nâng cao     136 non-null    object\n",
      " 15  Camera trước          142 non-null    object\n",
      " 16  Videocall             121 non-null    object\n",
      " 17  Thông tin khác        123 non-null    object\n",
      " 18  Hệ điều hành          142 non-null    object\n",
      " 19  CPU                   136 non-null    object\n",
      " 20  Số nhân               140 non-null    object\n",
      " 21  Tốc độ tối đa         87 non-null     object\n",
      " 22  RAM                   145 non-null    object\n",
      " 23  Bộ nhớ                143 non-null    object\n",
      " 24  Băng tần 2G           24 non-null     object\n",
      " 25  Băng tần 3G           27 non-null     object\n",
      " 26  Hỗ trợ 4G           74 non-null     object\n",
      " 27  Số khe sim            142 non-null    object\n",
      " 28  Wifi                  141 non-null    object\n",
      " 29  GPS                   144 non-null    object\n",
      " 30  Bluetooth             141 non-null    object\n",
      " 31  NFC                   13 non-null     object\n",
      " 32  Cổng kết nối/sạc  138 non-null    object\n",
      " 33  Kết nối khác          118 non-null    object\n",
      " 34  Thiết kế              140 non-null    object\n",
      " 35  Chất liệu             107 non-null    object\n",
      " 36  Dung lượng pin        120 non-null    object\n",
      " 37  Tính năng đặc biệt    125 non-null    object\n",
      " 38  Xem phim              35 non-null     object\n",
      " 39  Nghe nhạc             35 non-null     object\n",
      " 40  Chức năng khác        118 non-null    object\n",
      " 41  Bảo hành              142 non-null    object\n",
      " 42  price                 147 non-null    int64 \n",
      " 43  Tần số quét           53 non-null     object\n",
      " 44  Nền tảng              120 non-null    object\n",
      " 45  Chip đồ họa (GPU)     114 non-null    object\n",
      " 46  Thẻ nhớ ngoài         65 non-null     object\n",
      " 47  Jack tai nghe         124 non-null    object\n",
      " 48  Loại pin              117 non-null    object\n",
      " 49  Xuất xứ               57 non-null     object\n",
      " 50  Hỗ trợ thẻ tối đa     48 non-null     object\n",
      " 51  Ghi âm                51 non-null     object\n",
      " 52  Radio                 25 non-null     object\n",
      " 53  Hỗ Trợ 5G             59 non-null     object\n",
      " 54  Chống nước            41 non-null     object\n",
      " 55  Loại Sim              42 non-null     object\n",
      "dtypes: int64(1), object(55)\n",
      "memory usage: 64.4+ KB\n"
     ]
    }
   ],
   "source": [
    "mm_df = pd.read_csv(\"Data/mediamart.csv\")\n",
    "mm_df.info()"
   ]
  },
  {
   "cell_type": "code",
   "execution_count": 22,
   "metadata": {},
   "outputs": [
    {
     "data": {
      "text/plain": [
       "Index(['name', 'url', 'image_link', 'Thương hiệu', 'Mã sản phẩm',\n",
       "       'Hộp máy gồm', 'Công nghệ màn hình', 'Độ phân giải', 'Màn hình',\n",
       "       'Cảm ứng', 'Mặt kính cảm ứng', 'Camera sau', 'Quay phim', 'Đèn Flash',\n",
       "       'Chụp ảnh nâng cao', 'Camera trước', 'Videocall', 'Thông tin khác',\n",
       "       'Hệ điều hành', 'CPU', 'Số nhân', 'Tốc độ tối đa', 'RAM', 'Bộ nhớ',\n",
       "       'Băng tần 2G', 'Băng tần 3G', 'Hỗ trợ 4G', 'Số khe sim', 'Wifi',\n",
       "       'GPS', 'Bluetooth', 'NFC', 'Cổng kết nối/sạc', 'Kết nối khác',\n",
       "       'Thiết kế', 'Chất liệu', 'Dung lượng pin', 'Tính năng đặc biệt',\n",
       "       'Xem phim', 'Nghe nhạc', 'Chức năng khác', 'Bảo hành', 'price',\n",
       "       'Tần số quét', 'Nền tảng', 'Chip đồ họa (GPU)', 'Thẻ nhớ ngoài',\n",
       "       'Jack tai nghe', 'Loại pin', 'Xuất xứ', 'Hỗ trợ thẻ tối đa', 'Ghi âm',\n",
       "       'Radio', 'Hỗ Trợ 5G', 'Chống nước', 'Loại Sim'],\n",
       "      dtype='object')"
      ]
     },
     "execution_count": 22,
     "metadata": {},
     "output_type": "execute_result"
    }
   ],
   "source": [
    "mm_df.columns"
   ]
  },
  {
   "cell_type": "code",
   "execution_count": 23,
   "metadata": {},
   "outputs": [],
   "source": [
    "with open('map_col/mediaMart.json', \"r\", encoding=\"utf-8\") as infile:\n",
    "        cols = json.load(infile)\n",
    "\n",
    "tranMM_df = pd.DataFrame()\n",
    "\n",
    "for col in cols:\n",
    "    if(len(cols[col]) > 0):\n",
    "        tranMM_df[col] = mm_df[cols[col]]\n",
    "    else:\n",
    "        tranMM_df[col] = np.nan\n",
    "\n",
    "strip_df(tranMM_df)"
   ]
  },
  {
   "cell_type": "code",
   "execution_count": 24,
   "metadata": {},
   "outputs": [
    {
     "data": {
      "text/plain": [
       "array(['64 GB', '128 GB', '32 GB', '256 GB', '512 GB', nan, '8 GB',\n",
       "       '1 TB'], dtype=object)"
      ]
     },
     "execution_count": 24,
     "metadata": {},
     "output_type": "execute_result"
    }
   ],
   "source": [
    "tranMM_df[\"Bộ nhớ\"].unique()"
   ]
  },
  {
   "cell_type": "code",
   "execution_count": 25,
   "metadata": {},
   "outputs": [
    {
     "data": {
      "text/plain": [
       "array(['6.1 inch', '6.6 inch', '6.51 inch', '6.53 inch', '6.7 inch',\n",
       "       '6.52 inch', '6.5 inch', '6.43 inch', '6.4 inch', '6.8 inch',\n",
       "       'Chính 6.7\" / Phụ 1.9\"', '6.56 inch', '6.67 inch',\n",
       "       'Chính 7.6\" / Phụ 6.2\"', 'Chính 7.59\"/ Phụ 6.23\"', '5.4 inch',\n",
       "       'Loại màn hình', '6.55 inch', '5.0 inch', '4.5 inch',\n",
       "       '6.3 inch', '5.5 inch', nan, '4.7 inch', '6.26 inch'], dtype=object)"
      ]
     },
     "execution_count": 25,
     "metadata": {},
     "output_type": "execute_result"
    }
   ],
   "source": [
    "tranMM_df[\"Kích thước màn hình\"].unique()"
   ]
  },
  {
   "cell_type": "code",
   "execution_count": 26,
   "metadata": {},
   "outputs": [
    {
     "name": "stderr",
     "output_type": "stream",
     "text": [
      "d:\\Users\\Anaconda3\\lib\\site-packages\\pandas\\core\\indexing.py:1732: SettingWithCopyWarning: \n",
      "A value is trying to be set on a copy of a slice from a DataFrame\n",
      "\n",
      "See the caveats in the documentation: https://pandas.pydata.org/pandas-docs/stable/user_guide/indexing.html#returning-a-view-versus-a-copy\n",
      "  self._setitem_single_block(indexer, value, name)\n"
     ]
    }
   ],
   "source": [
    "tranMM_df[\"Kích thước màn hình\"].loc[tranMM_df.query(\"`Kích thước màn hình` == 'Loại màn hình'\").index] = np.nan\n"
   ]
  },
  {
   "cell_type": "code",
   "execution_count": 27,
   "metadata": {},
   "outputs": [],
   "source": [
    "for i in list(tranMM_df.index):\n",
    "    if len(str(tranMM_df['Kích thước màn hình'].iloc[i]).split('inch')) < 3:\n",
    "        tranMM_df.loc[i, ['Kích thước màn hình']] = str(tranMM_df['Kích thước màn hình'].iloc[i]).split('inch')[0].strip()\n",
    "    \n",
    "    tranMM_df.loc[i, ['Kích thước màn hình']] = '& '.join(tranMM_df['Kích thước màn hình'].iloc[i].split('/ '))\n",
    "    tranMM_df.loc[i, ['Kích thước màn hình']] = ''.join(tranMM_df['Kích thước màn hình'].iloc[i].split('\"'))\n",
    "\n",
    "    if str(tranMM_df['Kích thước màn hình'].iloc[i]) == 'nan':\n",
    "        tranMM_df.loc[i, ['Kích thước màn hình']] = np.nan"
   ]
  },
  {
   "cell_type": "code",
   "execution_count": 28,
   "metadata": {},
   "outputs": [],
   "source": [
    "tranMM_df[\"Kích thước màn hình\"].loc[tranMM_df.query(\"`Kích thước màn hình` == 'Chính 7.59& Phụ 6.23'\").index] = 'Chính 7.59 & Phụ 6.23'"
   ]
  },
  {
   "cell_type": "code",
   "execution_count": 29,
   "metadata": {},
   "outputs": [],
   "source": [
    "for i in list(tranMM_df.index):\n",
    "    if tranMM_df['Bộ nhớ'].iloc[i] == tranMM_df['Bộ nhớ'].iloc[i]:\n",
    "        if len(str(tranMM_df['Bộ nhớ'].iloc[i]).split()) < 5:\n",
    "            tranMM_df.loc[i, ['Bộ nhớ']] = ''.join(str(tranMM_df['Bộ nhớ'].iloc[i]).split())\n",
    "\n",
    "    if tranMM_df['RAM'].iloc[i] == tranMM_df['RAM'].iloc[i]:\n",
    "        if len(str(tranMM_df['RAM'].iloc[i]).split()) < 3:\n",
    "            tranMM_df.loc[i, ['RAM']] = ''.join(str(tranMM_df['RAM'].iloc[i]).split())"
   ]
  },
  {
   "cell_type": "markdown",
   "metadata": {},
   "source": [
    "### **Worldphone**"
   ]
  },
  {
   "cell_type": "code",
   "execution_count": 30,
   "metadata": {},
   "outputs": [
    {
     "name": "stdout",
     "output_type": "stream",
     "text": [
      "<class 'pandas.core.frame.DataFrame'>\n",
      "RangeIndex: 136 entries, 0 to 135\n",
      "Data columns (total 84 columns):\n",
      " #   Column                            Non-Null Count  Dtype  \n",
      "---  ------                            --------------  -----  \n",
      " 0   Tên điện thoại                    136 non-null    object \n",
      " 1   Giá                               136 non-null    object \n",
      " 2   Công nghệ màn hình                134 non-null    object \n",
      " 3   Độ phân giải                      136 non-null    object \n",
      " 4   Màn hình rộng                     126 non-null    object \n",
      " 5   Mặt kính cảm ứng                  133 non-null    object \n",
      " 6   Quay phim                         136 non-null    object \n",
      " 7   Đèn Flash                         136 non-null    object \n",
      " 8   Chụp ảnh nâng cao                 113 non-null    object \n",
      " 9   Videocall                         110 non-null    object \n",
      " 10  Thông tin khác                    108 non-null    object \n",
      " 11  Hệ điều hành                      132 non-null    object \n",
      " 12  Chipset (hãng SX CPU)             116 non-null    object \n",
      " 13  Tốc độ CPU                        136 non-null    object \n",
      " 14  Chip đồ họa (GPU)                 136 non-null    object \n",
      " 15  RAM                               135 non-null    object \n",
      " 16  Bộ nhớ trong                      134 non-null    object \n",
      " 17  Bộ nhớ còn lại (khả dụng)         68 non-null     object \n",
      " 18  Thẻ nhớ ngoài                     101 non-null    object \n",
      " 19  Mạng di động                      130 non-null    object \n",
      " 20  SIM                               135 non-null    object \n",
      " 21  Wifi                              133 non-null    object \n",
      " 22  GPS                               133 non-null    object \n",
      " 23  Bluetooth                         133 non-null    object \n",
      " 24  Cổng kết nối/sạc              132 non-null    object \n",
      " 25  Jack tai nghe                     132 non-null    object \n",
      " 26  Kết nối khác                      133 non-null    object \n",
      " 27  Thiết kế                          134 non-null    object \n",
      " 28  Chất liệu                         135 non-null    object \n",
      " 29  Kích thước                        119 non-null    object \n",
      " 30  Trọng lượng                       119 non-null    object \n",
      " 31  Dung lượng pin                    135 non-null    object \n",
      " 32  Loại pin                          136 non-null    object \n",
      " 33  Công nghệ pin                     113 non-null    object \n",
      " 34  Bảo mật nâng cao                  114 non-null    object \n",
      " 35  Ghi âm                            134 non-null    object \n",
      " 36  Radio                             118 non-null    object \n",
      " 37  Xem phim                          136 non-null    object \n",
      " 38  Nghe nhạc                         135 non-null    object \n",
      " 39  Thời điểm ra mắt                  115 non-null    object \n",
      " 40  Tính năng đặc biệt                123 non-null    object \n",
      " 41  Cổng kết nối/sạu              1 non-null      object \n",
      " 42  Màu màn hình                      2 non-null      object \n",
      " 43  Chuẩn màn hình                    2 non-null      object \n",
      " 44  Độ phân giải màn hình             2 non-null      object \n",
      " 45  Công nghệ cảm ứng                 2 non-null      object \n",
      " 46  Mặt kính màn hình                 2 non-null      object \n",
      " 47  Video Call                        2 non-null      object \n",
      " 48  Số nhân                           2 non-null      object \n",
      " 49  Chipset                           2 non-null      object \n",
      " 50  Danh bạ lưu trữ                   2 non-null      object \n",
      " 51  ROM                               2 non-null      object \n",
      " 52  Bộ nhớ còn lại                    2 non-null      object \n",
      " 53  Hỗ trợ thẻ nhớ tối đa             2 non-null      object \n",
      " 54  Kiểu dáng                         2 non-null      object \n",
      " 55  Khả năng chống nước               2 non-null      object \n",
      " 56  Pin có thể tháo rời               2 non-null      object \n",
      " 57  Chế độ sạc nhanh                  2 non-null      object \n",
      " 58  Băng tần 2G                       2 non-null      object \n",
      " 59  Băng tần 3G                       2 non-null      object \n",
      " 60  Băng tần 4G                       2 non-null      object \n",
      " 61  Hỗ trợ SIM                        1 non-null      object \n",
      " 62  Khe cắm sim                       2 non-null      object \n",
      " 63  GPRS/EDGE                         2 non-null      object \n",
      " 64  NFC                               2 non-null      object \n",
      " 65  Kết nối USB                       2 non-null      object \n",
      " 66  Cổng kết nối khác                 2 non-null      object \n",
      " 67  Cổng sạc                          2 non-null      object \n",
      " 68  Jack (Input & Output)             2 non-null      object \n",
      " 69  FM radio                          2 non-null      object \n",
      " 70  Tính năng                         25 non-null     object \n",
      " 71  Chip xử lý (CPU)                  18 non-null     object \n",
      " 72  Danh bạ                           17 non-null     object \n",
      " 73  Hỗ trợ sạc tối đa                 15 non-null     object \n",
      " 74  Kháng nước, bụi                   10 non-null     object \n",
      " 75  Kích thước, khối lượng            11 non-null     object \n",
      " 76  Đèn pin                           1 non-null      object \n",
      " 77  Kích thước màn hình               6 non-null      float64\n",
      " 78  Thẻ nhớ                           2 non-null      object \n",
      " 79  Khối lượng                        6 non-null      object \n",
      " 80  Độ sáng tối đa                    14 non-null     object \n",
      " 81  Bộ nhớ còn lại (khả dụng) khoảng  10 non-null     object \n",
      " 82  Tần số quét                       5 non-null      object \n",
      " 83  Chống nước                        5 non-null      object \n",
      "dtypes: float64(1), object(83)\n",
      "memory usage: 89.4+ KB\n"
     ]
    }
   ],
   "source": [
    "w_df = pd.read_csv(\"Data/Worldphone.csv\")\n",
    "w_df.info()"
   ]
  },
  {
   "cell_type": "code",
   "execution_count": 31,
   "metadata": {},
   "outputs": [],
   "source": [
    "with open('map_col/worldphone.json', \"r\", encoding=\"utf-8\") as infile:\n",
    "        cols = json.load(infile)\n",
    "\n",
    "tranWP_df = pd.DataFrame()\n",
    "\n",
    "for col in cols:\n",
    "    if(len(cols[col]) > 0):\n",
    "        tranWP_df[col] = w_df[cols[col]]\n",
    "    else:\n",
    "        tranWP_df[col] = np.nan"
   ]
  },
  {
   "cell_type": "code",
   "execution_count": 32,
   "metadata": {},
   "outputs": [
    {
     "data": {
      "text/plain": [
       "array(['6.0', '5.5', '5.2', '5', '4.7', '6.8', 'Đang cập nhật', '6.4',\n",
       "       '6.1', '6', '5.7', nan, '6.3', '6.2', '5.8', '5.1', '6.34', '5.6',\n",
       "       '4.5', '4.5\"  inches', '5.99', '6.5', '6.1\" - Tần số quét 60 Hz'],\n",
       "      dtype=object)"
      ]
     },
     "execution_count": 32,
     "metadata": {},
     "output_type": "execute_result"
    }
   ],
   "source": [
    "tranWP_df['Kích thước màn hình'].unique()"
   ]
  },
  {
   "cell_type": "code",
   "execution_count": 33,
   "metadata": {},
   "outputs": [],
   "source": [
    "for i in list(tranWP_df.index):\n",
    "    if len(str(tranWP_df['Kích thước màn hình'].iloc[i]).split('\"')) < 5:\n",
    "        tranWP_df.loc[i, ['Kích thước màn hình']] = str(tranWP_df['Kích thước màn hình'].iloc[i]).split('\"')[0].strip()\n",
    "\n",
    "    if str(tranWP_df['Kích thước màn hình'].iloc[i]) == 'nan':\n",
    "        tranWP_df.loc[i, ['Kích thước màn hình']] = np.nan"
   ]
  },
  {
   "cell_type": "code",
   "execution_count": 34,
   "metadata": {},
   "outputs": [
    {
     "data": {
      "text/plain": [
       "array(['6GB', '6 GB', '4 GB', '3 GB', '2GB', '2 GB', '8 GB', '8GB', '4GB',\n",
       "       '3GB', '6/ 8GB', nan], dtype=object)"
      ]
     },
     "execution_count": 34,
     "metadata": {},
     "output_type": "execute_result"
    }
   ],
   "source": [
    "tranWP_df['RAM'].unique()"
   ]
  },
  {
   "cell_type": "code",
   "execution_count": 35,
   "metadata": {},
   "outputs": [
    {
     "data": {
      "text/plain": [
       "array(['64/128 GB', '128GB', '128 GB', '32 GB', '16 GB', '32GB', '256GB',\n",
       "       '64GB', '64 GB', '16/32GB', '128/ 512GB', nan, '512GB',\n",
       "       '64GB, 256GB, 512GB'], dtype=object)"
      ]
     },
     "execution_count": 35,
     "metadata": {},
     "output_type": "execute_result"
    }
   ],
   "source": [
    "tranWP_df['Bộ nhớ'].unique()"
   ]
  },
  {
   "cell_type": "code",
   "execution_count": 36,
   "metadata": {},
   "outputs": [],
   "source": [
    "for i in list(tranWP_df.index):\n",
    "    if tranWP_df['Bộ nhớ'].iloc[i] == tranWP_df['Bộ nhớ'].iloc[i]:\n",
    "        if len(str(tranWP_df['Bộ nhớ'].iloc[i]).split()) < 5:\n",
    "            tranWP_df.loc[i, ['Bộ nhớ']] = ''.join(str(tranWP_df['Bộ nhớ'].iloc[i]).split())\n",
    "\n",
    "    if tranWP_df['RAM'].iloc[i] == tranWP_df['RAM'].iloc[i]:\n",
    "        if len(str(tranWP_df['RAM'].iloc[i]).split()) < 3:\n",
    "            tranWP_df.loc[i, ['RAM']] = ''.join(str(tranWP_df['RAM'].iloc[i]).split())"
   ]
  },
  {
   "cell_type": "code",
   "execution_count": 37,
   "metadata": {},
   "outputs": [],
   "source": [
    "tranWP_df.drop(tranWP_df.query(\"`Bộ nhớ` == '64/128GB' or `Bộ nhớ` == '128/512GB' or `Bộ nhớ` == '16/32GB' or `Bộ nhớ` == '64GB,256GB,512GB'\").index, inplace=True)"
   ]
  },
  {
   "cell_type": "markdown",
   "metadata": {},
   "source": [
    "### **C**"
   ]
  },
  {
   "cell_type": "code",
   "execution_count": 38,
   "metadata": {},
   "outputs": [
    {
     "data": {
      "text/plain": [
       "Tên sản phẩm             141\n",
       "Bộ nhớ                   141\n",
       "url                      141\n",
       "image_url                141\n",
       "Giá bán                  141\n",
       "Kích thước màn hình      140\n",
       "RAM                      138\n",
       "Camera trước             137\n",
       "Chipset                  125\n",
       "Pin                      114\n",
       "Hệ điều hành              89\n",
       "Độ phân giải màn hình     88\n",
       "Kích thước                62\n",
       "Wi-Fi                     60\n",
       "Bluetooth                 58\n",
       "Quay video                21\n",
       "Giá gốc                    0\n",
       "Tần số quét                0\n",
       "Trọng lượng                0\n",
       "GPU                        0\n",
       "Cổng sạc                   0\n",
       "dtype: int64"
      ]
     },
     "execution_count": 38,
     "metadata": {},
     "output_type": "execute_result"
    }
   ],
   "source": [
    "tranNK_df.notnull().sum().sort_values(ascending=False)"
   ]
  },
  {
   "cell_type": "code",
   "execution_count": 39,
   "metadata": {},
   "outputs": [
    {
     "data": {
      "text/plain": [
       "Tên sản phẩm             91\n",
       "Pin                      91\n",
       "Cổng sạc                 91\n",
       "Trọng lượng              91\n",
       "Kích thước               91\n",
       "Camera trước             91\n",
       "Kích thước màn hình      91\n",
       "Giá bán                  91\n",
       "Bộ nhớ                   88\n",
       "RAM                      88\n",
       "Bluetooth                88\n",
       "Hệ điều hành             88\n",
       "Chipset                  87\n",
       "Wi-Fi                    87\n",
       "Quay video               85\n",
       "Tần số quét              81\n",
       "GPU                      81\n",
       "Giá gốc                   0\n",
       "Độ phân giải màn hình     0\n",
       "url                       0\n",
       "image_url                 0\n",
       "dtype: int64"
      ]
     },
     "execution_count": 39,
     "metadata": {},
     "output_type": "execute_result"
    }
   ],
   "source": [
    "tranTGDD_df.notnull().sum().sort_values(ascending=False)"
   ]
  },
  {
   "cell_type": "code",
   "execution_count": 40,
   "metadata": {},
   "outputs": [
    {
     "data": {
      "text/plain": [
       "Tên sản phẩm             274\n",
       "Giá gốc                  274\n",
       "url                      274\n",
       "image_url                274\n",
       "Giá bán                  274\n",
       "Pin                      272\n",
       "Kích thước màn hình      271\n",
       "Bộ nhớ                   269\n",
       "Chipset                  265\n",
       "Camera trước             263\n",
       "Kích thước               263\n",
       "Bluetooth                263\n",
       "Wi-Fi                    262\n",
       "Hệ điều hành             260\n",
       "Trọng lượng              256\n",
       "Độ phân giải màn hình    256\n",
       "RAM                      255\n",
       "Quay video               249\n",
       "GPU                      244\n",
       "Cổng sạc                 212\n",
       "Tần số quét              169\n",
       "dtype: int64"
      ]
     },
     "execution_count": 40,
     "metadata": {},
     "output_type": "execute_result"
    }
   ],
   "source": [
    "CP_df.notnull().sum().sort_values(ascending=False)"
   ]
  },
  {
   "cell_type": "code",
   "execution_count": 41,
   "metadata": {},
   "outputs": [
    {
     "data": {
      "text/plain": [
       "Tên sản phẩm             147\n",
       "url                      147\n",
       "image_url                147\n",
       "Giá bán                  147\n",
       "RAM                      145\n",
       "Bộ nhớ                   143\n",
       "Hệ điều hành             142\n",
       "Độ phân giải màn hình    142\n",
       "Camera trước             142\n",
       "Bluetooth                141\n",
       "Wi-Fi                    141\n",
       "Kích thước màn hình      141\n",
       "Cổng sạc                 138\n",
       "Chipset                  136\n",
       "Quay video               131\n",
       "Pin                      120\n",
       "GPU                      114\n",
       "Giá gốc                    0\n",
       "Kích thước                 0\n",
       "Tần số quét                0\n",
       "Trọng lượng                0\n",
       "dtype: int64"
      ]
     },
     "execution_count": 41,
     "metadata": {},
     "output_type": "execute_result"
    }
   ],
   "source": [
    "tranMM_df.notnull().sum().sort_values(ascending=False)"
   ]
  },
  {
   "cell_type": "code",
   "execution_count": 42,
   "metadata": {},
   "outputs": [
    {
     "data": {
      "text/plain": [
       "Tên sản phẩm             130\n",
       "GPU                      130\n",
       "Độ phân giải màn hình    130\n",
       "Quay video               130\n",
       "Giá bán                  130\n",
       "RAM                      129\n",
       "Pin                      129\n",
       "Bộ nhớ                   128\n",
       "Bluetooth                128\n",
       "Wi-Fi                    128\n",
       "Hệ điều hành             126\n",
       "Cổng sạc                 126\n",
       "Kích thước màn hình      120\n",
       "Trọng lượng              113\n",
       "Kích thước               113\n",
       "Chipset                  110\n",
       "url                        0\n",
       "Camera trước               0\n",
       "Tần số quét                0\n",
       "Giá gốc                    0\n",
       "image_url                  0\n",
       "dtype: int64"
      ]
     },
     "execution_count": 42,
     "metadata": {},
     "output_type": "execute_result"
    }
   ],
   "source": [
    "tranWP_df.notnull().sum().sort_values(ascending=False)"
   ]
  },
  {
   "cell_type": "code",
   "execution_count": 57,
   "metadata": {},
   "outputs": [],
   "source": [
    "def show_val(df):\n",
    "    print()\n",
    "    print(df[\"Kích thước màn hình\"].unique())\n",
    "    print()\n",
    "    print(df[\"Bộ nhớ\"].unique())\n",
    "    print()\n",
    "    print(df[\"RAM\"].unique())\n",
    "    print()\n",
    "    print(\"-------------------------------------------------------------------------------------------\")\n"
   ]
  },
  {
   "cell_type": "code",
   "execution_count": 58,
   "metadata": {},
   "outputs": [
    {
     "name": "stdout",
     "output_type": "stream",
     "text": [
      "\n",
      "['6.1' '6.7' '5.4' '4.7' '6.8' '6.5' 'Chính 7.6 & Phụ 6.2' '6.6'\n",
      " 'Chính 6.7 & Phụ 1.9' '6.4' '6.43' '6.56' '6.52' '6.67' '6.28' '6.55'\n",
      " '6.53' '6.71' '6.51' '6.44' '6.58' '6.82' '2.4' '1.8' '1.77' '2']\n",
      "\n",
      "['64GB' '128GB' '512GB' '256GB' '32GB' nan '128MB' '24MB' '256MB']\n",
      "\n",
      "['4GB' '6GB' '3GB' '8GB' '12GB' '2GB'\n",
      " '8 GB + 3 GB (Công nghệ mở rộng RAM)' nan '48MB' '64MB' '16MB']\n",
      "\n",
      "-------------------------------------------------------------------------------------------\n",
      "\n",
      "['6.7' '6.1' '6.43' '6.8' '6.67' '6.6' '6.9' '6.55' '6.58' '4.7' '6.39'\n",
      " '6.4' '6.78' '6.28' '6.5' '5.4' '6.53' '6.73' '6.71' '6.51' '7.6' '6.59'\n",
      " nan '6.44' '6.82' '6.52' '6.49' '1.77' '6.56' '6.81' '1.8' '6.22'\n",
      " 'Chính: 7.6 & Phụ: 6.23' '5.5' '2.4' '5.8' '6.26' '6.2' '5.7' '5.3' '6.0'\n",
      " '6.47' '6.09']\n",
      "\n",
      "['256GB' '64GB' '128GB' '512GB' '32GB' nan '128MB' '16GB' '1TB' '4GB']\n",
      "\n",
      "['8GB' '4GB' '6GB' '12GB' '4GB + Mở rộng 3GB' '4GB + Mở rộng 1GB' '16GB'\n",
      " '2GB' '3GB' '6GB + Mở rộng 5GB' nan '18GB' '12 GB + 3 GB (RAM bổ sung)'\n",
      " '1GB']\n",
      "\n",
      "-------------------------------------------------------------------------------------------\n",
      "\n",
      "['6.1' '6.6' '6.51' '6.53' '6.7' '6.52' '6.5' '6.43' '6.4' '6.8'\n",
      " 'Chính 6.7 & Phụ 1.9' '6.56' '6.67' 'Chính 7.6 & Phụ 6.2'\n",
      " 'Chính 7.59 & Phụ 6.23' '5.4' nan '6.55' '5.0' '4.5' '6.3' '5.5' '4.7'\n",
      " '6.26']\n",
      "\n",
      "['64GB' '128GB' '32GB' '256GB' '512GB' nan '8GB' '1TB']\n",
      "\n",
      "['4GB' '2GB' '6GB' '3GB' '8GB' nan '12GB' '1GB']\n",
      "\n",
      "-------------------------------------------------------------------------------------------\n",
      "\n",
      "['6.43' '6.6' '6.5' '6,4' '6.52' '6.44' '6.4' '6.1' '6.51' '6.9' '6.53'\n",
      " '6.67' '6.8' '6.7' '6.82' '6.56' '6.58' nan '5.4']\n",
      "\n",
      "['128GB' '64GB' '32GB' '256GB' '512GB' '1TB']\n",
      "\n",
      "['8GB' '4GB' '6GB' nan '3GB' '12GB' '2GB']\n",
      "\n",
      "-------------------------------------------------------------------------------------------\n",
      "\n",
      "['6.0' '5.5' '5.2' '5' '4.7' '6.8' 'Đang cập nhật' '6.4' '6.1' '6' '5.7'\n",
      " nan '6.3' '6.2' '5.8' '5.1' '6.34' '5.6' '4.5' '5.99' '6.5']\n",
      "\n",
      "['128GB' '32GB' '16GB' '256GB' '64GB' nan '512GB']\n",
      "\n",
      "['6GB' '4GB' '3GB' '2GB' '8GB' nan]\n",
      "\n",
      "-------------------------------------------------------------------------------------------\n"
     ]
    }
   ],
   "source": [
    "show_val(tranTGDD_df)\n",
    "show_val(CP_df)\n",
    "show_val(tranMM_df)\n",
    "show_val(tranNK_df)\n",
    "show_val(tranWP_df)"
   ]
  }
 ],
 "metadata": {
  "kernelspec": {
   "display_name": "Python 3.8.8 ('base')",
   "language": "python",
   "name": "python3"
  },
  "language_info": {
   "codemirror_mode": {
    "name": "ipython",
    "version": 3
   },
   "file_extension": ".py",
   "mimetype": "text/x-python",
   "name": "python",
   "nbconvert_exporter": "python",
   "pygments_lexer": "ipython3",
   "version": "3.8.8"
  },
  "orig_nbformat": 4,
  "vscode": {
   "interpreter": {
    "hash": "bb0ca4744550a54ef6d6f0223fbdf8af236b117fd1588dc9b614ba2a4e01e5ad"
   }
  }
 },
 "nbformat": 4,
 "nbformat_minor": 2
}
