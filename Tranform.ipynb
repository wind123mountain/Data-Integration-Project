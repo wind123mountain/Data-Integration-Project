{
 "cells": [
  {
   "cell_type": "code",
   "execution_count": 1,
   "metadata": {},
   "outputs": [],
   "source": [
    "import pandas as pd\n",
    "import numpy as np\n",
    "import json\n",
    "import re"
   ]
  },
  {
   "cell_type": "code",
   "execution_count": 2,
   "metadata": {},
   "outputs": [],
   "source": [
    "def strip_df(df):\n",
    "    for i in list(df.index):\n",
    "        for col in df.columns:\n",
    "            if df[col].iloc[i] == df[col].iloc[i]:\n",
    "                df.loc[i, [col]] = str(df[col].iloc[i]).strip()"
   ]
  },
  {
   "cell_type": "markdown",
   "metadata": {},
   "source": [
    "### **Nguyễn Kim**"
   ]
  },
  {
   "cell_type": "code",
   "execution_count": 3,
   "metadata": {},
   "outputs": [
    {
     "name": "stdout",
     "output_type": "stream",
     "text": [
      "<class 'pandas.core.frame.DataFrame'>\n",
      "RangeIndex: 141 entries, 0 to 140\n",
      "Data columns (total 50 columns):\n",
      " #   Column                   Non-Null Count  Dtype  \n",
      "---  ------                   --------------  -----  \n",
      " 0   Url                      141 non-null    object \n",
      " 1   Tên sản phẩm             141 non-null    object \n",
      " 2   Giá                      141 non-null    object \n",
      " 3   Ảnh                      141 non-null    object \n",
      " 4   Model:                   141 non-null    object \n",
      " 5   Màu sắc:                 141 non-null    object \n",
      " 6   Nhà sản xuất:            141 non-null    object \n",
      " 7   Xuất xứ:                 141 non-null    object \n",
      " 8   Thời gian bảo hành:      141 non-null    object \n",
      " 9   Địa điểm bảo hành:       141 non-null    object \n",
      " 10  Hệ điều hành:            89 non-null     object \n",
      " 11  Chipset:                 125 non-null    object \n",
      " 12  RAM:                     138 non-null    object \n",
      " 13  Bộ nhớ trong:            141 non-null    object \n",
      " 14  Hỗ trợ thẻ nhớ ngoài:    32 non-null     object \n",
      " 15  Loại màn hình:           121 non-null    object \n",
      " 16  Kích thước màn hình:     140 non-null    object \n",
      " 17  Độ phân giải màn hình:   88 non-null     object \n",
      " 18  Camera trước:            137 non-null    object \n",
      " 19  Camera sau:              133 non-null    object \n",
      " 20  Đèn Flash:               53 non-null     object \n",
      " 21  Số khe SIM:              28 non-null     object \n",
      " 22  WIFI:                    60 non-null     object \n",
      " 23  Bluetooth:               58 non-null     object \n",
      " 24  GPS:                     49 non-null     object \n",
      " 25  Dung lượng Pin:          114 non-null    object \n",
      " 26  Mở khóa nhanh:           68 non-null     object \n",
      " 27  Kích thước sản phẩm:     62 non-null     object \n",
      " 28  Loa ngoài:               13 non-null     object \n",
      " 29  CPU:                     9 non-null      object \n",
      " 30  Video:                   21 non-null     object \n",
      " 31  Mạng 4G:                 31 non-null     object \n",
      " 32  Loại SIM:                40 non-null     object \n",
      " 33  NFC:                     27 non-null     object \n",
      " 34  USB:                     43 non-null     object \n",
      " 35  Năm ra mắt :             40 non-null     float64\n",
      " 36  Cảm ứng:                 39 non-null     object \n",
      " 37  Mạng 3G:                 8 non-null      object \n",
      " 38  Tiện ích khác ĐTDĐ:      18 non-null     object \n",
      " 39  Chống nước:              43 non-null     object \n",
      " 40  Độ dày:                  6 non-null      object \n",
      " 41  Thiết kế:                32 non-null     object \n",
      " 42  Ghi âm:                  10 non-null     object \n",
      " 43  Radio:                   11 non-null     object \n",
      " 44  Màn hình tràn viền:  10 non-null     object \n",
      " 45  Jack 3.5mm:              19 non-null     object \n",
      " 46  Chiều dài:               13 non-null     object \n",
      " 47  Chiều rộng:              13 non-null     object \n",
      " 48  Chiều cao:               8 non-null      object \n",
      " 49  Chiều sâu:               2 non-null      object \n",
      "dtypes: float64(1), object(49)\n",
      "memory usage: 55.2+ KB\n"
     ]
    }
   ],
   "source": [
    "nk_df = pd.read_csv(\"Data/nguyenkim.csv\")\n",
    "nk_df.info()"
   ]
  },
  {
   "cell_type": "code",
   "execution_count": 4,
   "metadata": {},
   "outputs": [],
   "source": [
    "with open('map_col/nguyenkim.json', \"r\", encoding=\"utf-8\") as infile:\n",
    "        cols = json.load(infile)\n",
    "\n",
    "tranNK_df = pd.DataFrame()\n",
    "\n",
    "for col in cols:\n",
    "    if(len(cols[col]) > 0):\n",
    "        tranNK_df[col] = nk_df[cols[col]]\n",
    "    else:\n",
    "        tranNK_df[col] = np.nan\n",
    "\n",
    "tranNK_df['web'] = 'Nguyen_Kim'\n",
    "\n",
    "strip_df(tranNK_df)"
   ]
  },
  {
   "cell_type": "code",
   "execution_count": 5,
   "metadata": {},
   "outputs": [],
   "source": [
    "for i in list(tranNK_df.index):\n",
    "    if len(str(tranNK_df['Kích thước màn hình'].iloc[i]).split('\"')) < 5:\n",
    "        tranNK_df.loc[i, ['Kích thước màn hình']] = str(tranNK_df['Kích thước màn hình'].iloc[i]).split('\"')[0].strip()\n",
    "        tranNK_df.loc[i, ['Kích thước màn hình']] = str(tranNK_df['Kích thước màn hình'].iloc[i]).split(' ')[0].strip()\n",
    "        tranNK_df.loc[i, ['Kích thước màn hình']] = str(tranNK_df['Kích thước màn hình'].iloc[i]).split('”')[0].strip()\n",
    "    else:\n",
    "        tranNK_df.loc[i, ['Kích thước màn hình']] = ''.join(tranNK_df['Kích thước màn hình'].iloc[i].split(\"inches\"))\n",
    "\n",
    "    if str(tranNK_df['Kích thước màn hình'].iloc[i]) == 'nan':\n",
    "        tranNK_df.loc[i, ['Kích thước màn hình']] = np.nan\n",
    "\n",
    "    if str(tranNK_df['Kích thước màn hình'].iloc[i]) == '6,4':\n",
    "        tranNK_df.loc[i, ['Kích thước màn hình']] = '6.4'"
   ]
  },
  {
   "cell_type": "code",
   "execution_count": 6,
   "metadata": {},
   "outputs": [
    {
     "data": {
      "text/plain": [
       "array(['6.43', '6.6', '6.5', '6.4', '6.52', '6.44', '6.1', '6.51', '6.9',\n",
       "       '6.53', '6.67', '6.8', '6.7', '6.82', '6.56', '6.58', nan, '5.4'],\n",
       "      dtype=object)"
      ]
     },
     "execution_count": 6,
     "metadata": {},
     "output_type": "execute_result"
    }
   ],
   "source": [
    "tranNK_df['Kích thước màn hình'].unique()"
   ]
  },
  {
   "cell_type": "code",
   "execution_count": 7,
   "metadata": {},
   "outputs": [],
   "source": [
    "for i in list(tranNK_df.index):\n",
    "    if tranNK_df['RAM'].iloc[i] == tranNK_df['RAM'].iloc[i]:\n",
    "        if len(str(tranNK_df['RAM'].iloc[i]).split()) < 3:\n",
    "            tranNK_df.loc[i, ['RAM']] = ''.join(str(tranNK_df['RAM'].iloc[i]).split())\n",
    "        else:\n",
    "            tranNK_df.loc[i, ['RAM']] = ''.join(str(tranNK_df['RAM'].iloc[i]).split())\n",
    "            tranNK_df.loc[i, ['RAM']] = str(tranNK_df['RAM'].iloc[i]).split('DDR3')[0]\n",
    "    \n",
    "    if tranNK_df['Bộ nhớ'].iloc[i] == tranNK_df['Bộ nhớ'].iloc[i]:\n",
    "        if len(str(tranNK_df['Bộ nhớ'].iloc[i]).split()) < 5:\n",
    "            tranNK_df.loc[i, ['Bộ nhớ']] = ''.join(str(tranNK_df['Bộ nhớ'].iloc[i]).split())\n",
    "        else:\n",
    "            tranNK_df.loc[i, ['Bộ nhớ']] = ''.join(str(tranNK_df['Bộ nhớ'].iloc[i]).split())\n",
    "            tranNK_df.loc[i, ['Bộ nhớ']] = str(tranNK_df['Bộ nhớ'].iloc[i]).split('e-')[0]"
   ]
  },
  {
   "cell_type": "code",
   "execution_count": 8,
   "metadata": {},
   "outputs": [
    {
     "data": {
      "text/plain": [
       "array(['8GB', '4GB', '6GB', nan, '3GB', '12GB', '2GB'], dtype=object)"
      ]
     },
     "execution_count": 8,
     "metadata": {},
     "output_type": "execute_result"
    }
   ],
   "source": [
    "tranNK_df['RAM'].unique()"
   ]
  },
  {
   "cell_type": "code",
   "execution_count": 9,
   "metadata": {},
   "outputs": [
    {
     "data": {
      "text/plain": [
       "array(['128GB', '64GB', '32GB', '256GB', '512GB', '1TB'], dtype=object)"
      ]
     },
     "execution_count": 9,
     "metadata": {},
     "output_type": "execute_result"
    }
   ],
   "source": [
    "tranNK_df['Bộ nhớ'].unique()"
   ]
  },
  {
   "cell_type": "code",
   "execution_count": 10,
   "metadata": {},
   "outputs": [
    {
     "data": {
      "text/plain": [
       "array(['32MP', '8.0MP', '5 MP', '13.0 MP', '5MP F2.2', '8MP', '44MP',\n",
       "       '32.0MP', '20MP', '12 MP', '32 MP', '12 MP, ƒ/2.2 aperture',\n",
       "       '40 MP', 'f/2.0 (8MP)', '16MP', '12MP', '40MP', '10 MP',\n",
       "       'Ống kính 40MP AF F2.2', '16 MP', '13 MP',\n",
       "       '5MP, f2.2 với đèn Flash', nan, '8 MP', '50MP',\n",
       "       'Ẩn dưới màn hình chính: UDC, 4MP, FF, F1.8; Màn hình phụ: HID, 10MP, FF, F2.2'],\n",
       "      dtype=object)"
      ]
     },
     "execution_count": 10,
     "metadata": {},
     "output_type": "execute_result"
    }
   ],
   "source": [
    "tranNK_df[\"Camera trước\"].unique()"
   ]
  },
  {
   "cell_type": "code",
   "execution_count": 11,
   "metadata": {},
   "outputs": [
    {
     "data": {
      "text/plain": [
       "array(['4310mAh (Typ), Sạc nhanh VOOC 4.0 30W', '5000 mAh, Sạc nhanh 25W',\n",
       "       '5000 mAh', nan, '5000mAh', '5000 mAh, Sạc nhanh 15W',\n",
       "       '4230mAh (Typ)', '4000mAh',\n",
       "       '4500mAh, Công nghệ Sạc nhanh siêu tốc 25W',\n",
       "       '5,000 mAh Sạc nhanh 25W',\n",
       "       '5000mAh, Công Nghệ Sạc Nhanh Siêu Tốc 15W',\n",
       "       '4310mAh (Typ), Sạc nhanh VOOC 4.0 - 30W',\n",
       "       '5000mAh (TYP), Sạc Siêu Tốc 18W', '4500 mAh', '5000mAh (TYP)',\n",
       "       '5.000 mAh', '5,000 mAh',\n",
       "       '5000mAh, Công nghệ Sạc nhanh siêu tốc 25W', '5050 mAh | Pin liền',\n",
       "       '5000mAh sạc siêu nhanh 25W / Sạc không dây',\n",
       "       '4500 mAh, Sạc pin nhanh 25W', '3110 mAh',\n",
       "       '5000mAh (Typ), Sạc 18W', '6000 mAh', '4015mAH',\n",
       "       '5000mAh (Typ), Sạc 33W', '4,500mAh; Hỗ trợ sạc siêu nhanh 25W',\n",
       "       '5000 mAh, Công nghệ sạc nhanh siêu tốc 15W', '2950 mAh, pin rời',\n",
       "       '4500 mAh, 25W sạc nhanh', '3.700 mAh', '5000mAh (Typ)',\n",
       "       '4.500 mAh', '4050mAh (TYP)',\n",
       "       'Li-Po 4400 mAh, Fast charging 25W, Fast wireless charging 10W',\n",
       "       '4500mAh (Typ), Siêu sạc nhanh superVOOC 33W',\n",
       "       '5,000mAh sạc siêu nhanh 25W / Sạc không dây', '3.110 mAh'],\n",
       "      dtype=object)"
      ]
     },
     "execution_count": 11,
     "metadata": {},
     "output_type": "execute_result"
    }
   ],
   "source": [
    "tranNK_df[\"Pin\"].unique()"
   ]
  },
  {
   "cell_type": "code",
   "execution_count": 12,
   "metadata": {},
   "outputs": [],
   "source": [
    "for i in list(tranNK_df.index):\n",
    "     if tranNK_df['Camera trước'].iloc[i] == tranNK_df['Camera trước'].iloc[i]:\n",
    "          tranNK_df.loc[i, ['Camera trước']] = ''.join(str(tranNK_df['Camera trước'].iloc[i]).split())\n",
    "          tranNK_df.loc[i, ['Camera trước']] = ' '.join(re.findall(r'[\\d+.0|\\d+]+MP', str(tranNK_df['Camera trước'].iloc[i])))\n",
    "          tranNK_df.loc[i, ['Camera trước']] = ''.join(str(tranNK_df['Camera trước'].iloc[i]).split('.0'))\n",
    "\n",
    "     if tranNK_df['Pin'].iloc[i] == tranNK_df['Pin'].iloc[i]:\n",
    "          tranNK_df.loc[i, ['Pin']] = ''.join(str(tranNK_df['Pin'].iloc[i]).split())\n",
    "          tranNK_df.loc[i, ['Pin']] = ''.join(str(tranNK_df['Pin'].iloc[i]).split('.'))\n",
    "          tranNK_df.loc[i, ['Pin']] = ''.join(str(tranNK_df['Pin'].iloc[i]).split(','))\n",
    "          tranNK_df.loc[i, ['Pin']] = ' '.join(re.findall(r'[\\d+]+mAh', str(tranNK_df['Pin'].iloc[i])))\n",
    "     \n",
    "     if str(tranNK_df['Pin'].iloc[i]) == '':\n",
    "          tranNK_df.loc[i, ['Pin']] = np.nan"
   ]
  },
  {
   "cell_type": "code",
   "execution_count": 13,
   "metadata": {},
   "outputs": [
    {
     "data": {
      "text/plain": [
       "array(['4310mAh', '5000mAh', nan, '4230mAh', '4000mAh', '4500mAh',\n",
       "       '5050mAh', '3110mAh', '6000mAh', '2950mAh', '3700mAh', '4050mAh',\n",
       "       '4400mAh'], dtype=object)"
      ]
     },
     "execution_count": 13,
     "metadata": {},
     "output_type": "execute_result"
    }
   ],
   "source": [
    "tranNK_df[\"Pin\"].unique()"
   ]
  },
  {
   "cell_type": "code",
   "execution_count": 14,
   "metadata": {},
   "outputs": [
    {
     "data": {
      "text/plain": [
       "array(['32MP', '8MP', '5MP', '13MP', '44MP', '20MP', '12MP', '40MP',\n",
       "       '16MP', '10MP', nan, '50MP', '4MP 10MP'], dtype=object)"
      ]
     },
     "execution_count": 14,
     "metadata": {},
     "output_type": "execute_result"
    }
   ],
   "source": [
    "tranNK_df[\"Camera trước\"].unique()"
   ]
  },
  {
   "cell_type": "code",
   "execution_count": 15,
   "metadata": {},
   "outputs": [],
   "source": [
    "tranNK_df.drop(17, inplace=True)"
   ]
  },
  {
   "cell_type": "markdown",
   "metadata": {},
   "source": [
    "### **TGDĐ**"
   ]
  },
  {
   "cell_type": "code",
   "execution_count": 16,
   "metadata": {},
   "outputs": [
    {
     "name": "stdout",
     "output_type": "stream",
     "text": [
      "<class 'pandas.core.frame.DataFrame'>\n",
      "RangeIndex: 91 entries, 0 to 90\n",
      "Data columns (total 47 columns):\n",
      " #   Column                            Non-Null Count  Dtype  \n",
      "---  ------                            --------------  -----  \n",
      " 0   Name                              91 non-null     object \n",
      " 1   Price                             91 non-null     float64\n",
      " 2   priceValidUntil                   91 non-null     object \n",
      " 3   Công nghệ màn hình                91 non-null     object \n",
      " 4   Độ phân giải                      91 non-null     object \n",
      " 5   Độ sáng tối đa                    80 non-null     object \n",
      " 6   Mặt kính cảm ứng                  91 non-null     object \n",
      " 7   Quay phim                         85 non-null     object \n",
      " 8   Đèn Flash                         86 non-null     object \n",
      " 9   Tính năng                         81 non-null     object \n",
      " 10  Hệ điều hành                      88 non-null     object \n",
      " 11  Chip xử lý (CPU)                  87 non-null     object \n",
      " 12  Tốc độ CPU                        80 non-null     object \n",
      " 13  Chip đồ họa (GPU)                 81 non-null     object \n",
      " 14  RAM                               88 non-null     object \n",
      " 15  Bộ nhớ trong                      88 non-null     object \n",
      " 16  Bộ nhớ còn lại (khả dụng) khoảng  78 non-null     object \n",
      " 17  Danh bạ                           91 non-null     object \n",
      " 18  Mạng di động                      91 non-null     object \n",
      " 19  SIM                               91 non-null     object \n",
      " 20  Wifi                              87 non-null     object \n",
      " 21  GPS                               86 non-null     object \n",
      " 22  Bluetooth                         88 non-null     object \n",
      " 23  Cổng kết nối/sạc              91 non-null     object \n",
      " 24  Jack tai nghe                     88 non-null     object \n",
      " 25  Kết nối khác                      79 non-null     object \n",
      " 26  Dung lượng pin                    91 non-null     object \n",
      " 27  Loại pin                          91 non-null     object \n",
      " 28  Hỗ trợ sạc tối đa                 84 non-null     object \n",
      " 29  Công nghệ pin                     80 non-null     object \n",
      " 30  Bảo mật nâng cao                  83 non-null     object \n",
      " 31  Tính năng đặc biệt                63 non-null     object \n",
      " 32  Kháng nước, bụi                   65 non-null     object \n",
      " 33  Ghi âm                            84 non-null     object \n",
      " 34  Xem phim                          88 non-null     object \n",
      " 35  Nghe nhạc                         89 non-null     object \n",
      " 36  Thiết kế                          91 non-null     object \n",
      " 37  Chất liệu                         91 non-null     object \n",
      " 38  Thời điểm ra mắt                  91 non-null     object \n",
      " 39  Thẻ nhớ                           64 non-null     object \n",
      " 40  Sạc kèm theo máy                  68 non-null     object \n",
      " 41  Radio                             48 non-null     object \n",
      " 42  Hãng                              26 non-null     object \n",
      " 43  Màn hình rộng                     91 non-null     object \n",
      " 44  Tần số quét                       81 non-null     object \n",
      " 45  Kích thước                        91 non-null     object \n",
      " 46  Khối lượng                        91 non-null     object \n",
      "dtypes: float64(1), object(46)\n",
      "memory usage: 33.5+ KB\n"
     ]
    }
   ],
   "source": [
    "tgdd_df = pd.read_csv(\"Data/data_phones_tgdd.csv\")\n",
    "tgdd_df.info()"
   ]
  },
  {
   "cell_type": "code",
   "execution_count": 17,
   "metadata": {},
   "outputs": [],
   "source": [
    "with open('map_col/tgdd.json', \"r\", encoding=\"utf-8\") as infile:\n",
    "        cols = json.load(infile)\n",
    "\n",
    "tranTGDD_df = pd.DataFrame()\n",
    "\n",
    "for col in cols:\n",
    "    if(len(cols[col]) > 0):\n",
    "        tranTGDD_df[col] = tgdd_df[cols[col]]\n",
    "    else:\n",
    "        tranTGDD_df[col] = np.nan\n",
    "\n",
    "tranTGDD_df['web'] = 'The_Gioi_Di_Dong'\n",
    "\n",
    "strip_df(tranTGDD_df)"
   ]
  },
  {
   "cell_type": "code",
   "execution_count": 18,
   "metadata": {},
   "outputs": [
    {
     "data": {
      "text/plain": [
       "array(['6.1\"', '6.7\"', '5.4\"', '4.7\"', '6.8\"', '6.5\"',\n",
       "       'Chính 7.6\" & Phụ 6.2\"', '6.6\"', 'Chính 6.7\" & Phụ 1.9\"', '6.4\"',\n",
       "       '6.43\"', '6.56\"', '6.52\"', '6.67\"', '6.28\"', '6.55\"', '6.53\"',\n",
       "       '6.71\"', '6.51\"', '6.44\"', '6.58\"', '6.82\"', '2.4\"', '1.8\"',\n",
       "       '1.77\"', '2\"'], dtype=object)"
      ]
     },
     "execution_count": 18,
     "metadata": {},
     "output_type": "execute_result"
    }
   ],
   "source": [
    "tranTGDD_df['Kích thước màn hình'].unique()"
   ]
  },
  {
   "cell_type": "code",
   "execution_count": 19,
   "metadata": {},
   "outputs": [],
   "source": [
    "for i in list(tranTGDD_df.index):\n",
    "    if len(str(tranTGDD_df['Kích thước màn hình'].iloc[i]).split('\"')) < 3:\n",
    "        tranTGDD_df.loc[i, ['Kích thước màn hình']] = str(tranTGDD_df['Kích thước màn hình'].iloc[i]).split('\"')[0].strip()\n",
    "    else:\n",
    "        tranTGDD_df.loc[i, ['Kích thước màn hình']] = ''.join(tranTGDD_df['Kích thước màn hình'].iloc[i].split('\"'))\n",
    "\n",
    "    if str(tranTGDD_df['Kích thước màn hình'].iloc[i]) == 'nan':\n",
    "        tranTGDD_df.loc[i, ['Kích thước màn hình']] = np.nan\n",
    "\n",
    "    if str(tranTGDD_df['Chipset'].iloc[i]) == 'Không có':\n",
    "        tranTGDD_df.loc[i, ['Chipset']] = np.nan"
   ]
  },
  {
   "cell_type": "code",
   "execution_count": 20,
   "metadata": {},
   "outputs": [
    {
     "data": {
      "text/plain": [
       "array(['6.1', '6.7', '5.4', '4.7', '6.8', '6.5', 'Chính 7.6 & Phụ 6.2',\n",
       "       '6.6', 'Chính 6.7 & Phụ 1.9', '6.4', '6.43', '6.56', '6.52',\n",
       "       '6.67', '6.28', '6.55', '6.53', '6.71', '6.51', '6.44', '6.58',\n",
       "       '6.82', '2.4', '1.8', '1.77', '2'], dtype=object)"
      ]
     },
     "execution_count": 20,
     "metadata": {},
     "output_type": "execute_result"
    }
   ],
   "source": [
    "tranTGDD_df['Kích thước màn hình'].unique()"
   ]
  },
  {
   "cell_type": "code",
   "execution_count": 21,
   "metadata": {},
   "outputs": [
    {
     "data": {
      "text/plain": [
       "array(['64 GB', '128 GB', '512 GB', '256 GB', '32 GB', nan, '128 MB',\n",
       "       '24 MB', '256 MB'], dtype=object)"
      ]
     },
     "execution_count": 21,
     "metadata": {},
     "output_type": "execute_result"
    }
   ],
   "source": [
    "tranTGDD_df[\"Bộ nhớ\"].unique()"
   ]
  },
  {
   "cell_type": "code",
   "execution_count": 22,
   "metadata": {},
   "outputs": [],
   "source": [
    "for i in list(tranTGDD_df.index):\n",
    "    if tranTGDD_df['Bộ nhớ'].iloc[i] == tranTGDD_df['Bộ nhớ'].iloc[i]:\n",
    "        if len(str(tranTGDD_df['Bộ nhớ'].iloc[i]).split()) < 5:\n",
    "            tranTGDD_df.loc[i, ['Bộ nhớ']] = ''.join(str(tranTGDD_df['Bộ nhớ'].iloc[i]).split())\n",
    "\n",
    "    if tranTGDD_df['RAM'].iloc[i] == tranTGDD_df['RAM'].iloc[i]:\n",
    "        if len(str(tranTGDD_df['RAM'].iloc[i]).split()) < 3:\n",
    "            tranTGDD_df.loc[i, ['RAM']] = ''.join(str(tranTGDD_df['RAM'].iloc[i]).split())\n",
    "    \n",
    "    if tranTGDD_df['Trọng lượng'].iloc[i] == tranTGDD_df['Trọng lượng'].iloc[i]:\n",
    "        tranTGDD_df.loc[i, ['Trọng lượng']] = ''.join(str(tranTGDD_df['Trọng lượng'].iloc[i]).split()[-2:])"
   ]
  },
  {
   "cell_type": "code",
   "execution_count": 23,
   "metadata": {},
   "outputs": [
    {
     "data": {
      "text/plain": [
       "array(['12 MP', '7 MP', '40 MP', '5 MP', '32 MP', '10 MP & 4 MP', '10 MP',\n",
       "       '13 MP', '8 MP', '20 MP', '16 MP', '44 MP', '50 MP',\n",
       "       'QVGA (240 x 320 Pixels)', '0.08 MP', 'QQVGA (120 x 160 Pixels)',\n",
       "       '0.3 MP', 'Không có'], dtype=object)"
      ]
     },
     "execution_count": 23,
     "metadata": {},
     "output_type": "execute_result"
    }
   ],
   "source": [
    "tranTGDD_df[\"Camera trước\"].unique()"
   ]
  },
  {
   "cell_type": "code",
   "execution_count": 24,
   "metadata": {},
   "outputs": [],
   "source": [
    "for i in list(tranTGDD_df.index):\n",
    "     if tranTGDD_df['Camera trước'].iloc[i] == tranTGDD_df['Camera trước'].iloc[i]:\n",
    "          tranTGDD_df.loc[i, ['Camera trước']] = ''.join(str(tranTGDD_df['Camera trước'].iloc[i]).split())\n",
    "\n",
    "          res = re.findall(r'[\\d+.0|\\d+]+MP', str(tranTGDD_df['Camera trước'].iloc[i]))\n",
    "          if len(res) > 0:\n",
    "               tranTGDD_df.loc[i, ['Camera trước']] = ' '.join(res)\n",
    "          else:\n",
    "               res = re.findall(r'\\d+', str(tranTGDD_df['Camera trước'].iloc[i]))\n",
    "               if len(res) > 0:\n",
    "                    tranTGDD_df.loc[i, ['Camera trước']] = 'x'.join(res)\n",
    "               else:\n",
    "                    tranTGDD_df.loc[i, ['Camera trước']] = np.nan\n",
    "\n",
    "     if tranTGDD_df['Pin'].iloc[i] == tranTGDD_df['Pin'].iloc[i]:\n",
    "          tranTGDD_df.loc[i, ['Pin']] = ''.join(str(tranTGDD_df['Pin'].iloc[i]).split())"
   ]
  },
  {
   "cell_type": "code",
   "execution_count": 25,
   "metadata": {},
   "outputs": [
    {
     "data": {
      "text/plain": [
       "array(['3110mAh', '4352mAh', '3687mAh', '3095mAh', '2815mAh', '3240mAh',\n",
       "       '2438mAh', '2227mAh', '2018mAh', '1821mAh', '5000mAh', '4500mAh',\n",
       "       '4400mAh', '3700mAh', '3300mAh', '4300mAh', '7000mAh', '4000mAh',\n",
       "       '4230mAh', '4250mAh', '5020mAh', '4050mAh', '5050mAh', '6000mAh',\n",
       "       '2950mAh', '1150mAh', '1020mAh', '800mAh', '3000mAh', '1900mAh',\n",
       "       '1000mAh', '2000mAh', '1800mAh', '1400mAh', '1700mAh'],\n",
       "      dtype=object)"
      ]
     },
     "execution_count": 25,
     "metadata": {},
     "output_type": "execute_result"
    }
   ],
   "source": [
    "tranTGDD_df['Pin'].unique()"
   ]
  },
  {
   "cell_type": "markdown",
   "metadata": {},
   "source": [
    "### **Cellphones**"
   ]
  },
  {
   "cell_type": "code",
   "execution_count": 26,
   "metadata": {},
   "outputs": [
    {
     "name": "stdout",
     "output_type": "stream",
     "text": [
      "<class 'pandas.core.frame.DataFrame'>\n",
      "RangeIndex: 274 entries, 0 to 273\n",
      "Data columns (total 21 columns):\n",
      " #   Column                 Non-Null Count  Dtype \n",
      "---  ------                 --------------  ----- \n",
      " 0   Tên sản phẩm           274 non-null    object\n",
      " 1   Giá gốc                274 non-null    int64 \n",
      " 2   Giá bán                274 non-null    int64 \n",
      " 3   Kích thước màn hình    271 non-null    object\n",
      " 4   RAM                    255 non-null    object\n",
      " 5   Bộ nhớ                 269 non-null    object\n",
      " 6   Chipset                265 non-null    object\n",
      " 7   Pin                    272 non-null    object\n",
      " 8   Kích thước             263 non-null    object\n",
      " 9   Bluetooth              263 non-null    object\n",
      " 10  Camera trước           263 non-null    object\n",
      " 11  Wi-Fi                  262 non-null    object\n",
      " 12  Hệ điều hành           260 non-null    object\n",
      " 13  Độ phân giải màn hình  256 non-null    object\n",
      " 14  Tần số quét            169 non-null    object\n",
      " 15  Trọng lượng            256 non-null    object\n",
      " 16  Quay video             249 non-null    object\n",
      " 17  GPU                    244 non-null    object\n",
      " 18  Cổng sạc               212 non-null    object\n",
      " 19  url                    274 non-null    object\n",
      " 20  image_url              274 non-null    object\n",
      "dtypes: int64(2), object(19)\n",
      "memory usage: 45.1+ KB\n"
     ]
    }
   ],
   "source": [
    "CP_df = pd.read_csv(\"Data/Cellphones.csv\")\n",
    "CP_df.info()"
   ]
  },
  {
   "cell_type": "code",
   "execution_count": 27,
   "metadata": {},
   "outputs": [],
   "source": [
    "CP_df['web'] = 'Cellphones'\n",
    "strip_df(CP_df)"
   ]
  },
  {
   "cell_type": "code",
   "execution_count": 28,
   "metadata": {},
   "outputs": [
    {
     "data": {
      "text/plain": [
       "array(['6.7 inches', '6.1 inches', '6.43 inches', '6.8 inches',\n",
       "       '6.67 inches', '6.6 inches', '6.9 inches', '6.55 inches',\n",
       "       '6.58 inches', '4.7 inches', '6.39 inches', '6.4 inches',\n",
       "       '6.78 inches', '6.28 inches', '6.5 inches', '5.4 inches',\n",
       "       '6.53 inches', '6.73 inches', '6.71 inches', '6.51 inches',\n",
       "       '7.6 inches', '6.59 inches', nan, '6.44 inches', '6.82 inches',\n",
       "       '6.52 inches', '6.49 inches', '1.77 inches', '6.56 inches',\n",
       "       '6.81 inches', '1.8 inches', '6.22 inches',\n",
       "       'Chính: 7.6 inches & Phụ: 6.23 inches', '5.5 inches', '2.4 inches',\n",
       "       '5.8 inches', '6.26 inches', '6.2 inches', '5.7 inches',\n",
       "       '5.3 inches', '6.0 inches', '6.47 inches', '6.09 inches'],\n",
       "      dtype=object)"
      ]
     },
     "execution_count": 28,
     "metadata": {},
     "output_type": "execute_result"
    }
   ],
   "source": [
    "CP_df['Kích thước màn hình'].unique()"
   ]
  },
  {
   "cell_type": "code",
   "execution_count": 29,
   "metadata": {},
   "outputs": [],
   "source": [
    "for i in list(CP_df.index):\n",
    "    if len(str(CP_df['Kích thước màn hình'].iloc[i]).split('inches')) < 3:\n",
    "        CP_df.loc[i, ['Kích thước màn hình']] = str(CP_df['Kích thước màn hình'].iloc[i]).split('inches')[0].strip()\n",
    "    else:\n",
    "        CP_df.loc[i, ['Kích thước màn hình']] = ''.join(CP_df['Kích thước màn hình'].iloc[i].split(' inches'))\n",
    "\n",
    "    if str(CP_df['Kích thước màn hình'].iloc[i]) == 'nan':\n",
    "        CP_df.loc[i, ['Kích thước màn hình']] = np.nan"
   ]
  },
  {
   "cell_type": "code",
   "execution_count": 30,
   "metadata": {},
   "outputs": [
    {
     "data": {
      "text/plain": [
       "array(['6.7', '6.1', '6.43', '6.8', '6.67', '6.6', '6.9', '6.55', '6.58',\n",
       "       '4.7', '6.39', '6.4', '6.78', '6.28', '6.5', '5.4', '6.53', '6.73',\n",
       "       '6.71', '6.51', '7.6', '6.59', nan, '6.44', '6.82', '6.52', '6.49',\n",
       "       '1.77', '6.56', '6.81', '1.8', '6.22', 'Chính: 7.6 & Phụ: 6.23',\n",
       "       '5.5', '2.4', '5.8', '6.26', '6.2', '5.7', '5.3', '6.0', '6.47',\n",
       "       '6.09'], dtype=object)"
      ]
     },
     "execution_count": 30,
     "metadata": {},
     "output_type": "execute_result"
    }
   ],
   "source": [
    "CP_df['Kích thước màn hình'].unique()"
   ]
  },
  {
   "cell_type": "code",
   "execution_count": 31,
   "metadata": {},
   "outputs": [],
   "source": [
    "for i in list(CP_df.index):\n",
    "     if CP_df['Camera trước'].iloc[i] == CP_df['Camera trước'].iloc[i]:\n",
    "          CP_df.loc[i, ['Camera trước']] = ''.join(str(CP_df['Camera trước'].iloc[i]).split())\n",
    "\n",
    "          res = re.findall(r'[\\d+.0|\\d+]+MP', str(CP_df['Camera trước'].iloc[i]))\n",
    "          if len(res) > 0:\n",
    "               CP_df.loc[i, ['Camera trước']] = ' '.join(res)\n",
    "          else:\n",
    "               if str(CP_df['Camera trước'].iloc[i]) == '-32.0Mp-Flashmànhình,Nhậndiệnkhuônmặt,Làmđẹp(Beautify),QuayvideoHD,QuayvideoFullHD-Tựđộnglấynét(AF)':\n",
    "                    CP_df.loc[i, ['Camera trước']] = '32MP'\n",
    "               elif str(CP_df['Camera trước'].iloc[i]) == '-Kíchthướcpixel:1,22μm-FOV:80˚--F.Không(khẩuđộ):F2.4':\n",
    "                    CP_df.loc[i, ['Camera trước']] = '1,22μm'\n",
    "          if str(CP_df['Camera trước'].iloc[i]) == '50MP 2.0+8MP':\n",
    "               CP_df.loc[i, ['Camera trước']] = '50MP 8MP'\n",
    "\n",
    "     if CP_df['Pin'].iloc[i] == CP_df['Pin'].iloc[i]:\n",
    "          CP_df.loc[i, ['Pin']] = ''.join(str(CP_df['Pin'].iloc[i]).split())\n",
    "          CP_df.loc[i, ['Pin']] = ''.join(str(CP_df['Pin'].iloc[i]).split('.'))\n",
    "          CP_df.loc[i, ['Pin']] = ''.join(str(CP_df['Pin'].iloc[i]).split(','))\n",
    "          CP_df.loc[i, ['Pin']] = ' '.join(re.findall(r'[\\d+]+mAh', str(CP_df['Pin'].iloc[i])))\n",
    "\n",
    "          if str(CP_df['Pin'].iloc[i]) == '':\n",
    "               CP_df.loc[i, ['Pin']] = np.nan\n",
    "\n",
    "     if str(CP_df['Pin'].iloc[i]) == '04300mAh':\n",
    "          CP_df.loc[i, ['Pin']] = '4300mAh'\n",
    "\n",
    "CP_df.loc[222, ['Pin']] = '3300mAh'\n",
    "     "
   ]
  },
  {
   "cell_type": "code",
   "execution_count": 32,
   "metadata": {},
   "outputs": [
    {
     "data": {
      "text/plain": [
       "array(['32MP', '12MP', '13MP', '40MP', '8MP', '16MP', '10MP', '20MP',\n",
       "       '7MP', '24MP', '5MP', '2MP', '4MP', '50MP 8MP', nan, '50MP',\n",
       "       '44MP', '8.0MP', '10MP 10MP', '16MP 16MP', '32MP 8MP', '1,22μm'],\n",
       "      dtype=object)"
      ]
     },
     "execution_count": 32,
     "metadata": {},
     "output_type": "execute_result"
    }
   ],
   "source": [
    "CP_df['Camera trước'].unique()"
   ]
  },
  {
   "cell_type": "code",
   "execution_count": 33,
   "metadata": {},
   "outputs": [
    {
     "data": {
      "text/plain": [
       "array(['5000mAh', '3110mAh', '4325mAh', nan, '4500mAh', '3200mAh',\n",
       "       '6000mAh', '4250mAh', '4310mAh', '1820mAh', '4000mAh', '7000mAh',\n",
       "       '3095mAh', '5050mAh', '3300mAh', '4300mAh', '4200mAh', '4600mAh',\n",
       "       '3700mAh', '4400mAh', '2942mAh', '2406mAh', '5160mAh', '5020mAh',\n",
       "       '800mAh', '4800mAh', '1020mAh', '4050mAh', '4230mAh', '2950mAh',\n",
       "       '4450mAh', '2691mAh', '4020mAh', '4100mAh', '1150mAh', '1500mAh',\n",
       "       '3046mAh', '3750mAh', '4700mAh', '3000mAh', '5260mAh', '1821mAh',\n",
       "       '3500mAh', '2900mAh', '1750mAh'], dtype=object)"
      ]
     },
     "execution_count": 33,
     "metadata": {},
     "output_type": "execute_result"
    }
   ],
   "source": [
    "CP_df['Pin'].unique()"
   ]
  },
  {
   "cell_type": "code",
   "execution_count": 34,
   "metadata": {},
   "outputs": [
    {
     "data": {
      "text/html": [
       "<div>\n",
       "<style scoped>\n",
       "    .dataframe tbody tr th:only-of-type {\n",
       "        vertical-align: middle;\n",
       "    }\n",
       "\n",
       "    .dataframe tbody tr th {\n",
       "        vertical-align: top;\n",
       "    }\n",
       "\n",
       "    .dataframe thead th {\n",
       "        text-align: right;\n",
       "    }\n",
       "</style>\n",
       "<table border=\"1\" class=\"dataframe\">\n",
       "  <thead>\n",
       "    <tr style=\"text-align: right;\">\n",
       "      <th></th>\n",
       "      <th>Tên sản phẩm</th>\n",
       "      <th>Giá gốc</th>\n",
       "      <th>Giá bán</th>\n",
       "      <th>Kích thước màn hình</th>\n",
       "      <th>RAM</th>\n",
       "      <th>Bộ nhớ</th>\n",
       "      <th>Chipset</th>\n",
       "      <th>Pin</th>\n",
       "      <th>Kích thước</th>\n",
       "      <th>Bluetooth</th>\n",
       "      <th>...</th>\n",
       "      <th>Hệ điều hành</th>\n",
       "      <th>Độ phân giải màn hình</th>\n",
       "      <th>Tần số quét</th>\n",
       "      <th>Trọng lượng</th>\n",
       "      <th>Quay video</th>\n",
       "      <th>GPU</th>\n",
       "      <th>Cổng sạc</th>\n",
       "      <th>url</th>\n",
       "      <th>image_url</th>\n",
       "      <th>web</th>\n",
       "    </tr>\n",
       "  </thead>\n",
       "  <tbody>\n",
       "    <tr>\n",
       "      <th>236</th>\n",
       "      <td>POCO F2 PRO 5G (8GB - 256GB)</td>\n",
       "      <td>14990000</td>\n",
       "      <td>10200000</td>\n",
       "      <td>6.67</td>\n",
       "      <td>8GB</td>\n",
       "      <td>256GB</td>\n",
       "      <td>Qualcomm SM8250 Snapdragon 865 (7 nm+)</td>\n",
       "      <td>4700mAh</td>\n",
       "      <td>163.3 x 75.4 x 8.9 mm</td>\n",
       "      <td>5.1, A2DP, LE, aptX HD, aptX Adaptive</td>\n",
       "      <td>...</td>\n",
       "      <td>Android 10, MIUI 11</td>\n",
       "      <td>1080 x 2400 pixels (FullHD+)</td>\n",
       "      <td>NaN</td>\n",
       "      <td>219 g</td>\n",
       "      <td>Trước:1080p@30fps, 720p@120fpsSau: 8K@24/30fps...</td>\n",
       "      <td>Adreno 650</td>\n",
       "      <td>NaN</td>\n",
       "      <td>https://cellphones.com.vn/xiaomi-poco-f2-pro-2...</td>\n",
       "      <td>https://cdn.cellphones.com.vn/media/catalog/pr...</td>\n",
       "      <td>Cellphones</td>\n",
       "    </tr>\n",
       "  </tbody>\n",
       "</table>\n",
       "<p>1 rows × 22 columns</p>\n",
       "</div>"
      ],
      "text/plain": [
       "                     Tên sản phẩm   Giá gốc   Giá bán Kích thước màn hình  \\\n",
       "236  POCO F2 PRO 5G (8GB - 256GB)  14990000  10200000                6.67   \n",
       "\n",
       "     RAM Bộ nhớ                                 Chipset      Pin  \\\n",
       "236  8GB  256GB  Qualcomm SM8250 Snapdragon 865 (7 nm+)  4700mAh   \n",
       "\n",
       "                Kích thước                              Bluetooth  ...  \\\n",
       "236  163.3 x 75.4 x 8.9 mm  5.1, A2DP, LE, aptX HD, aptX Adaptive  ...   \n",
       "\n",
       "            Hệ điều hành         Độ phân giải màn hình Tần số quét  \\\n",
       "236  Android 10, MIUI 11  1080 x 2400 pixels (FullHD+)         NaN   \n",
       "\n",
       "    Trọng lượng                                         Quay video  \\\n",
       "236       219 g  Trước:1080p@30fps, 720p@120fpsSau: 8K@24/30fps...   \n",
       "\n",
       "            GPU Cổng sạc                                                url  \\\n",
       "236  Adreno 650      NaN  https://cellphones.com.vn/xiaomi-poco-f2-pro-2...   \n",
       "\n",
       "                                             image_url         web  \n",
       "236  https://cdn.cellphones.com.vn/media/catalog/pr...  Cellphones  \n",
       "\n",
       "[1 rows x 22 columns]"
      ]
     },
     "execution_count": 34,
     "metadata": {},
     "output_type": "execute_result"
    }
   ],
   "source": [
    "CP_df.drop(235, inplace=True)\n",
    "CP_df[CP_df['Tên sản phẩm'] == 'POCO F2 PRO 5G (8GB - 256GB)']"
   ]
  },
  {
   "cell_type": "markdown",
   "metadata": {},
   "source": [
    "### **Media Mart**"
   ]
  },
  {
   "cell_type": "code",
   "execution_count": 35,
   "metadata": {},
   "outputs": [
    {
     "name": "stdout",
     "output_type": "stream",
     "text": [
      "<class 'pandas.core.frame.DataFrame'>\n",
      "RangeIndex: 147 entries, 0 to 146\n",
      "Data columns (total 56 columns):\n",
      " #   Column                Non-Null Count  Dtype \n",
      "---  ------                --------------  ----- \n",
      " 0   name                  147 non-null    object\n",
      " 1   url                   147 non-null    object\n",
      " 2   image_link            147 non-null    object\n",
      " 3   Thương hiệu           144 non-null    object\n",
      " 4   Mã sản phẩm           144 non-null    object\n",
      " 5   Hộp máy gồm           82 non-null     object\n",
      " 6   Công nghệ màn hình    142 non-null    object\n",
      " 7   Độ phân giải          142 non-null    object\n",
      " 8   Màn hình              144 non-null    object\n",
      " 9   Cảm ứng               39 non-null     object\n",
      " 10  Mặt kính cảm ứng      123 non-null    object\n",
      " 11  Camera sau            140 non-null    object\n",
      " 12  Quay phim             131 non-null    object\n",
      " 13  Đèn Flash             118 non-null    object\n",
      " 14  Chụp ảnh nâng cao     136 non-null    object\n",
      " 15  Camera trước          142 non-null    object\n",
      " 16  Videocall             121 non-null    object\n",
      " 17  Thông tin khác        123 non-null    object\n",
      " 18  Hệ điều hành          142 non-null    object\n",
      " 19  CPU                   136 non-null    object\n",
      " 20  Số nhân               140 non-null    object\n",
      " 21  Tốc độ tối đa         87 non-null     object\n",
      " 22  RAM                   145 non-null    object\n",
      " 23  Bộ nhớ                143 non-null    object\n",
      " 24  Băng tần 2G           24 non-null     object\n",
      " 25  Băng tần 3G           27 non-null     object\n",
      " 26  Hỗ trợ 4G           74 non-null     object\n",
      " 27  Số khe sim            142 non-null    object\n",
      " 28  Wifi                  141 non-null    object\n",
      " 29  GPS                   144 non-null    object\n",
      " 30  Bluetooth             141 non-null    object\n",
      " 31  NFC                   13 non-null     object\n",
      " 32  Cổng kết nối/sạc  138 non-null    object\n",
      " 33  Kết nối khác          118 non-null    object\n",
      " 34  Thiết kế              140 non-null    object\n",
      " 35  Chất liệu             107 non-null    object\n",
      " 36  Dung lượng pin        120 non-null    object\n",
      " 37  Tính năng đặc biệt    125 non-null    object\n",
      " 38  Xem phim              35 non-null     object\n",
      " 39  Nghe nhạc             35 non-null     object\n",
      " 40  Chức năng khác        118 non-null    object\n",
      " 41  Bảo hành              142 non-null    object\n",
      " 42  price                 147 non-null    int64 \n",
      " 43  Tần số quét           53 non-null     object\n",
      " 44  Nền tảng              120 non-null    object\n",
      " 45  Chip đồ họa (GPU)     114 non-null    object\n",
      " 46  Thẻ nhớ ngoài         65 non-null     object\n",
      " 47  Jack tai nghe         124 non-null    object\n",
      " 48  Loại pin              117 non-null    object\n",
      " 49  Xuất xứ               57 non-null     object\n",
      " 50  Hỗ trợ thẻ tối đa     48 non-null     object\n",
      " 51  Ghi âm                51 non-null     object\n",
      " 52  Radio                 25 non-null     object\n",
      " 53  Hỗ Trợ 5G             59 non-null     object\n",
      " 54  Chống nước            41 non-null     object\n",
      " 55  Loại Sim              42 non-null     object\n",
      "dtypes: int64(1), object(55)\n",
      "memory usage: 64.4+ KB\n"
     ]
    }
   ],
   "source": [
    "mm_df = pd.read_csv(\"Data/mediamart.csv\")\n",
    "mm_df.info()"
   ]
  },
  {
   "cell_type": "code",
   "execution_count": 36,
   "metadata": {},
   "outputs": [],
   "source": [
    "with open('map_col/mediaMart.json', \"r\", encoding=\"utf-8\") as infile:\n",
    "        cols = json.load(infile)\n",
    "\n",
    "tranMM_df = pd.DataFrame()\n",
    "\n",
    "for col in cols:\n",
    "    if(len(cols[col]) > 0):\n",
    "        tranMM_df[col] = mm_df[cols[col]]\n",
    "    else:\n",
    "        tranMM_df[col] = np.nan\n",
    "\n",
    "tranMM_df['web'] = 'Media_Mart'\n",
    "\n",
    "strip_df(tranMM_df)"
   ]
  },
  {
   "cell_type": "code",
   "execution_count": 37,
   "metadata": {},
   "outputs": [
    {
     "data": {
      "text/plain": [
       "array(['64 GB', '128 GB', '32 GB', '256 GB', '512 GB', nan, '8 GB',\n",
       "       '1 TB'], dtype=object)"
      ]
     },
     "execution_count": 37,
     "metadata": {},
     "output_type": "execute_result"
    }
   ],
   "source": [
    "tranMM_df[\"Bộ nhớ\"].unique()"
   ]
  },
  {
   "cell_type": "code",
   "execution_count": 38,
   "metadata": {},
   "outputs": [
    {
     "data": {
      "text/plain": [
       "array(['6.1 inch', '6.6 inch', '6.51 inch', '6.53 inch', '6.7 inch',\n",
       "       '6.52 inch', '6.5 inch', '6.43 inch', '6.4 inch', '6.8 inch',\n",
       "       'Chính 6.7\" / Phụ 1.9\"', '6.56 inch', '6.67 inch',\n",
       "       'Chính 7.6\" / Phụ 6.2\"', 'Chính 7.59\"/ Phụ 6.23\"', '5.4 inch',\n",
       "       'Loại màn hình', '6.55 inch', '5.0 inch', '4.5 inch',\n",
       "       '6.3 inch', '5.5 inch', nan, '4.7 inch', '6.26 inch'], dtype=object)"
      ]
     },
     "execution_count": 38,
     "metadata": {},
     "output_type": "execute_result"
    }
   ],
   "source": [
    "tranMM_df[\"Kích thước màn hình\"].unique()"
   ]
  },
  {
   "cell_type": "code",
   "execution_count": 39,
   "metadata": {},
   "outputs": [
    {
     "name": "stderr",
     "output_type": "stream",
     "text": [
      "d:\\Users\\Anaconda3\\lib\\site-packages\\pandas\\core\\indexing.py:1732: SettingWithCopyWarning: \n",
      "A value is trying to be set on a copy of a slice from a DataFrame\n",
      "\n",
      "See the caveats in the documentation: https://pandas.pydata.org/pandas-docs/stable/user_guide/indexing.html#returning-a-view-versus-a-copy\n",
      "  self._setitem_single_block(indexer, value, name)\n"
     ]
    }
   ],
   "source": [
    "tranMM_df[\"Kích thước màn hình\"].loc[tranMM_df.query(\"`Kích thước màn hình` == 'Loại màn hình'\").index] = np.nan\n"
   ]
  },
  {
   "cell_type": "code",
   "execution_count": 40,
   "metadata": {},
   "outputs": [],
   "source": [
    "for i in list(tranMM_df.index):\n",
    "    if len(str(tranMM_df['Kích thước màn hình'].iloc[i]).split('inch')) < 3:\n",
    "        tranMM_df.loc[i, ['Kích thước màn hình']] = str(tranMM_df['Kích thước màn hình'].iloc[i]).split('inch')[0].strip()\n",
    "    \n",
    "    tranMM_df.loc[i, ['Kích thước màn hình']] = '& '.join(tranMM_df['Kích thước màn hình'].iloc[i].split('/ '))\n",
    "    tranMM_df.loc[i, ['Kích thước màn hình']] = ''.join(tranMM_df['Kích thước màn hình'].iloc[i].split('\"'))\n",
    "\n",
    "    if str(tranMM_df['Kích thước màn hình'].iloc[i]) == 'nan':\n",
    "        tranMM_df.loc[i, ['Kích thước màn hình']] = np.nan"
   ]
  },
  {
   "cell_type": "code",
   "execution_count": 41,
   "metadata": {},
   "outputs": [],
   "source": [
    "tranMM_df[\"Kích thước màn hình\"].loc[tranMM_df.query(\"`Kích thước màn hình` == 'Chính 7.59& Phụ 6.23'\").index] = 'Chính 7.59 & Phụ 6.23'"
   ]
  },
  {
   "cell_type": "code",
   "execution_count": 42,
   "metadata": {},
   "outputs": [
    {
     "data": {
      "text/plain": [
       "array(['6.1', '6.6', '6.51', '6.53', '6.7', '6.52', '6.5', '6.43', '6.4',\n",
       "       '6.8', 'Chính 6.7 & Phụ 1.9', '6.56', '6.67',\n",
       "       'Chính 7.6 & Phụ 6.2', 'Chính 7.59 & Phụ 6.23', '5.4', nan, '6.55',\n",
       "       '5.0', '4.5', '6.3', '5.5', '4.7', '6.26'], dtype=object)"
      ]
     },
     "execution_count": 42,
     "metadata": {},
     "output_type": "execute_result"
    }
   ],
   "source": [
    "tranMM_df[\"Kích thước màn hình\"].unique()"
   ]
  },
  {
   "cell_type": "code",
   "execution_count": 43,
   "metadata": {},
   "outputs": [],
   "source": [
    "for i in list(tranMM_df.index):\n",
    "    if tranMM_df['Bộ nhớ'].iloc[i] == tranMM_df['Bộ nhớ'].iloc[i]:\n",
    "        if len(str(tranMM_df['Bộ nhớ'].iloc[i]).split()) < 5:\n",
    "            tranMM_df.loc[i, ['Bộ nhớ']] = ''.join(str(tranMM_df['Bộ nhớ'].iloc[i]).split())\n",
    "\n",
    "    if tranMM_df['RAM'].iloc[i] == tranMM_df['RAM'].iloc[i]:\n",
    "        if len(str(tranMM_df['RAM'].iloc[i]).split()) < 3:\n",
    "            tranMM_df.loc[i, ['RAM']] = ''.join(str(tranMM_df['RAM'].iloc[i]).split())\n",
    "\n",
    "    if tranMM_df['Camera trước'].iloc[i] == tranMM_df['Camera trước'].iloc[i]:\n",
    "          tranMM_df.loc[i, ['Camera trước']] = ''.join(str(tranMM_df['Camera trước'].iloc[i]).split())\n",
    "          tranMM_df.loc[i, ['Camera trước']] = ' '.join(re.findall(r'[\\d+.0|\\d+]+MP', str(tranMM_df['Camera trước'].iloc[i])))\n",
    "          tranMM_df.loc[i, ['Camera trước']] = ''.join(str(tranMM_df['Camera trước'].iloc[i]).split('.0'))\n",
    "\n",
    "          if str(tranMM_df['Camera trước'].iloc[i]) == '32MP +8MP':\n",
    "            tranMM_df.loc[i, ['Camera trước']] = '32MP 8MP'\n",
    "\n",
    "    if tranMM_df['Pin'].iloc[i] == tranMM_df['Pin'].iloc[i]:\n",
    "          tranMM_df.loc[i, ['Pin']] = ''.join(str(tranMM_df['Pin'].iloc[i]).split())"
   ]
  },
  {
   "cell_type": "code",
   "execution_count": 44,
   "metadata": {},
   "outputs": [
    {
     "data": {
      "text/plain": [
       "array(['12MP', '8MP', '16MP', '5MP', '13MP', '10MP', '32MP', '40MP',\n",
       "       '20MP', '10MP 4MP', nan, '2MP', '32MP 8MP', '44MP', '20MP 2MP',\n",
       "       '16MP 2MP', '7MP'], dtype=object)"
      ]
     },
     "execution_count": 44,
     "metadata": {},
     "output_type": "execute_result"
    }
   ],
   "source": [
    "tranMM_df['Camera trước'].unique()"
   ]
  },
  {
   "cell_type": "code",
   "execution_count": 45,
   "metadata": {},
   "outputs": [
    {
     "data": {
      "text/plain": [
       "array(['3110mAh', '5000mAh', nan, '4230mAh', '4500mAh', '2815mAh',\n",
       "       '4310mAh', '3300mAh', '6000mAh', '4400mAh', '3700mAh', '3687mAh',\n",
       "       '4000mAh', '4250mAh', '2400mAh', '2000mAh', '4025mAh', '4035mAh',\n",
       "       '2750mAh', '4800mAh', '4015mAh', '4300mAh', '3000mAh'],\n",
       "      dtype=object)"
      ]
     },
     "execution_count": 45,
     "metadata": {},
     "output_type": "execute_result"
    }
   ],
   "source": [
    "tranMM_df['Pin'].unique()"
   ]
  },
  {
   "cell_type": "markdown",
   "metadata": {},
   "source": [
    "### **Worldphone**"
   ]
  },
  {
   "cell_type": "code",
   "execution_count": 46,
   "metadata": {},
   "outputs": [
    {
     "name": "stdout",
     "output_type": "stream",
     "text": [
      "<class 'pandas.core.frame.DataFrame'>\n",
      "RangeIndex: 136 entries, 0 to 135\n",
      "Data columns (total 84 columns):\n",
      " #   Column                            Non-Null Count  Dtype  \n",
      "---  ------                            --------------  -----  \n",
      " 0   Tên điện thoại                    136 non-null    object \n",
      " 1   Giá                               136 non-null    object \n",
      " 2   Công nghệ màn hình                134 non-null    object \n",
      " 3   Độ phân giải                      136 non-null    object \n",
      " 4   Màn hình rộng                     126 non-null    object \n",
      " 5   Mặt kính cảm ứng                  133 non-null    object \n",
      " 6   Quay phim                         136 non-null    object \n",
      " 7   Đèn Flash                         136 non-null    object \n",
      " 8   Chụp ảnh nâng cao                 113 non-null    object \n",
      " 9   Videocall                         110 non-null    object \n",
      " 10  Thông tin khác                    108 non-null    object \n",
      " 11  Hệ điều hành                      132 non-null    object \n",
      " 12  Chipset (hãng SX CPU)             136 non-null    object \n",
      " 13  Tốc độ CPU                        136 non-null    object \n",
      " 14  Chip đồ họa (GPU)                 136 non-null    object \n",
      " 15  RAM                               135 non-null    object \n",
      " 16  Bộ nhớ trong                      134 non-null    object \n",
      " 17  Bộ nhớ còn lại (khả dụng)         68 non-null     object \n",
      " 18  Thẻ nhớ ngoài                     101 non-null    object \n",
      " 19  Mạng di động                      130 non-null    object \n",
      " 20  SIM                               135 non-null    object \n",
      " 21  Wifi                              133 non-null    object \n",
      " 22  GPS                               133 non-null    object \n",
      " 23  Bluetooth                         133 non-null    object \n",
      " 24  Cổng kết nối/sạc              132 non-null    object \n",
      " 25  Jack tai nghe                     132 non-null    object \n",
      " 26  Kết nối khác                      133 non-null    object \n",
      " 27  Thiết kế                          134 non-null    object \n",
      " 28  Chất liệu                         135 non-null    object \n",
      " 29  Kích thước                        119 non-null    object \n",
      " 30  Trọng lượng                       119 non-null    object \n",
      " 31  Dung lượng pin                    135 non-null    object \n",
      " 32  Loại pin                          136 non-null    object \n",
      " 33  Công nghệ pin                     113 non-null    object \n",
      " 34  Bảo mật nâng cao                  114 non-null    object \n",
      " 35  Ghi âm                            134 non-null    object \n",
      " 36  Radio                             118 non-null    object \n",
      " 37  Xem phim                          136 non-null    object \n",
      " 38  Nghe nhạc                         135 non-null    object \n",
      " 39  Thời điểm ra mắt                  115 non-null    object \n",
      " 40  Tính năng đặc biệt                123 non-null    object \n",
      " 41  Cổng kết nối/sạu              1 non-null      object \n",
      " 42  Màu màn hình                      2 non-null      object \n",
      " 43  Chuẩn màn hình                    2 non-null      object \n",
      " 44  Độ phân giải màn hình             2 non-null      object \n",
      " 45  Công nghệ cảm ứng                 2 non-null      object \n",
      " 46  Mặt kính màn hình                 2 non-null      object \n",
      " 47  Video Call                        2 non-null      object \n",
      " 48  Số nhân                           2 non-null      object \n",
      " 49  Chipset                           2 non-null      object \n",
      " 50  Danh bạ lưu trữ                   2 non-null      object \n",
      " 51  ROM                               2 non-null      object \n",
      " 52  Bộ nhớ còn lại                    2 non-null      object \n",
      " 53  Hỗ trợ thẻ nhớ tối đa             2 non-null      object \n",
      " 54  Kiểu dáng                         2 non-null      object \n",
      " 55  Khả năng chống nước               2 non-null      object \n",
      " 56  Pin có thể tháo rời               2 non-null      object \n",
      " 57  Chế độ sạc nhanh                  2 non-null      object \n",
      " 58  Băng tần 2G                       2 non-null      object \n",
      " 59  Băng tần 3G                       2 non-null      object \n",
      " 60  Băng tần 4G                       2 non-null      object \n",
      " 61  Hỗ trợ SIM                        1 non-null      object \n",
      " 62  Khe cắm sim                       2 non-null      object \n",
      " 63  GPRS/EDGE                         2 non-null      object \n",
      " 64  NFC                               2 non-null      object \n",
      " 65  Kết nối USB                       2 non-null      object \n",
      " 66  Cổng kết nối khác                 2 non-null      object \n",
      " 67  Cổng sạc                          2 non-null      object \n",
      " 68  Jack (Input & Output)             2 non-null      object \n",
      " 69  FM radio                          2 non-null      object \n",
      " 70  Tính năng                         25 non-null     object \n",
      " 71  Chip xử lý (CPU)                  18 non-null     object \n",
      " 72  Danh bạ                           17 non-null     object \n",
      " 73  Hỗ trợ sạc tối đa                 15 non-null     object \n",
      " 74  Kháng nước, bụi                   10 non-null     object \n",
      " 75  Kích thước, khối lượng            11 non-null     object \n",
      " 76  Đèn pin                           1 non-null      object \n",
      " 77  Kích thước màn hình               6 non-null      float64\n",
      " 78  Thẻ nhớ                           2 non-null      object \n",
      " 79  Khối lượng                        6 non-null      object \n",
      " 80  Độ sáng tối đa                    14 non-null     object \n",
      " 81  Bộ nhớ còn lại (khả dụng) khoảng  10 non-null     object \n",
      " 82  Tần số quét                       5 non-null      object \n",
      " 83  Chống nước                        5 non-null      object \n",
      "dtypes: float64(1), object(83)\n",
      "memory usage: 89.4+ KB\n"
     ]
    }
   ],
   "source": [
    "w_df = pd.read_csv(\"Data/Worldphone.csv\")\n",
    "w_df.info()"
   ]
  },
  {
   "cell_type": "code",
   "execution_count": 47,
   "metadata": {},
   "outputs": [],
   "source": [
    "with open('map_col/worldphone.json', \"r\", encoding=\"utf-8\") as infile:\n",
    "        cols = json.load(infile)\n",
    "\n",
    "tranWP_df = pd.DataFrame()\n",
    "\n",
    "for col in cols:\n",
    "    if(len(cols[col]) > 0):\n",
    "        tranWP_df[col] = w_df[cols[col]]\n",
    "    else:\n",
    "        tranWP_df[col] = np.nan\n",
    "\n",
    "tranWP_df['web'] = 'Worldphone'\n",
    "\n",
    "strip_df(tranWP_df)"
   ]
  },
  {
   "cell_type": "code",
   "execution_count": 48,
   "metadata": {},
   "outputs": [
    {
     "data": {
      "text/plain": [
       "array(['6.0', '5.5', '5.2', '5', '4.7', '6.8', 'Đang cập nhật', '6.4',\n",
       "       '6.1', '6', '5.7', nan, '6.3', '6.2', '5.8', '5.1', '6.34', '5.6',\n",
       "       '4.5', '4.5\"  inches', '5.99', '6.5', '6.1\" - Tần số quét 60 Hz'],\n",
       "      dtype=object)"
      ]
     },
     "execution_count": 48,
     "metadata": {},
     "output_type": "execute_result"
    }
   ],
   "source": [
    "tranWP_df['Kích thước màn hình'].unique()"
   ]
  },
  {
   "cell_type": "code",
   "execution_count": 49,
   "metadata": {},
   "outputs": [],
   "source": [
    "for i in list(tranWP_df.index):\n",
    "    if len(str(tranWP_df['Kích thước màn hình'].iloc[i]).split('\"')) < 5:\n",
    "        tranWP_df.loc[i, ['Kích thước màn hình']] = str(tranWP_df['Kích thước màn hình'].iloc[i]).split('\"')[0].strip()\n",
    "\n",
    "    if str(tranWP_df['Kích thước màn hình'].iloc[i]) == 'nan' or str(tranWP_df['Kích thước màn hình'].iloc[i]) == 'Đang cập nhật':\n",
    "        tranWP_df.loc[i, ['Kích thước màn hình']] = np.nan"
   ]
  },
  {
   "cell_type": "code",
   "execution_count": 50,
   "metadata": {},
   "outputs": [
    {
     "data": {
      "text/plain": [
       "array(['HTC U12 Plus (Brandnew - Seabox)',\n",
       "       'HTC U12 Plus (Nobox - Likenew 99%)',\n",
       "       'HTC U11 Plus 2 Sim (New 100% - Fullbox)',\n",
       "       'HTC U11 Plus 2 SIM (Nobox -Likenew 99%)',\n",
       "       'HTC U11 Quốc tế 1 SIM (Nobox - Likenew 99%)',\n",
       "       'HTC U11 Quốc tế 2 SIM (Nobox - Likenew 99%)',\n",
       "       'HTC 10 Quốc Tế (Likenew - Nobox)',\n",
       "       'HTC 10 Mỹ (Nobox - Likenew 99%)',\n",
       "       'HTC 10 Evo (Nobox - Likenew 99%)',\n",
       "       'HTC One M9 Quốc Tế (Nobox - Likenew 99%)',\n",
       "       'HTC One M9 Mỹ (Nobox - Likenew 99%)',\n",
       "       'HTC One M8 Mỹ (Nobox - Likenew 99%)',\n",
       "       'HTC One M7 2 Sim (Nobox - Likenew 99%)',\n",
       "       'HTC One M7 (Nobox - Likenew 99%)', 'HTC M7 J One (Likenew 99%)',\n",
       "       'HTC One E8 2 Sim (Likenew 99%-Fullbox)',\n",
       "       'HTC One A9 - 3GB RAM (Fullbox - Likenew 99%)',\n",
       "       'LG V60 ThinQ 5G (Likenew - Nobox)', 'LG Velvet 5G (Likenew 99%)',\n",
       "       'LG V50s ThinQ 5G Hàn Likenew 99%', 'LG G8x ThinQ Likenew 99%',\n",
       "       'LG G8 ThinQ Quốc Tế Mỹ Cũ', 'LG G8 ThinQ Hàn Likenew 99%',\n",
       "       'LG V40 ThinQ (Nobox - Likenew 99%)',\n",
       "       'LG V40 ThinQ Hàn (Nobox - Likenew 99%)',\n",
       "       'LG V35 ThinQ Nhật iSai Likenew 99% (V30+)',\n",
       "       'LG V35 ThinQ Quốc Tế Mỹ Cũ', 'LG V35 ThinQ Hàn Cũ',\n",
       "       'LG V30 Plus (Nobox - Likenew 99%)', 'LG V30 Hàn Likenew 99%',\n",
       "       'LG G7 ThinQ Hàn Cũ', 'LG G7 ThinQ Quốc Tế Mỹ Cũ',\n",
       "       'LG G6 Quốc Tế Mỹ Cũ', 'LG G6 Hàn Likenew 99%',\n",
       "       'LG V20 Quốc Tế Mỹ (Nobox - Likenew 99%)', 'LG V20 Hàn Cũ',\n",
       "       'LG G3 (Nobox - Likenew 99%)',\n",
       "       'Samsung Galaxy Note 9 Hàn 2 sim (Nobox - Likenew 99%)',\n",
       "       'Samsung Galaxy Note 8 Hàn 2 sim (Nobox - Likenew 99%)',\n",
       "       'Samsung Galaxy Note 8 (Nobox - Likenew 99%)',\n",
       "       'Samsung Galaxy S9+ (Nobox - Likenew 99%)',\n",
       "       'Samsung Galaxy S9 (Nobox - Likenew 99%)',\n",
       "       'Samsung Galaxy S7 Edge 1 Sim (Nobox - Likenew 99%)',\n",
       "       'Samsung Galaxy S7 Edge 2 Sim (Nobox - Likenew 99%)',\n",
       "       'Samsung Galaxy S7 1 Sim (Nobox - Likenew 99%)',\n",
       "       'Samsung Galaxy S7 2 Sim (Nobox - Likenew 99%)',\n",
       "       'Samsung Galaxy S8 Plus (Nobox - Likenew 99%)',\n",
       "       'Samsung Galaxy S6 Edge (Nobox - Likenew 99%)',\n",
       "       'Samsung Galaxy S6 Docomo (Nobox - Likenew 99%)',\n",
       "       'Samsung Galaxy Note 5 (Nobox - Likenew 99%)',\n",
       "       'Samsung Galaxy Note 7 FE (Nobox - Likenew 99%)',\n",
       "       'Google Pixel 5a 5G Likenew 99%', 'Google Pixel 5 Likenew 99%',\n",
       "       'Google Pixel 4 XL 128GB', 'Google Pixel 4 XL 64GB',\n",
       "       'Google Pixel 3a XL Cũ', 'Google Pixel 3a (Nobox - Likenew 99%)',\n",
       "       'Google Pixel 3 XL 64GB Cũ', 'Google Pixel 3 XL 128GB Cũ',\n",
       "       'Google Pixel 3 (Nobox - Likenew 99%)',\n",
       "       'Google Pixel 2 XL (New 100% - Fullbox)',\n",
       "       'Google Pixel 2 XL (Nobox - Likenew 99%)',\n",
       "       'Google Pixel 2 (Nobox - Likenew 99%)',\n",
       "       'Google Pixel XL (Nobox - Likenew 99%)',\n",
       "       'Google Pixel (Nobox - Likenew 99%)',\n",
       "       'Motorola Moto M 2 sim (Fullbox - Mới 100%)',\n",
       "       'Motorola Google Nexus 6 (Nobox - Likenew 99%)',\n",
       "       'Sony Xperia XZ2 2 SIM (New 100% - Fullbox)',\n",
       "       'Sony Xperia XZ2 Nhật Likenew 99%', 'Sony Xperia XZ3 Likenew 99%',\n",
       "       'Sony Xperia XZ2 Premium Cũ',\n",
       "       'Sony Xperia XZ Premium likenew 99,9%',\n",
       "       'Sony Xperia Z5 (New 100% - Nobox)', 'Sony Xperia 5 Cũ',\n",
       "       'BlackBerry KEYone 2 Sim Likenew-FullBox',\n",
       "       'BlackBerry KEY2 2 SIM Chính hãng (Fullbox - Mới 100%)',\n",
       "       'BlackBerry KEY2 2 Sim Red 128GB',\n",
       "       'BlackBerry Evolve 2 SIM Chính hãng (Fullbox - Mới 100%)',\n",
       "       'iPhone Xs Max 2 SIM (Likenew)',\n",
       "       'iPhone Xs Max Quốc Tế 2 SIM (Mới 100% - Nguyên Seal)',\n",
       "       'BlackBerry KEY2 2 SIM 64GB Quốc Tế (Nobox - Likenew 99%)',\n",
       "       'BlackBerry KEY2 2 SIM 128GB (Nobox - Likenew 99%)',\n",
       "       'BlackBerry KEY2 LE 2 SIM (Nguyên Seal - Mới 100%)',\n",
       "       'BlackBerry KEY2 2 SIM Cũ',\n",
       "       'BlackBerry KEY2 2 SIM Chính hãng (Nguyên Seal - Mới 100%)',\n",
       "       'BlackBerry KEYone 2 SIM (Nobox - Likenew 99%)',\n",
       "       'BlackBerry KEYone 2 Sim BrandNew FullBox',\n",
       "       'iPhone 12 64GB (Likenew)', 'iPhone 12 Pro (Likenew)',\n",
       "       'iPhone 12 256GB (Likenew)', 'iPhone 12 128GB (Likenew)',\n",
       "       'iPhone Xs Max 512GB (Likenew)', 'iPhone Xs Max 256GB (Likenew)',\n",
       "       'iPhone Xs Max 64GB (Likenew)', 'iPhone Xs 512GB (Likenew)',\n",
       "       'iPhone Xs 256GB (Likenew)', 'iPhone Xs 64GB (Likenew)',\n",
       "       'iPhone Xs Max 1 SIM (Likenew)',\n",
       "       'iPhone Xs Max Quốc Tế 1 SIM (Mới 100% - Nguyên Seal)',\n",
       "       'iPhone Xs Quốc Tế (Mới 100% - Nguyên Seal)',\n",
       "       'iPhone Xs (Likenew)', 'iPhone 11 256GB (97%)', 'iPhone 11 (97%)',\n",
       "       'iPhone 11 256GB (Likenew)', 'iPhone 11 (Likenew)',\n",
       "       'iPhone 11 Pro Max 512GB (Likenew)',\n",
       "       'iPhone 11 Pro Max 256GB (Likenew)', 'iPhone 11 Pro Max (Likenew)',\n",
       "       'iPhone 11 Pro 256GB (Likenew)', 'iPhone 11 Pro 64GB (Likenew)',\n",
       "       'iPhone 11 Pro Max 64GB (Likenew)', 'iPhone XR 256GB (Likenew)',\n",
       "       'iPhone XR 128GB (Likenew)',\n",
       "       'iPhone XR 64GB Quốc Tế (Likenew 99%)',\n",
       "       'iPhone XR 64GB Quốc Tế Mới (LL/A)', 'iPhone X 256GB Quốc Tế Cũ',\n",
       "       'iPhone X 64GB Quốc Tế Cũ', 'iPhone Xr (Likenew)',\n",
       "       'iPhone 8 Plus 256GB Quốc Tế Cũ', 'iPhone 8 Plus 64GB (Likenew)',\n",
       "       'iPhone 8 256GB (Likenew)', 'iPhone 8 64GB (Likenew)',\n",
       "       'iPhone 7 Plus 256GB Quốc Tế Cũ', 'iPhone 7 Plus 128GB Quốc Tế Cũ',\n",
       "       'iPhone 7 Plus 32GB Quốc Tế Cũ', 'iPhone 7 256GB Quốc Tế Cũ',\n",
       "       'iPhone 7 128GB Quốc Tế Cũ', 'iPhone 7 32GB (Likenew)'],\n",
       "      dtype=object)"
      ]
     },
     "execution_count": 50,
     "metadata": {},
     "output_type": "execute_result"
    }
   ],
   "source": [
    "tranWP_df['Tên sản phẩm'].unique()"
   ]
  },
  {
   "cell_type": "code",
   "execution_count": 51,
   "metadata": {},
   "outputs": [
    {
     "data": {
      "text/plain": [
       "array(['8 MP và 8 MP (2 camera)', '8 MP', '16 MP', '5 MP', '8MP',\n",
       "       '4 Ultra pixel', '2.1 MP', '10 MP',\n",
       "       '48 MP, f/1.8, 26mm (wide), 1/2.0\", 0.8µm, PDAF',\n",
       "       'Đang cập nhật', '32 MP', '8 MP và TOF 3D (2 camera)',\n",
       "       '8 MP và 5 MP (2 camera)', '12.0 MP', '5MP',\n",
       "       'Chính 8 MP & Phụ TOF 3D', '2MP', '13MP', '13 MP', '7MP', '12MP',\n",
       "       '12 MP', '7 MP'], dtype=object)"
      ]
     },
     "execution_count": 51,
     "metadata": {},
     "output_type": "execute_result"
    }
   ],
   "source": [
    "tranWP_df['Camera trước'].unique()"
   ]
  },
  {
   "cell_type": "code",
   "execution_count": 52,
   "metadata": {},
   "outputs": [],
   "source": [
    "for i in list(tranWP_df.index):\n",
    "     if tranWP_df['Camera trước'].iloc[i] == tranWP_df['Camera trước'].iloc[i]:\n",
    "          if str(tranWP_df['Camera trước'].iloc[i])  == 'Chính 8 MP & Phụ TOF 3D' or str(tranWP_df['Camera trước'].iloc[i])  == '8 MP và TOF 3D (2 camera)':\n",
    "               tranWP_df.loc[i, ['Camera trước']] = '8MP & TOF 3D'\n",
    "          elif str(tranWP_df['Camera trước'].iloc[i]) != '4 Ultra pixel':\n",
    "               tranWP_df.loc[i, ['Camera trước']] = ''.join(str(tranWP_df['Camera trước'].iloc[i]).split())\n",
    "               tranWP_df.loc[i, ['Camera trước']] = ' '.join(re.findall(r'[\\d+.0|\\d+]+MP', str(tranWP_df['Camera trước'].iloc[i])))\n",
    "               tranWP_df.loc[i, ['Camera trước']] = ''.join(str(tranWP_df['Camera trước'].iloc[i]).split('.0'))\n",
    "\n",
    "          if str(tranWP_df['Camera trước'].iloc[i]) == '':\n",
    "               tranWP_df.loc[i, ['Camera trước']] = np.nan\n",
    "\n",
    "     if tranWP_df['Pin'].iloc[i] == tranWP_df['Pin'].iloc[i]:\n",
    "          tranWP_df.loc[i, ['Pin']] = ''.join(str(tranWP_df['Pin'].iloc[i]).split())\n",
    "\n"
   ]
  },
  {
   "cell_type": "code",
   "execution_count": 53,
   "metadata": {},
   "outputs": [
    {
     "data": {
      "text/plain": [
       "array(['3500mAh', '3930mAh', '3000mAh', '3200mAh', '2840mAh', '2600mAh',\n",
       "       '2300mAh', '2150mAh', '5000mAh', '4300mAh', nan, '4000mAh',\n",
       "       '3300mAh', '3600mAh', '2550mAh', '4620mAh', '4080mAh', '3700mAh',\n",
       "       '3430mAh', '2915mAh', '3520mAh', '2700mAh', '3450mAh', '2770mAh',\n",
       "       '3050mAh', '3220mAh', '3180mAh', '3540mAh', '3230mAh', '2900mAh',\n",
       "       '3140mAh', '3505mAh', '3174mAh', '2815mAh', '2658mAh', '3110mAh',\n",
       "       '3046mAh', '2942mAh', '2716mAh', '2691mAh', '1821mAh', '1960mAh'],\n",
       "      dtype=object)"
      ]
     },
     "execution_count": 53,
     "metadata": {},
     "output_type": "execute_result"
    }
   ],
   "source": [
    "tranWP_df['Pin'].unique()"
   ]
  },
  {
   "cell_type": "code",
   "execution_count": 54,
   "metadata": {},
   "outputs": [
    {
     "data": {
      "text/plain": [
       "array(['8MP 8MP', '8MP', '16MP', '5MP', '4 Ultra pixel', '2.1MP', '10MP',\n",
       "       '48MP', nan, '32MP', '8MP & TOF 3D', '8MP 5MP', '12MP', '2MP',\n",
       "       '13MP', '7MP'], dtype=object)"
      ]
     },
     "execution_count": 54,
     "metadata": {},
     "output_type": "execute_result"
    }
   ],
   "source": [
    "tranWP_df['Camera trước'].unique()"
   ]
  },
  {
   "cell_type": "code",
   "execution_count": 55,
   "metadata": {},
   "outputs": [],
   "source": [
    "for i in list(tranWP_df.index):\n",
    "    if tranWP_df['Bộ nhớ'].iloc[i] == tranWP_df['Bộ nhớ'].iloc[i]:\n",
    "        if len(str(tranWP_df['Bộ nhớ'].iloc[i]).split()) < 5:\n",
    "            tranWP_df.loc[i, ['Bộ nhớ']] = ''.join(str(tranWP_df['Bộ nhớ'].iloc[i]).split())\n",
    "\n",
    "    if tranWP_df['RAM'].iloc[i] == tranWP_df['RAM'].iloc[i]:\n",
    "        if len(str(tranWP_df['RAM'].iloc[i]).split()) < 3:\n",
    "            tranWP_df.loc[i, ['RAM']] = ''.join(str(tranWP_df['RAM'].iloc[i]).split())"
   ]
  },
  {
   "cell_type": "code",
   "execution_count": 56,
   "metadata": {},
   "outputs": [],
   "source": [
    "tranWP_df.drop(tranWP_df.query(\"`Bộ nhớ` == '64/128GB' or `Bộ nhớ` == '128/512GB' or `Bộ nhớ` == '16/32GB' or `Bộ nhớ` == '64GB,256GB,512GB'\").index, inplace=True)"
   ]
  },
  {
   "cell_type": "code",
   "execution_count": 57,
   "metadata": {},
   "outputs": [],
   "source": [
    "tranWP_df.drop(tranWP_df.query(\"`Giá bán` == '0₫'\").index, inplace=True)"
   ]
  },
  {
   "cell_type": "code",
   "execution_count": 58,
   "metadata": {},
   "outputs": [],
   "source": [
    "dict = tranWP_df.groupby([\"Tên sản phẩm\"])[\"Camera trước\"].groups\n",
    "\n",
    "for key in dict.keys():\n",
    "    if len(dict[key]) > 0:\n",
    "        tranWP_df.drop(dict[key][1:], inplace=True)"
   ]
  },
  {
   "cell_type": "markdown",
   "metadata": {},
   "source": [
    "### **Save**"
   ]
  },
  {
   "cell_type": "code",
   "execution_count": 59,
   "metadata": {},
   "outputs": [
    {
     "data": {
      "text/plain": [
       "Tên sản phẩm             140\n",
       "Bộ nhớ                   140\n",
       "image_url                140\n",
       "url                      140\n",
       "web                      140\n",
       "Giá bán                  140\n",
       "Kích thước màn hình      139\n",
       "RAM                      137\n",
       "Camera trước             136\n",
       "Chipset                  124\n",
       "Pin                      112\n",
       "Hệ điều hành              88\n",
       "Độ phân giải màn hình     88\n",
       "Kích thước                62\n",
       "Wi-Fi                     59\n",
       "Bluetooth                 57\n",
       "Quay video                21\n",
       "Giá gốc                    0\n",
       "Tần số quét                0\n",
       "Trọng lượng                0\n",
       "GPU                        0\n",
       "Cổng sạc                   0\n",
       "dtype: int64"
      ]
     },
     "execution_count": 59,
     "metadata": {},
     "output_type": "execute_result"
    }
   ],
   "source": [
    "tranNK_df.notnull().sum().sort_values(ascending=False)"
   ]
  },
  {
   "cell_type": "code",
   "execution_count": 60,
   "metadata": {},
   "outputs": [
    {
     "data": {
      "text/plain": [
       "Tên sản phẩm             91\n",
       "Pin                      91\n",
       "Cổng sạc                 91\n",
       "Trọng lượng              91\n",
       "Kích thước               91\n",
       "web                      91\n",
       "Kích thước màn hình      91\n",
       "Giá bán                  91\n",
       "Bộ nhớ                   88\n",
       "RAM                      88\n",
       "Bluetooth                88\n",
       "Hệ điều hành             88\n",
       "Wi-Fi                    87\n",
       "Chipset                  86\n",
       "Camera trước             86\n",
       "Quay video               85\n",
       "Tần số quét              81\n",
       "GPU                      81\n",
       "Giá gốc                   0\n",
       "Độ phân giải màn hình     0\n",
       "url                       0\n",
       "image_url                 0\n",
       "dtype: int64"
      ]
     },
     "execution_count": 60,
     "metadata": {},
     "output_type": "execute_result"
    }
   ],
   "source": [
    "tranTGDD_df.notnull().sum().sort_values(ascending=False)"
   ]
  },
  {
   "cell_type": "code",
   "execution_count": 61,
   "metadata": {},
   "outputs": [
    {
     "data": {
      "text/plain": [
       "Tên sản phẩm             273\n",
       "Giá gốc                  273\n",
       "image_url                273\n",
       "url                      273\n",
       "web                      273\n",
       "Giá bán                  273\n",
       "Kích thước màn hình      270\n",
       "Bộ nhớ                   268\n",
       "Chipset                  264\n",
       "Kích thước               262\n",
       "Bluetooth                262\n",
       "Camera trước             262\n",
       "Wi-Fi                    261\n",
       "Hệ điều hành             259\n",
       "Pin                      256\n",
       "Trọng lượng              255\n",
       "Độ phân giải màn hình    255\n",
       "RAM                      254\n",
       "Quay video               248\n",
       "GPU                      243\n",
       "Cổng sạc                 212\n",
       "Tần số quét              169\n",
       "dtype: int64"
      ]
     },
     "execution_count": 61,
     "metadata": {},
     "output_type": "execute_result"
    }
   ],
   "source": [
    "CP_df.notnull().sum().sort_values(ascending=False)"
   ]
  },
  {
   "cell_type": "code",
   "execution_count": 62,
   "metadata": {},
   "outputs": [
    {
     "data": {
      "text/plain": [
       "Tên sản phẩm             147\n",
       "url                      147\n",
       "image_url                147\n",
       "web                      147\n",
       "Giá bán                  147\n",
       "RAM                      145\n",
       "Bộ nhớ                   143\n",
       "Camera trước             142\n",
       "Hệ điều hành             142\n",
       "Độ phân giải màn hình    142\n",
       "Bluetooth                141\n",
       "Kích thước màn hình      141\n",
       "Wi-Fi                    141\n",
       "Cổng sạc                 138\n",
       "Chipset                  136\n",
       "Quay video               131\n",
       "Pin                      120\n",
       "GPU                      114\n",
       "Tần số quét               53\n",
       "Giá gốc                    0\n",
       "Kích thước                 0\n",
       "Trọng lượng                0\n",
       "dtype: int64"
      ]
     },
     "execution_count": 62,
     "metadata": {},
     "output_type": "execute_result"
    }
   ],
   "source": [
    "tranMM_df.notnull().sum().sort_values(ascending=False)"
   ]
  },
  {
   "cell_type": "code",
   "execution_count": 63,
   "metadata": {},
   "outputs": [
    {
     "data": {
      "text/plain": [
       "Tên sản phẩm             117\n",
       "Chipset                  117\n",
       "GPU                      117\n",
       "Quay video               117\n",
       "web                      117\n",
       "Giá bán                  117\n",
       "Camera trước             116\n",
       "Pin                      116\n",
       "RAM                      116\n",
       "Bộ nhớ                   115\n",
       "Wi-Fi                    115\n",
       "Bluetooth                115\n",
       "Hệ điều hành             113\n",
       "Cổng sạc                 113\n",
       "Kích thước màn hình      106\n",
       "Trọng lượng              101\n",
       "Kích thước               101\n",
       "Tần số quét                5\n",
       "Độ phân giải màn hình      2\n",
       "Giá gốc                    0\n",
       "url                        0\n",
       "image_url                  0\n",
       "dtype: int64"
      ]
     },
     "execution_count": 63,
     "metadata": {},
     "output_type": "execute_result"
    }
   ],
   "source": [
    "tranWP_df.notnull().sum().sort_values(ascending=False)"
   ]
  },
  {
   "cell_type": "code",
   "execution_count": 64,
   "metadata": {},
   "outputs": [],
   "source": [
    "def show_val(df):\n",
    "    print()\n",
    "    print(df[\"Kích thước màn hình\"].unique())\n",
    "    print()\n",
    "    print(df[\"Bộ nhớ\"].unique())\n",
    "    print()\n",
    "    print(df[\"RAM\"].unique())\n",
    "    print()\n",
    "    print(\"-------------------------------------------------------------------------------------------\")\n"
   ]
  },
  {
   "cell_type": "code",
   "execution_count": 65,
   "metadata": {},
   "outputs": [
    {
     "name": "stdout",
     "output_type": "stream",
     "text": [
      "\n",
      "['6.1' '6.7' '5.4' '4.7' '6.8' '6.5' 'Chính 7.6 & Phụ 6.2' '6.6'\n",
      " 'Chính 6.7 & Phụ 1.9' '6.4' '6.43' '6.56' '6.52' '6.67' '6.28' '6.55'\n",
      " '6.53' '6.71' '6.51' '6.44' '6.58' '6.82' '2.4' '1.8' '1.77' '2']\n",
      "\n",
      "['64GB' '128GB' '512GB' '256GB' '32GB' nan '128MB' '24MB' '256MB']\n",
      "\n",
      "['4GB' '6GB' '3GB' '8GB' '12GB' '2GB'\n",
      " '8 GB + 3 GB (Công nghệ mở rộng RAM)' nan '48MB' '64MB' '16MB']\n",
      "\n",
      "-------------------------------------------------------------------------------------------\n",
      "\n",
      "['6.7' '6.1' '6.43' '6.8' '6.67' '6.6' '6.9' '6.55' '6.58' '4.7' '6.39'\n",
      " '6.4' '6.78' '6.28' '6.5' '5.4' '6.53' '6.73' '6.71' '6.51' '7.6' '6.59'\n",
      " nan '6.44' '6.82' '6.52' '6.49' '1.77' '6.56' '6.81' '1.8' '6.22'\n",
      " 'Chính: 7.6 & Phụ: 6.23' '5.5' '2.4' '5.8' '6.26' '6.2' '5.7' '5.3' '6.0'\n",
      " '6.47' '6.09']\n",
      "\n",
      "['256GB' '64GB' '128GB' '512GB' '32GB' nan '128MB' '16GB' '1TB' '4GB']\n",
      "\n",
      "['8GB' '4GB' '6GB' '12GB' '4GB + Mở rộng 3GB' '4GB + Mở rộng 1GB' '16GB'\n",
      " '2GB' '3GB' '6GB + Mở rộng 5GB' nan '18GB' '12 GB + 3 GB (RAM bổ sung)'\n",
      " '1GB']\n",
      "\n",
      "-------------------------------------------------------------------------------------------\n",
      "\n",
      "['6.1' '6.6' '6.51' '6.53' '6.7' '6.52' '6.5' '6.43' '6.4' '6.8'\n",
      " 'Chính 6.7 & Phụ 1.9' '6.56' '6.67' 'Chính 7.6 & Phụ 6.2'\n",
      " 'Chính 7.59 & Phụ 6.23' '5.4' nan '6.55' '5.0' '4.5' '6.3' '5.5' '4.7'\n",
      " '6.26']\n",
      "\n",
      "['64GB' '128GB' '32GB' '256GB' '512GB' nan '8GB' '1TB']\n",
      "\n",
      "['4GB' '2GB' '6GB' '3GB' '8GB' nan '12GB' '1GB']\n",
      "\n",
      "-------------------------------------------------------------------------------------------\n",
      "\n",
      "['6.43' '6.6' '6.5' '6.4' '6.52' '6.44' '6.1' '6.51' '6.53' '6.67' '6.8'\n",
      " '6.7' '6.9' '6.82' '6.56' '6.58' nan '5.4']\n",
      "\n",
      "['128GB' '64GB' '32GB' '256GB' '512GB' '1TB']\n",
      "\n",
      "['8GB' '4GB' '6GB' nan '3GB' '2GB' '12GB']\n",
      "\n",
      "-------------------------------------------------------------------------------------------\n",
      "\n",
      "['6.0' '5.5' '5.2' '5' '4.7' '6.8' nan '6.4' '6.1' '6' '5.7' '6.3' '5.8'\n",
      " '5.1' '6.2' '6.34' '5.6' '4.5' '5.99' '6.5']\n",
      "\n",
      "['128GB' '32GB' '16GB' '256GB' '64GB' nan '512GB']\n",
      "\n",
      "['6GB' '4GB' '3GB' '2GB' '8GB' nan]\n",
      "\n",
      "-------------------------------------------------------------------------------------------\n"
     ]
    }
   ],
   "source": [
    "show_val(tranTGDD_df)\n",
    "show_val(CP_df)\n",
    "show_val(tranMM_df)\n",
    "show_val(tranNK_df)\n",
    "show_val(tranWP_df)"
   ]
  },
  {
   "cell_type": "code",
   "execution_count": 66,
   "metadata": {},
   "outputs": [],
   "source": [
    "tranTGDD_df.to_csv(r'Data/Tranform_data/tf_tgdd.csv', index=False, header=True)\n",
    "CP_df.to_csv(r'Data/Tranform_data/tf_cellphones.csv', index=False, header=True)\n",
    "tranMM_df.to_csv(r'Data/Tranform_data/tf_media_mart.csv', index=False, header=True)\n",
    "tranNK_df.to_csv(r'Data/Tranform_data/tf_nguyen_kim.csv', index=False, header=True)\n",
    "tranWP_df.to_csv(r'Data/Tranform_data/tf_worldphone.csv', index=False, header=True)"
   ]
  },
  {
   "cell_type": "code",
   "execution_count": 67,
   "metadata": {},
   "outputs": [],
   "source": [
    "df = pd.concat([tranTGDD_df, CP_df, tranMM_df, tranNK_df, tranWP_df], ignore_index=True)"
   ]
  },
  {
   "cell_type": "code",
   "execution_count": 68,
   "metadata": {},
   "outputs": [
    {
     "data": {
      "text/plain": [
       "Tên sản phẩm             768\n",
       "Giá bán                  768\n",
       "web                      768\n",
       "Bộ nhớ                   754\n",
       "Kích thước màn hình      747\n",
       "Camera trước             742\n",
       "RAM                      740\n",
       "Chipset                  727\n",
       "Pin                      695\n",
       "Hệ điều hành             690\n",
       "Bluetooth                663\n",
       "Wi-Fi                    663\n",
       "Quay video               602\n",
       "url                      560\n",
       "image_url                560\n",
       "GPU                      555\n",
       "Cổng sạc                 554\n",
       "Kích thước               516\n",
       "Độ phân giải màn hình    487\n",
       "Trọng lượng              447\n",
       "Tần số quét              308\n",
       "Giá gốc                  273\n",
       "dtype: int64"
      ]
     },
     "execution_count": 68,
     "metadata": {},
     "output_type": "execute_result"
    }
   ],
   "source": [
    "df.notnull().sum().sort_values(ascending=False)"
   ]
  },
  {
   "cell_type": "code",
   "execution_count": 69,
   "metadata": {},
   "outputs": [
    {
     "data": {
      "text/plain": [
       "dict_keys([('1000mAh', nan), ('1020mAh', '0.08MP'), ('1020mAh', '120x160'), ('1020mAh', nan), ('1150mAh', '240x320'), ('1150mAh', nan), ('1400mAh', '0.08MP'), ('1500mAh', nan), ('1700mAh', nan), ('1750mAh', '7MP'), ('1800mAh', nan), ('1820mAh', '7MP'), ('1821mAh', '7MP'), ('1900mAh', '0.3MP'), ('1960mAh', '7MP'), ('2000mAh', '2MP'), ('2000mAh', nan), ('2018mAh', '7MP'), ('2150mAh', '4 Ultra pixel'), ('2227mAh', '12MP'), ('2300mAh', '2.1MP'), ('2400mAh', '2MP'), ('2400mAh', nan), ('2406mAh', '12MP'), ('2438mAh', '12MP'), ('2550mAh', '5MP'), ('2600mAh', '5MP'), ('2658mAh', '7MP'), ('2691mAh', '7MP'), ('2700mAh', '8MP'), ('2750mAh', '5MP'), ('2770mAh', '8MP'), ('2815mAh', '12MP'), ('2840mAh', '4 Ultra pixel'), ('2900mAh', '5MP'), ('2900mAh', '7MP'), ('2915mAh', '8MP 8MP'), ('2942mAh', '7MP'), ('2950mAh', '5MP'), ('3000mAh', '16MP'), ('3000mAh', '5MP'), ('3000mAh', '8MP'), ('3046mAh', '12MP'), ('3050mAh', '8MP'), ('3095mAh', '12MP'), ('3110mAh', '12MP'), ('3140mAh', '8MP'), ('3174mAh', '7MP'), ('3180mAh', '5MP'), ('3200mAh', '12MP'), ('3200mAh', '5MP'), ('3200mAh', '8MP'), ('3220mAh', '2MP'), ('3230mAh', '13MP'), ('3240mAh', '12MP'), ('3300mAh', '1,22μm'), ('3300mAh', '10MP'), ('3300mAh', '13MP'), ('3300mAh', '5MP'), ('3300mAh', '8MP'), ('3300mAh', '8MP 5MP'), ('3430mAh', '8MP 8MP'), ('3450mAh', '8MP'), ('3500mAh', '8.0MP'), ('3500mAh', '8MP'), ('3500mAh', '8MP & TOF 3D'), ('3505mAh', '8MP'), ('3520mAh', '8MP'), ('3540mAh', '13MP'), ('3600mAh', '12MP'), ('3687mAh', '12MP'), ('3700mAh', '10MP'), ('3700mAh', '8MP'), ('3700mAh', '8MP & TOF 3D'), ('3700mAh', nan), ('3750mAh', '32MP'), ('3930mAh', '8MP'), ('4000mAh', '16MP'), ('4000mAh', '16MP 2MP'), ('4000mAh', '20MP'), ('4000mAh', '20MP 2MP'), ('4000mAh', '32MP'), ('4000mAh', '44MP'), ('4000mAh', '5MP'), ('4000mAh', '8MP'), ('4015mAh', '32MP'), ('4020mAh', '16MP'), ('4025mAh', '44MP'), ('4035mAh', '16MP'), ('4050mAh', '50MP'), ('4080mAh', '8MP'), ('4100mAh', nan), ('4200mAh', '16MP'), ('4200mAh', '32MP'), ('4200mAh', '50MP 8MP'), ('4230mAh', '13MP'), ('4230mAh', '5MP'), ('4230mAh', '8MP'), ('4250mAh', '20MP'), ('4300mAh', '10MP'), ('4300mAh', '16MP'), ('4300mAh', '32MP'), ('4300mAh', '44MP'), ('4300mAh', '48MP'), ('4310mAh', '16MP'), ('4310mAh', '32MP'), ('4310mAh', '44MP'), ('4325mAh', '12MP'), ('4352mAh', '12MP'), ('4400mAh', '10MP 4MP'), ('4400mAh', '4MP'), ('4400mAh', '4MP 10MP'), ('4450mAh', '32MP'), ('4500mAh', '10MP'), ('4500mAh', '10MP 10MP'), ('4500mAh', '16MP'), ('4500mAh', '32MP'), ('4500mAh', '32MP 8MP'), ('4500mAh', '5MP'), ('4500mAh', '8MP'), ('4500mAh', nan), ('4600mAh', '20MP'), ('4600mAh', '32MP'), ('4620mAh', '8MP'), ('4700mAh', '20MP'), ('4800mAh', '10MP'), ('5000mAh', '10MP'), ('5000mAh', '13MP'), ('5000mAh', '16MP'), ('5000mAh', '16MP 16MP'), ('5000mAh', '20MP'), ('5000mAh', '2MP'), ('5000mAh', '32MP'), ('5000mAh', '40MP'), ('5000mAh', '5MP'), ('5000mAh', '8MP'), ('5000mAh', nan), ('5020mAh', '13MP'), ('5020mAh', '16MP'), ('5020mAh', '5MP'), ('5050mAh', '5MP'), ('5050mAh', '8MP'), ('5160mAh', '20MP'), ('5260mAh', '16MP'), ('5260mAh', '32MP'), ('6000mAh', '20MP'), ('6000mAh', '24MP'), ('6000mAh', '5MP'), ('6000mAh', '8.0MP'), ('6000mAh', '8MP'), ('7000mAh', '32MP'), ('7000mAh', '8MP'), ('800mAh', '120x160'), ('800mAh', nan), (nan, '12MP'), (nan, '13MP'), (nan, '16MP'), (nan, '2MP'), (nan, '32MP'), (nan, '5MP'), (nan, '7MP'), (nan, '8MP'), (nan, nan)])"
      ]
     },
     "execution_count": 69,
     "metadata": {},
     "output_type": "execute_result"
    }
   ],
   "source": [
    "df.groupby(['Pin', 'Camera trước']).groups.keys()"
   ]
  },
  {
   "cell_type": "code",
   "execution_count": 70,
   "metadata": {},
   "outputs": [
    {
     "name": "stdout",
     "output_type": "stream",
     "text": [
      "Tên sản phẩm : 768\n",
      "Giá gốc : 105\n",
      "Giá bán : 426\n",
      "Kích thước màn hình : 58\n",
      "RAM : 18\n",
      "Bộ nhớ : 13\n",
      "Chipset : 261\n",
      "Pin : 88\n",
      "Kích thước : 326\n",
      "Bluetooth : 125\n",
      "Camera trước : 36\n",
      "Wi-Fi : 152\n",
      "Hệ điều hành : 128\n",
      "Độ phân giải màn hình : 90\n",
      "Tần số quét : 12\n",
      "Trọng lượng : 166\n",
      "Quay video : 153\n",
      "GPU : 104\n",
      "Cổng sạc : 7\n",
      "url : 561\n",
      "image_url : 561\n",
      "web : 5\n"
     ]
    }
   ],
   "source": [
    "for col in df.columns:\n",
    "    print(col + \" : \" + str(len(df[col].unique())))"
   ]
  },
  {
   "cell_type": "markdown",
   "metadata": {},
   "source": [
    "### **Process \"Tên sản phẩm\", \"Chipset\"**"
   ]
  },
  {
   "cell_type": "code",
   "execution_count": 71,
   "metadata": {},
   "outputs": [],
   "source": [
    "tranTGDD_df = pd.read_csv('Data/Tranform_data/tf_tgdd.csv')\n",
    "\n",
    "CP_df = pd.read_csv('Data/Tranform_data/tf_cellphones.csv')\n",
    "\n",
    "tranMM_df = pd.read_csv('Data/Tranform_data/tf_media_mart.csv')\n",
    "\n",
    "tranNK_df = pd.read_csv('Data/Tranform_data/tf_nguyen_kim.csv')\n",
    "\n",
    "tranWP_df = pd.read_csv('Data/Tranform_data/tf_worldphone.csv')"
   ]
  },
  {
   "cell_type": "code",
   "execution_count": 72,
   "metadata": {},
   "outputs": [],
   "source": [
    "tranWP_df['Kích thước màn hình'] = tranWP_df['Kích thước màn hình'].astype(str)\n",
    "CP_df['Kích thước màn hình'] = CP_df['Kích thước màn hình'].astype(str)\n",
    "tranNK_df['Kích thước màn hình'] = CP_df['Kích thước màn hình'].astype(str)"
   ]
  },
  {
   "cell_type": "code",
   "execution_count": 73,
   "metadata": {},
   "outputs": [],
   "source": [
    "for i in list(tranNK_df.index):\n",
    "    tranNK_df.loc[i, ['Tên sản phẩm']] = ''.join(str(tranNK_df['Tên sản phẩm'].iloc[i]).split('Điện thoại ')).strip()\n",
    "    tranNK_df.loc[i, ['Tên sản phẩm']] = ' '.join(filter(None, re.split(r'[\\d+.0|\\d+]+[G|T]+B|/| |\\d+G', str(tranNK_df['Tên sản phẩm'].iloc[i]))))\n",
    "    tranNK_df.loc[i, ['Tên sản phẩm']] = str(tranNK_df['Tên sản phẩm'].iloc[i]).upper()\n",
    "\n",
    "    if tranNK_df['Chipset'].iloc[i] == tranNK_df['Chipset'].iloc[i]:\n",
    "        tranNK_df.loc[i, ['Chipset']] = ' '.join(filter(None, re.split(r'\\W', str(tranNK_df['Chipset'].iloc[i]))))\n",
    "\n",
    "\n",
    "for i in list(tranTGDD_df.index):\n",
    "    tranTGDD_df.loc[i, ['Tên sản phẩm']] = ''.join(str(tranTGDD_df['Tên sản phẩm'].iloc[i]).split('Điện thoại ')).strip()\n",
    "    tranTGDD_df.loc[i, ['Tên sản phẩm']] = ' '.join(filter(None, re.split(r'[\\d+.0|\\d+]+[G|T]+B|/| |\\d+G|\\W.*\\W', str(tranTGDD_df['Tên sản phẩm'].iloc[i]))))\n",
    "    tranTGDD_df.loc[i, ['Tên sản phẩm']] = str(tranTGDD_df['Tên sản phẩm'].iloc[i]).upper()\n",
    "\n",
    "    if tranTGDD_df['Chipset'].iloc[i] == tranTGDD_df['Chipset'].iloc[i]:\n",
    "        tranTGDD_df.loc[i, ['Chipset']] = ' '.join(filter(None, re.split(r'\\W', str(tranTGDD_df['Chipset'].iloc[i]))))\n",
    "\n",
    "\n",
    "for i in list(CP_df.index):\n",
    "    CP_df.loc[i, ['Tên sản phẩm']] = ''.join(str(CP_df['Tên sản phẩm'].iloc[i]).split('Điện thoại ')).strip()\n",
    "    CP_df.loc[i, ['Tên sản phẩm']] = ' '.join(filter(None, re.split(r'[\\d+.0|\\d+]+[G|T]+B|/|Apple| |\\d+G|\\W.*\\W', str(CP_df['Tên sản phẩm'].iloc[i]))))\n",
    "    CP_df.loc[i, ['Tên sản phẩm']] = str(CP_df['Tên sản phẩm'].iloc[i]).upper()\n",
    "\n",
    "    if CP_df['Chipset'].iloc[i] == CP_df['Chipset'].iloc[i]:\n",
    "        CP_df.loc[i, ['Chipset']] = ' '.join(filter(None, re.split(r'\\W', str(CP_df['Chipset'].iloc[i]))))\n",
    "\n",
    "\n",
    "for i in list(tranMM_df.index):\n",
    "    tranMM_df.loc[i, ['Tên sản phẩm']] = ' '.join(re.split(r'APPLE|Apple|\\Điện thoại |-', str(tranMM_df['Tên sản phẩm'].iloc[i]))).strip()\n",
    "    tranMM_df.loc[i, ['Tên sản phẩm']] = ' '.join(filter(None, re.split(r'[\\d+.0|\\d+]+[G|T]+B|/| |\\d+G|\\W.*\\W', str(tranMM_df['Tên sản phẩm'].iloc[i]))))\n",
    "    tranMM_df.loc[i, ['Tên sản phẩm']] = str(tranMM_df['Tên sản phẩm'].iloc[i]).upper()\n",
    "\n",
    "    if tranMM_df['Chipset'].iloc[i] == tranMM_df['Chipset'].iloc[i]:\n",
    "        tranMM_df.loc[i, ['Chipset']] = ' '.join(filter(None, re.split(r'\\W', str(tranMM_df['Chipset'].iloc[i]))))\n",
    "\n",
    "\n",
    "\n",
    "for i in list(tranWP_df.index):\n",
    "    tranWP_df.loc[i, ['Tên sản phẩm']] = ' '.join(re.split(r'APPLE|Apple|\\Điện thoại |Likenew|99|%|FullBox|Nhật|-|Mỹ|Quốc|Tế|Mới|tế|Hàn|Cũ', str(tranWP_df['Tên sản phẩm'].iloc[i]))).strip()\n",
    "    tranWP_df.loc[i, ['Tên sản phẩm']] = ' '.join(re.split(r'likenew.*|Chính hãng', str(tranWP_df['Tên sản phẩm'].iloc[i]))).strip()\n",
    "    tranWP_df.loc[i, ['Tên sản phẩm']] = ' '.join(filter(None, re.split(r'/| |\\W.*\\W', str(tranWP_df['Tên sản phẩm'].iloc[i]))))\n",
    "    tranWP_df.loc[i, ['Tên sản phẩm']] = str(tranWP_df['Tên sản phẩm'].iloc[i]).upper()\n",
    "\n",
    "    if tranWP_df['Chipset'].iloc[i] == tranWP_df['Chipset'].iloc[i]:\n",
    "        tranWP_df.loc[i, ['Chipset']] = ' '.join(filter(None, re.split(r'\\W', str(tranWP_df['Chipset'].iloc[i]))))\n"
   ]
  },
  {
   "cell_type": "code",
   "execution_count": 74,
   "metadata": {},
   "outputs": [],
   "source": [
    "tranWP_df.loc[tranWP_df.query('`Tên sản phẩm` == \"GOOGLE PIXEL 3A XL\"').index] = 'GOOGLE PIXEL 3 XL 64GB'\n",
    "tranWP_df.loc[tranWP_df.query('`Tên sản phẩm` == \"IPHONE XR\"').index] = 'IPHONE XR 64GB'"
   ]
  },
  {
   "cell_type": "code",
   "execution_count": 75,
   "metadata": {},
   "outputs": [],
   "source": [
    "tranTGDD_df.to_csv(r'Data/Processed_data/tgdd.csv', index=False, header=True)\n",
    "CP_df.to_csv(r'Data/Processed_data/cellphones.csv', index=False, header=True)\n",
    "tranMM_df.to_csv(r'Data/Processed_data/media_mart.csv', index=False, header=True)\n",
    "tranNK_df.to_csv(r'Data/Processed_data/nguyen_kim.csv', index=False, header=True)\n",
    "tranWP_df.to_csv(r'Data/Processed_data/worldphone.csv', index=False, header=True)"
   ]
  },
  {
   "cell_type": "code",
   "execution_count": 76,
   "metadata": {},
   "outputs": [
    {
     "data": {
      "text/plain": [
       "558"
      ]
     },
     "execution_count": 76,
     "metadata": {},
     "output_type": "execute_result"
    }
   ],
   "source": [
    "df = pd.concat([tranTGDD_df, CP_df, tranMM_df, tranNK_df, tranWP_df], ignore_index=True)\n",
    "\n",
    "len(list(df['Tên sản phẩm'].unique()))"
   ]
  },
  {
   "cell_type": "code",
   "execution_count": 77,
   "metadata": {},
   "outputs": [
    {
     "data": {
      "text/plain": [
       "array(['6.1', '6.7', '5.4', '4.7', '6.8', '6.5', 'Chính 7.6 & Phụ 6.2',\n",
       "       '6.6', 'Chính 6.7 & Phụ 1.9', '6.4', '6.43', '6.56', '6.52',\n",
       "       '6.67', '6.28', '6.55', '6.53', '6.71', '6.51', '6.44', '6.58',\n",
       "       '6.82', '2.4', '1.8', '1.77', '2', '6.9', '6.39', '6.78', '6.73',\n",
       "       '7.6', '6.59', 'nan', '6.49', '6.81', '6.22',\n",
       "       'Chính: 7.6 & Phụ: 6.23', '5.5', '5.8', '6.26', '6.2', '5.7',\n",
       "       '5.3', '6.0', '6.47', '6.09', 'Chính 6.7 & Phụ 1.9',\n",
       "       'Chính 7.59 & Phụ 6.23', nan, '5.0', '4.5', '6.3', '5.2', '5.1',\n",
       "       '6.34', 'GOOGLE PIXEL 3 XL 64GB', '5.6', '5.99', 'IPHONE XR 64GB'],\n",
       "      dtype=object)"
      ]
     },
     "execution_count": 77,
     "metadata": {},
     "output_type": "execute_result"
    }
   ],
   "source": [
    "df['Kích thước màn hình'].unique()"
   ]
  },
  {
   "cell_type": "code",
   "execution_count": 78,
   "metadata": {},
   "outputs": [
    {
     "data": {
      "text/plain": [
       "[('128GB', '12GB', '6.8', '40MP', '5000mAh'),\n",
       " ('128GB', '12GB', '6.8', '8MP', '4500mAh'),\n",
       " ('128GB', '12GB', '6.8', '8MP', '5050mAh'),\n",
       " ('128GB', '12GB', '6.9', '40MP', '5000mAh'),\n",
       " ('128GB', '3GB', '5.5', '7MP', '2691mAh'),\n",
       " ('128GB', '3GB', '5.5', '7MP', '2900mAh'),\n",
       " ('128GB', '3GB', '6.1', '7MP', '2942mAh'),\n",
       " ('128GB', '4GB', '4.7', '7MP', '1820mAh'),\n",
       " ('128GB', '4GB', '5.4', '12MP', '2406mAh'),\n",
       " ('128GB', '4GB', '5.4', '12MP', nan),\n",
       " ('128GB', '4GB', '6.1', '12MP', '3110mAh'),\n",
       " ('128GB', '4GB', '6.1', '12MP', '3200mAh'),\n",
       " ('128GB', '4GB', '6.1', '12MP', nan),\n",
       " ('128GB', '4GB', '6.39', '16MP', '4000mAh'),\n",
       " ('128GB', '4GB', '6.43', '13MP', '5000mAh'),\n",
       " ('128GB', '4GB', '6.5', '16MP', '4300mAh'),\n",
       " ('128GB', '4GB', '6.5', '16MP', '5000mAh'),\n",
       " ('128GB', '4GB', '6.5', '8MP', '5000mAh'),\n",
       " ('128GB', '4GB', '6.5', '8MP', '5050mAh'),\n",
       " ('128GB', '4GB', '6.5', '8MP', '6000mAh'),\n",
       " ('128GB', '4GB', '6.51', '8MP', '5000mAh'),\n",
       " ('128GB', '4GB', '6.53', '5MP', '5000mAh'),\n",
       " ('128GB', '4GB', '6.6', '8MP', '5000mAh'),\n",
       " ('128GB', '4GB', '6.67', '8MP', '5000mAh'),\n",
       " ('128GB', '4GB', '6.71', '2MP', nan),\n",
       " ('128GB', '6GB', '5.7', '8MP', '4000mAh'),\n",
       " ('128GB', '6GB', '6.1', '12MP', '3095mAh'),\n",
       " ('128GB', '6GB', '6.1', '12MP', nan),\n",
       " ('128GB', '6GB', '6.4', '13MP', '5000mAh'),\n",
       " ('128GB', '6GB', '6.4', '20MP', '5000mAh'),\n",
       " ('128GB', '6GB', '6.4', '32MP', '4500mAh'),\n",
       " ('128GB', '6GB', '6.43', '13MP', '5000mAh'),\n",
       " ('128GB', '6GB', '6.49', '16MP', '4300mAh'),\n",
       " ('128GB', '6GB', '6.5', '13MP', '5000mAh'),\n",
       " ('128GB', '6GB', '6.5', '32MP', '4000mAh'),\n",
       " ('128GB', '6GB', '6.5', '8MP', '5000mAh'),\n",
       " ('128GB', '6GB', '6.51', '8MP', '5000mAh'),\n",
       " ('128GB', '6GB', '6.52', '8.0MP', '6000mAh'),\n",
       " ('128GB', '6GB', '6.53', '8MP', '6000mAh'),\n",
       " ('128GB', '6GB', '6.56', '8MP', '5000mAh'),\n",
       " ('128GB', '6GB', '6.6', '16MP', nan),\n",
       " ('128GB', '6GB', '6.67', '16MP', '5020mAh'),\n",
       " ('128GB', '6GB', '6.67', '20MP', '5160mAh'),\n",
       " ('128GB', '6GB', '6.67', '8MP', '5000mAh'),\n",
       " ('128GB', '6GB', '6.7', '12MP', '4325mAh'),\n",
       " ('128GB', '6GB', '6.7', '12MP', nan),\n",
       " ('128GB', '6GB', '6.82', '16MP', '5000mAh'),\n",
       " ('128GB', '6GB', '6.9', '8MP', '7000mAh'),\n",
       " ('128GB', '6GB + Mở rộng 5GB', '6.8', '8MP', '6000mAh'),\n",
       " ('128GB', '8GB', '6.1', '10MP', '3700mAh'),\n",
       " ('128GB', '8GB', '6.26', '32MP', '3750mAh'),\n",
       " ('128GB', '8GB', '6.39', '16MP', '4500mAh'),\n",
       " ('128GB', '8GB', '6.39', '20MP', '4000mAh'),\n",
       " ('128GB', '8GB', '6.4', '16MP', '4500mAh'),\n",
       " ('128GB', '8GB', '6.4', '16MP', '5000mAh'),\n",
       " ('128GB', '8GB', '6.4', '32MP', '4500mAh'),\n",
       " ('128GB', '8GB', '6.43', '13MP', '5000mAh'),\n",
       " ('128GB', '8GB', '6.43', '16MP', '4500mAh'),\n",
       " ('128GB', '8GB', '6.43', '16MP', '5000mAh'),\n",
       " ('128GB', '8GB', '6.43', '32MP', '4300mAh'),\n",
       " ('128GB', '8GB', '6.43', '32MP', '4310mAh'),\n",
       " ('128GB', '8GB', '6.43', '32MP', '4500mAh'),\n",
       " ('128GB', '8GB', '6.43', '44MP', '4310mAh'),\n",
       " ('128GB', '8GB', '6.44', '32MP', '4500mAh'),\n",
       " ('128GB', '8GB', '6.44', '32MP 8MP', '4500mAh'),\n",
       " ('128GB', '8GB', '6.44', '44MP', '4000mAh'),\n",
       " ('128GB', '8GB', '6.44', '50MP', '4050mAh'),\n",
       " ('128GB', '8GB', '6.44', '50MP 8MP', '4200mAh'),\n",
       " ('128GB', '8GB', '6.5', '16MP', '5000mAh'),\n",
       " ('128GB', '8GB', '6.5', '16MP 16MP', '5000mAh'),\n",
       " ('128GB', '8GB', '6.5', '32MP', '4500mAh'),\n",
       " ('128GB', '8GB', '6.5', '32MP', '5000mAh'),\n",
       " ('128GB', '8GB', '6.55', '20MP', '4250mAh'),\n",
       " ('128GB', '8GB', '6.58', '16MP', '5000mAh'),\n",
       " ('128GB', '8GB', '6.6', '10MP', '4500mAh'),\n",
       " ('128GB', '8GB', '6.6', '16MP', '5000mAh'),\n",
       " ('128GB', '8GB', '6.67', '16MP', '4200mAh'),\n",
       " ('128GB', '8GB', '6.67', '16MP', '5000mAh'),\n",
       " ('128GB', '8GB', '6.67', '16MP', '5020mAh'),\n",
       " ('128GB', '8GB', '6.67', '20MP', '5000mAh'),\n",
       " ('128GB', '8GB', '6.7', '10MP', '3300mAh'),\n",
       " ('128GB', '8GB', '6.7', '10MP', '4500mAh'),\n",
       " ('128GB', '8GB', '6.7', '10MP', '4800mAh'),\n",
       " ('128GB', '8GB', '6.7', '32MP', '4500mAh'),\n",
       " ('128GB', '8GB', '6.7', '32MP', '5000mAh'),\n",
       " ('128GB', '8GB', '6.78', '24MP', '6000mAh'),\n",
       " ('128GB', '8GB', '6.8', '40MP', '5000mAh'),\n",
       " ('128GB', '8GB', '6.81', '20MP', '4600mAh'),\n",
       " ('128GB', '8GB', 'nan', '20MP', '4000mAh'),\n",
       " ('128GB', nan, '6.2', '8MP', '3500mAh'),\n",
       " ('128GB', nan, '6.4', nan, '4100mAh'),\n",
       " ('128MB', nan, '1.8', nan, '1020mAh'),\n",
       " ('128MB', nan, '2.4', nan, '1150mAh'),\n",
       " ('16GB', '1GB', '5.3', '5MP', '3000mAh'),\n",
       " ('16GB', '2GB', '6.09', '8.0MP', '3500mAh'),\n",
       " ('16GB', '2GB', '6.52', '5MP', '2950mAh'),\n",
       " ('16GB', nan, '6.0', '5MP', '3000mAh'),\n",
       " ('1TB', '6GB', '6.1', '12MP', '3095mAh'),\n",
       " ('1TB', '6GB', '6.7', '12MP', '4325mAh'),\n",
       " ('256GB', '12 GB + 3 GB (RAM bổ sung)', '6.56', '32MP', '4200mAh'),\n",
       " ('256GB', '12GB', '6.55', '16MP', '4500mAh'),\n",
       " ('256GB', '12GB', '6.56', '32MP', '4450mAh'),\n",
       " ('256GB', '12GB', '6.67', '16MP', '4200mAh'),\n",
       " ('256GB', '12GB', '6.67', '16MP', '5000mAh'),\n",
       " ('256GB', '12GB', '6.7', '32MP', '4200mAh'),\n",
       " ('256GB', '12GB', '6.7', '32MP', '4500mAh'),\n",
       " ('256GB', '12GB', '6.73', '32MP', '4600mAh'),\n",
       " ('256GB', '12GB', '6.78', '24MP', '6000mAh'),\n",
       " ('256GB', '12GB', '6.8', '40MP', '5000mAh'),\n",
       " ('256GB', '12GB', '6.9', '10MP', '4500mAh'),\n",
       " ('256GB', '12GB', '7.6', '4MP', '4400mAh'),\n",
       " ('256GB', '12GB', 'Chính: 7.6 & Phụ: 6.23', '10MP 10MP', '4500mAh'),\n",
       " ('256GB', '16GB', '6.78', '24MP', '6000mAh'),\n",
       " ('256GB', '16GB', '6.8', '8MP', '4500mAh'),\n",
       " ('256GB', '16GB', '6.8', '8MP', '5050mAh'),\n",
       " ('256GB', '18GB', '6.8', '8MP', '4500mAh'),\n",
       " ('256GB', '3GB', '4.7', '7MP', '1750mAh'),\n",
       " ('256GB', '4GB', '4.7', '7MP', '1820mAh'),\n",
       " ('256GB', '4GB', '5.4', '12MP', '2406mAh'),\n",
       " ('256GB', '4GB', '5.4', '12MP', nan),\n",
       " ('256GB', '4GB', '6.1', '12MP', '3110mAh'),\n",
       " ('256GB', '4GB', '6.1', '12MP', '3200mAh'),\n",
       " ('256GB', '4GB', '6.1', '12MP', nan),\n",
       " ('256GB', '6GB', '6.1', '12MP', '3095mAh'),\n",
       " ('256GB', '6GB', '6.1', '12MP', nan),\n",
       " ('256GB', '6GB', '6.7', '12MP', '4325mAh'),\n",
       " ('256GB', '6GB', '6.7', '12MP', nan),\n",
       " ('256GB', '8GB', '6.1', '10MP', '3700mAh'),\n",
       " ('256GB', '8GB', '6.28', '32MP', '4500mAh'),\n",
       " ('256GB', '8GB', '6.4', '32MP', '4500mAh'),\n",
       " ('256GB', '8GB', '6.47', '32MP', '5260mAh'),\n",
       " ('256GB', '8GB', '6.5', '32MP', '4000mAh'),\n",
       " ('256GB', '8GB', '6.5', '32MP', '4500mAh'),\n",
       " ('256GB', '8GB', '6.6', '10MP', '4500mAh'),\n",
       " ('256GB', '8GB', '6.67', '16MP', '4500mAh'),\n",
       " ('256GB', '8GB', '6.67', '20MP', '4700mAh'),\n",
       " ('256GB', '8GB', '6.67', '20MP', '5000mAh'),\n",
       " ('256GB', '8GB', '6.7', '1,22μm', '3300mAh'),\n",
       " ('256GB', '8GB', '6.7', '10MP', '3300mAh'),\n",
       " ('256GB', '8GB', '6.7', '10MP', '4300mAh'),\n",
       " ('256GB', '8GB', '6.7', '10MP', '4800mAh'),\n",
       " ('256GB', '8GB', '6.7', '32MP', '5000mAh'),\n",
       " ('256GB', '8GB', '6.81', '20MP', '4600mAh'),\n",
       " ('256GB', '8GB', '6.9', '10MP', '4500mAh'),\n",
       " ('256GB', nan, '6.1', '12MP', '3095mAh'),\n",
       " ('32GB', '2GB', '6.2', '8MP', '5000mAh'),\n",
       " ('32GB', '2GB', '6.5', '5MP', '4500mAh'),\n",
       " ('32GB', '2GB', '6.5', '5MP', '5000mAh'),\n",
       " ('32GB', '2GB', '6.52', '5MP', '2950mAh'),\n",
       " ('32GB', '2GB', '6.53', '5MP', '5000mAh'),\n",
       " ('32GB', '2GB', '6.82', '5MP', '6000mAh'),\n",
       " ('32GB', '3GB', '6.2', '8MP', '5000mAh'),\n",
       " ('32GB', '3GB', '6.22', '8MP', '4230mAh'),\n",
       " ('32GB', '3GB', '6.4', '8MP', '4000mAh'),\n",
       " ('32GB', '3GB', '6.5', '13MP', '5000mAh'),\n",
       " ('32GB', '3GB', '6.5', '5MP', '5000mAh'),\n",
       " ('32GB', '3GB', '6.5', '8MP', '5000mAh'),\n",
       " ('32GB', '3GB', '6.51', '8MP', '5000mAh'),\n",
       " ('32GB', '3GB', '6.52', '5MP', '5050mAh'),\n",
       " ('32GB', '3GB', '6.52', '5MP', '6000mAh'),\n",
       " ('32GB', '3GB', '6.52', '5MP', nan),\n",
       " ('32GB', '3GB', '6.52', '8MP', '5000mAh'),\n",
       " ('32GB', '3GB', '6.53', '5MP', '5000mAh'),\n",
       " ('32GB', '3GB', '6.53', '8MP', '5000mAh'),\n",
       " ('32GB', '3GB', '6.82', '5MP', '6000mAh'),\n",
       " ('32GB', nan, '5.5', '8MP', '3300mAh'),\n",
       " ('4GB', nan, '2.4', nan, '1500mAh'),\n",
       " ('4GB', nan, 'nan', nan, '1500mAh'),\n",
       " ('512GB', '12GB', '6.59', '24MP', '6000mAh'),\n",
       " ('512GB', '12GB', '6.8', '40MP', '5000mAh'),\n",
       " ('512GB', '12GB', '7.6', '4MP', '4400mAh'),\n",
       " ('512GB', '16GB', '6.78', '24MP', '6000mAh'),\n",
       " ('512GB', '4GB', '5.4', '12MP', '2406mAh'),\n",
       " ('512GB', '4GB', '5.8', '12MP', '3046mAh'),\n",
       " ('512GB', '4GB', '6.1', '12MP', '3200mAh'),\n",
       " ('512GB', '6GB', '6.1', '12MP', nan),\n",
       " ('512GB', '6GB', '6.7', '12MP', nan),\n",
       " ('64GB', '2GB', '6.52', '5MP', '5050mAh'),\n",
       " ('64GB', '3GB', '6.1', '7MP', '2942mAh'),\n",
       " ('64GB', '3GB', '6.5', '13MP', '5000mAh'),\n",
       " ('64GB', '3GB', '6.52', '5MP', '5050mAh'),\n",
       " ('64GB', '3GB', '6.53', '13MP', '5020mAh'),\n",
       " ('64GB', '3GB', '6.53', '5MP', '5000mAh'),\n",
       " ('64GB', '4GB', '4.7', '7MP', '1820mAh'),\n",
       " ('64GB', '4GB', '5.4', '12MP', nan),\n",
       " ('64GB', '4GB', '6.1', '12MP', '3110mAh'),\n",
       " ('64GB', '4GB', '6.1', '12MP', nan),\n",
       " ('64GB', '4GB', '6.39', '8MP', '4000mAh'),\n",
       " ('64GB', '4GB', '6.4', '16MP', '4000mAh'),\n",
       " ('64GB', '4GB', '6.43', '13MP', '5000mAh'),\n",
       " ('64GB', '4GB', '6.5', '13MP', '5000mAh'),\n",
       " ('64GB', '4GB', '6.5', '16MP', '5000mAh'),\n",
       " ('64GB', '4GB', '6.5', '5MP', '5000mAh'),\n",
       " ('64GB', '4GB', '6.5', '8MP', '5000mAh'),\n",
       " ('64GB', '4GB', '6.5', '8MP', '5050mAh'),\n",
       " ('64GB', '4GB', '6.5', '8MP', '6000mAh'),\n",
       " ('64GB', '4GB', '6.51', '8MP', '5000mAh'),\n",
       " ('64GB', '4GB', '6.52', '8.0MP', '6000mAh'),\n",
       " ('64GB', '4GB', '6.52', '8MP', '5000mAh'),\n",
       " ('64GB', '4GB', '6.52', '8MP', nan),\n",
       " ('64GB', '4GB', '6.53', '5MP', '5020mAh'),\n",
       " ('64GB', '4GB', '6.53', '8MP', '6000mAh'),\n",
       " ('64GB', '4GB', '6.6', '8MP', '5000mAh'),\n",
       " ('64GB', '4GB', '6.67', '16MP', '5020mAh'),\n",
       " ('64GB', '4GB', '6.67', '8MP', '5000mAh'),\n",
       " ('64GB', '4GB', '6.9', '8MP', '7000mAh'),\n",
       " ('64GB', '4GB + Mở rộng 1GB', '6.58', '8MP', '5000mAh'),\n",
       " ('64GB', '4GB + Mở rộng 3GB', '6.6', '8MP', '5000mAh'),\n",
       " ('64GB', '4GB + Mở rộng 3GB', '6.8', '8MP', '6000mAh'),\n",
       " ('64GB', '6GB', '6.47', '16MP', '5260mAh'),\n",
       " ('64GB', '6GB', '6.5', '13MP', '5000mAh'),\n",
       " ('64GB', '6GB', '6.67', '20MP', '5160mAh'),\n",
       " ('64GB', nan, '4.7', '7MP', '1821mAh'),\n",
       " ('64GB', nan, '6.2', '8MP', '3500mAh'),\n",
       " ('64GB', nan, '6.39', '16MP', '4020mAh'),\n",
       " (nan, nan, '1.77', nan, '800mAh'),\n",
       " (nan, nan, '2.4', nan, '1020mAh'),\n",
       " (nan, nan, '2.4', nan, '1500mAh'),\n",
       " (nan, nan, 'nan', nan, nan)]"
      ]
     },
     "execution_count": 78,
     "metadata": {},
     "output_type": "execute_result"
    }
   ],
   "source": [
    "list(CP_df.groupby(['Bộ nhớ', 'RAM', 'Kích thước màn hình', 'Camera trước', 'Pin']).groups.keys())"
   ]
  }
 ],
 "metadata": {
  "kernelspec": {
   "display_name": "Python 3.8.8 ('base')",
   "language": "python",
   "name": "python3"
  },
  "language_info": {
   "codemirror_mode": {
    "name": "ipython",
    "version": 3
   },
   "file_extension": ".py",
   "mimetype": "text/x-python",
   "name": "python",
   "nbconvert_exporter": "python",
   "pygments_lexer": "ipython3",
   "version": "3.8.8"
  },
  "orig_nbformat": 4,
  "vscode": {
   "interpreter": {
    "hash": "bb0ca4744550a54ef6d6f0223fbdf8af236b117fd1588dc9b614ba2a4e01e5ad"
   }
  }
 },
 "nbformat": 4,
 "nbformat_minor": 2
}
