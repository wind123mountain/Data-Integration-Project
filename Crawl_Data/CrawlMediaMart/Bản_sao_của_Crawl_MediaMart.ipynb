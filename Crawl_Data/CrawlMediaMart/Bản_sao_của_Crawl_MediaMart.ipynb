{
  "cells": [
    {
      "cell_type": "code",
      "execution_count": 9,
      "metadata": {
        "id": "M0a7sxDo9ddx"
      },
      "outputs": [],
      "source": [
        "import requests\n",
        "from bs4 import BeautifulSoup\n",
        "import json\n",
        "import pandas as pd\n",
        "import time\n",
        "\n",
        "def crawl_item(url_input):\n",
        "  try:\n",
        "    url = 'https://mediamart.vn' + url_input\n",
        "    headers = {\n",
        "      'User-Agent': 'Mozilla/5.0 (X11; Linux x86_64; rv:73.0) Gecko/20100101 Firefox/73.0',\n",
        "      'X-Requested-With': 'XMLHttpRequest',\n",
        "    }    \n",
        "    r = requests.get(url, headers=headers)\n",
        "    data = {}\n",
        "    soup = BeautifulSoup(r.content.decode('utf-8', 'ignore'), 'html.parser')\n",
        "    data[\"name\"] = soup.find_all(\"div\", class_=\"pdetail-name\")[0].text.split('\\n')[1]\n",
        "    x=0\n",
        "    key=''\n",
        "    for tr in soup.find_all('td'):\n",
        "      if(len(tr.get_text()) > 0):\n",
        "        if(x%2)==0:\n",
        "          key=tr.get_text()\n",
        "        else:\n",
        "          data[key]=tr.get_text()\n",
        "        x=x+1\n",
        "    data[\"price\"] = soup.find(\"div\", class_=\"pdetail-price-box\").text\n",
        "    time.sleep(10)\n",
        "    return data\n",
        "  except:\n",
        "    pass\n",
        "\n",
        "def crawl_mediaMart():\n",
        "  data=[]\n",
        "  df = pd.read_csv('mediamart.csv') #duong dan file csv\n",
        "  url = 'https://mediamart.vn/smartphones'\n",
        "  headers = {\n",
        "    'User-Agent': 'Mozilla/5.0 (X11; Linux x86_64; rv:73.0) Gecko/20100101 Firefox/73.0',\n",
        "    'X-Requested-With': 'XMLHttpRequest',\n",
        "  }    \n",
        "  r = requests.get(url, headers=headers)\n",
        "  soup = BeautifulSoup(r.content, 'html.parser')\n",
        "  for div in soup.find_all(\"div\", class_=\"col-6 col-md-3 col-lg-3\"):\n",
        "    data.append(crawl_item(div.find(\"a\", href=True)['href']))\n",
        "  pd.concat([pd.DataFrame(data), df], ignore_index=True)\n",
        "  return df"
      ]
    },
    {
      "cell_type": "code",
      "execution_count": 10,
      "metadata": {
        "colab": {
          "base_uri": "https://localhost:8080/"
        },
        "id": "oyoHqimE3M3A",
        "outputId": "ba859b3d-e33b-479a-8d07-5bcb58c03c30"
      },
      "outputs": [
        {
          "name": "stdout",
          "output_type": "stream",
          "text": [
            "Requirement already satisfied: beautifulsoup4 in c:\\users\\admin\\appdata\\local\\programs\\python\\python39\\lib\\site-packages (4.10.0)\n",
            "Requirement already satisfied: soupsieve>1.2 in c:\\users\\admin\\appdata\\local\\programs\\python\\python39\\lib\\site-packages (from beautifulsoup4) (2.3.1)\n"
          ]
        },
        {
          "name": "stderr",
          "output_type": "stream",
          "text": [
            "WARNING: You are using pip version 22.0.3; however, version 22.1.2 is available.\n",
            "You should consider upgrading via the 'C:\\Users\\Admin\\AppData\\Local\\Programs\\Python\\Python39\\python.exe -m pip install --upgrade pip' command.\n"
          ]
        }
      ],
      "source": [
        "!pip install beautifulsoup4"
      ]
    },
    {
      "cell_type": "code",
      "execution_count": null,
      "metadata": {
        "colab": {
          "base_uri": "https://localhost:8080/"
        },
        "id": "Ch_wDBW4j__p",
        "outputId": "66d33bcc-06eb-4d9e-a307-883e8e9568a0"
      },
      "outputs": [
        {
          "name": "stdout",
          "output_type": "stream",
          "text": [
            "{'name': 'Apple Iphone 11 64G White', 'Thương hiệu': '\\nApple\\n', 'Mã sản phẩm': '\\nIphone 11\\n', 'Hộp máy gồm': 'Sách hướng dẫnCáp Lightning - Type CCây lấy sim', 'Công nghệ màn hình': 'Retina', 'Độ phân giải': '1792 x 828 pixels', 'Màn hình': '6.1 inch', 'Cảm ứng': 'Đa điểm', 'Mặt kính cảm ứng': 'Kính cường lực', 'Camera sau': 'Kép 12MP + 12MP', 'Quay phim': 'Có', 'Đèn Flash': 'Có', 'Chụp ảnh nâng cao': 'Chụp chế độ ban đêmChạm lấy nétChế độ ánh sáng yếuTự động lấy nét', 'Camera trước': '12 MP', 'Videocall': 'Có', 'Thông tin khác': 'Tự động lấy nétNhận diện khuôn mặt', 'Hệ điều hành': 'iOS13', 'CPU': 'A13 Bionic', 'Số nhân': '6 nhân', 'Tốc độ tối đa': '2.66 GHz', 'RAM': '4 GB', 'Bộ nhớ': '64 GB', 'Băng tần 2G': 'Có', 'Băng tần 3G': 'Có', 'Hỗ trợ 4G': 'Có hỗ trợ 4G', 'Số khe sim': '1 Nano SIM & 1 eSIM', 'Wifi': 'Có', 'GPS': 'Có', 'Bluetooth': 'Có', 'NFC': 'Có', 'Cổng kết nối/sạc': 'Lightning', 'Kết nối khác': 'NFC', 'Thiết kế': 'Nguyên khối', 'Chất liệu': 'Khung nhôm, mặt lưng kính', 'Dung lượng pin': '3110 mAh', 'Tính năng đặc biệt': 'Bảo mật vân tayMở khóa bằng khuôn mặt', 'Xem phim': 'Có', 'Nghe nhạc': 'Có', 'Chức năng khác': 'Mặt kính 2.5DMở khóa bằng vân tayMở khóa bằng khuôn mặtSạc pin nhanh', 'Bảo hành': '\\n12 tháng\\n', 'price': '\\n11.990.000 ₫\\n21.990.000 ₫\\n\\r\\n                Tiết kiệm (45%)\\r\\n            \\n'}\n"
          ]
        }
      ],
      "source": [
        "url = 'https://mediamart.vn/smartphones/apple-iphone-11-64gb-white'\n",
        "headers = {\n",
        "    'User-Agent': 'Mozilla/5.0 (X11; Linux x86_64; rv:73.0) Gecko/20100101 Firefox/73.0',\n",
        "    'X-Requested-With': 'XMLHttpRequest',\n",
        "}    \n",
        "r = requests.get(url, headers=headers)\n",
        "data = {}\n",
        "soup = BeautifulSoup(r.content.decode('utf-8', 'ignore'), 'html.parser')\n",
        "\n",
        "data[\"name\"] = soup.find_all(\"div\", class_=\"pdetail-name\")[0].text.split('\\n')[1]\n",
        "x=0\n",
        "key=''\n",
        "for tr in soup.find_all('td'):\n",
        "  if(len(tr.get_text()) > 0):\n",
        "    if(x%2)==0:\n",
        "      key=tr.get_text()\n",
        "    else:\n",
        "      data[key]=tr.get_text()\n",
        "    x=x+1\n",
        "data[\"price\"] = soup.find(\"div\", class_=\"pdetail-price-box\").text\n",
        "print(data)\n",
        "jsonString = json.dumps(data, ensure_ascii=False)\n",
        "jsonFile = open(\"/content/drive/MyDrive/Colab Notebooks/Media_mart/1.json\", \"w\")\n",
        "jsonFile.write(jsonString)\n",
        "jsonFile.close()"
      ]
    },
    {
      "cell_type": "code",
      "execution_count": null,
      "metadata": {
        "id": "VEq8pFTzkpxu"
      },
      "outputs": [],
      "source": [
        "import requests\n",
        "from bs4 import BeautifulSoup\n",
        "import json\n",
        "f = open(\"./Media_Mart.txt\", \"r\")\n",
        "soup = BeautifulSoup(f.read(), 'html.parser')"
      ]
    },
    {
      "cell_type": "code",
      "execution_count": null,
      "metadata": {
        "colab": {
          "base_uri": "https://localhost:8080/"
        },
        "id": "OEpDu3vrNvbO",
        "outputId": "dbd8c71f-ea12-4818-90b0-41d227e4678f"
      },
      "outputs": [],
      "source": [
        "soup"
      ]
    },
    {
      "cell_type": "code",
      "execution_count": null,
      "metadata": {
        "id": "gJ9OgvmkObXO"
      },
      "outputs": [],
      "source": [
        "images_link = []\n",
        "for img in soup.find_all(\"div\", class_ = \"card-img-top\"):\n",
        "  images_link.append(img.find(\"img\")['src'])"
      ]
    },
    {
      "cell_type": "code",
      "execution_count": null,
      "metadata": {
        "id": "_4Gx4Qr-PCs_"
      },
      "outputs": [],
      "source": [
        "images_link = images_link[:147]"
      ]
    },
    {
      "cell_type": "code",
      "execution_count": null,
      "metadata": {
        "colab": {
          "base_uri": "https://localhost:8080/"
        },
        "id": "hYYZP-2wPPOz",
        "outputId": "0a1c3be0-87d3-456c-a482-ec2b3c646221"
      },
      "outputs": [
        {
          "data": {
            "text/plain": [
              "147"
            ]
          },
          "execution_count": 25,
          "metadata": {},
          "output_type": "execute_result"
        }
      ],
      "source": [
        "len(soup.find_all(\"div\", class_=\"col-6 col-md-3 col-lg-3\"))"
      ]
    },
    {
      "cell_type": "code",
      "execution_count": null,
      "metadata": {
        "colab": {
          "base_uri": "https://localhost:8080/"
        },
        "id": "2ELN-Q-BlA9e",
        "outputId": "3e4a9ab9-1d76-449f-9711-05996000fc7b"
      },
      "outputs": [],
      "source": [
        "import time\n",
        "k = 0\n",
        "with open(\"Media_Mart.txt\", mode = \"w\", encoding = \"utf8\") as f:\n",
        "  for div in soup.find_all(\"div\", class_=\"col-6 col-md-3 col-lg-3\"):\n",
        "    try:\n",
        "      url = 'https://mediamart.vn' + div.find(\"a\", href=True)['href']\n",
        "      headers = {\n",
        "        'User-Agent': 'Mozilla/5.0 (X11; Linux x86_64; rv:73.0) Gecko/20100101 Firefox/73.0',\n",
        "        'X-Requested-With': 'XMLHttpRequest',\n",
        "      }    \n",
        "      r = requests.get(url, headers=headers)\n",
        "      data = {}\n",
        "      detail = BeautifulSoup(r.content.decode('utf-8', 'ignore'), 'html.parser')\n",
        "      data[\"name\"] = detail.find_all(\"div\", class_=\"pdetail-name\")[0].text.split('\\n')[1]\n",
        "      data[\"url\"] = url\n",
        "      data[\"image_link\"] = images_link[k]\n",
        "      x=0\n",
        "      key=''\n",
        "      for tr in detail.find_all('td'):\n",
        "        if(len(tr.get_text()) > 0):\n",
        "          if(x%2)==0:\n",
        "            key=tr.get_text()\n",
        "          else:\n",
        "            data[key]=tr.get_text()\n",
        "          x=x+1\n",
        "      data[\"price\"] = detail.find(\"div\", class_=\"pdetail-price-box\").text\n",
        "      jsonString = json.dumps(data, ensure_ascii=False)\n",
        "      f.write(jsonString + \"\\n\")\n",
        "      print(jsonString)\n",
        "      k = k + 1\n",
        "    except:\n",
        "      pass\n",
        "    # time.sleep(2)\n"
      ]
    },
    {
      "cell_type": "code",
      "execution_count": null,
      "metadata": {
        "colab": {
          "base_uri": "https://localhost:8080/"
        },
        "id": "O0C62O0bNWzi",
        "outputId": "1e09f30f-b96a-4190-96d4-535b1485ff84"
      },
      "outputs": [],
      "source": [
        "import json\n",
        "import pandas as pd\n",
        "\n",
        "data_to_csv = []\n",
        "with open(\"Media_Mart.txt\", mode = \"r\", encoding=\"utf8\") as f:\n",
        "  for idx, line in enumerate(f):\n",
        "    data = json.loads(line)\n",
        "    data_to_csv.append(data)\n",
        "print(data_to_csv)"
      ]
    },
    {
      "cell_type": "code",
      "execution_count": 57,
      "metadata": {},
      "outputs": [
        {
          "name": "stdout",
          "output_type": "stream",
          "text": [
            "{'name': 'Apple Iphone 11 64G White', 'url': 'https://mediamart.vn/smartphones/apple-iphone-11-64gb-white', 'image_link': 'https://cdn.mediamart.vn/thumb/images/product/-N9QObu.jpg', 'Thương hiệu': '\\nApple\\n', 'Mã sản phẩm': '\\nIphone 11\\n', 'Hộp máy gồm': 'Sách hướng dẫnCáp Lightning - Type CCây lấy sim', 'Công nghệ màn hình': 'Retina', 'Độ phân giải': '1792 x 828 pixels', 'Màn hình': '6.1 inch', 'Cảm ứng': 'Đa điểm', 'Mặt kính cảm ứng': 'Kính cường lực', 'Camera sau': 'Kép 12MP + 12MP', 'Quay phim': 'Có', 'Đèn Flash': 'Có', 'Chụp ảnh nâng cao': 'Chụp chế độ ban đêmChạm lấy nétChế độ ánh sáng yếuTự động lấy nét', 'Camera trước': '12 MP', 'Videocall': 'Có', 'Thông tin khác': 'Tự động lấy nétNhận diện khuôn mặt', 'Hệ điều hành': 'iOS13', 'CPU': 'A13 Bionic', 'Số nhân': '6 nhân', 'Tốc độ tối đa': '2.66 GHz', 'RAM': '4 GB', 'Bộ nhớ': '64 GB', 'Băng tần 2G': 'Có', 'Băng tần 3G': 'Có', 'Hỗ trợ 4G': 'Có hỗ trợ 4G', 'Số khe sim': '1 Nano SIM & 1 eSIM', 'Wifi': 'Có', 'GPS': 'Có', 'Bluetooth': 'Có', 'NFC': 'Có', 'Cổng kết nối/sạc': 'Lightning', 'Kết nối khác': 'NFC', 'Thiết kế': 'Nguyên khối', 'Chất liệu': 'Khung nhôm, mặt lưng kính', 'Dung lượng pin': '3110 mAh', 'Tính năng đặc biệt': 'Bảo mật vân tayMở khóa bằng khuôn mặt', 'Xem phim': 'Có', 'Nghe nhạc': 'Có', 'Chức năng khác': 'Mặt kính 2.5DMở khóa bằng vân tayMở khóa bằng khuôn mặtSạc pin nhanh', 'Bảo hành': '\\n12 tháng\\n', 'price': '\\n11.990.000 ₫\\n21.990.000 ₫\\n\\r\\n                Tiết kiệm (45%)\\r\\n            \\n'}\n",
            "dict_keys(['name', 'url', 'image_link', 'Thương hiệu', 'Mã sản phẩm', 'Hộp máy gồm', 'Công nghệ màn hình', 'Độ phân giải', 'Màn hình', 'Cảm ứng', 'Mặt kính cảm ứng', 'Camera sau', 'Quay phim', 'Đèn Flash', 'Chụp ảnh nâng cao', 'Camera trước', 'Videocall', 'Thông tin khác', 'Hệ điều hành', 'CPU', 'Số nhân', 'Tốc độ tối đa', 'RAM', 'Bộ nhớ', 'Băng tần 2G', 'Băng tần 3G', 'Hỗ trợ 4G', 'Số khe sim', 'Wifi', 'GPS', 'Bluetooth', 'NFC', 'Cổng kết nối/sạc', 'Kết nối khác', 'Thiết kế', 'Chất liệu', 'Dung lượng pin', 'Tính năng đặc biệt', 'Xem phim', 'Nghe nhạc', 'Chức năng khác', 'Bảo hành', 'price'])\n"
          ]
        }
      ],
      "source": [
        "for x in data_to_csv:\n",
        "    print(x)\n",
        "    print(x.keys())\n",
        "    break"
      ]
    },
    {
      "cell_type": "code",
      "execution_count": 96,
      "metadata": {},
      "outputs": [],
      "source": [
        "data_new = []\n",
        "for pair in data_to_csv:\n",
        "    dt = {}\n",
        "    for key, value in pair.items():\n",
        "        key = str(key).strip().replace('\\n','')\n",
        "        dt[key] = value\n",
        "    data_new.append(dt)"
      ]
    },
    {
      "cell_type": "code",
      "execution_count": 97,
      "metadata": {
        "id": "vfLLqWjZQMXm"
      },
      "outputs": [],
      "source": [
        "pd.DataFrame(data_new).to_csv('mediamart.csv')"
      ]
    },
    {
      "cell_type": "code",
      "execution_count": 98,
      "metadata": {
        "id": "ktMCPdVvQMu9"
      },
      "outputs": [],
      "source": [
        "df = pd.read_csv(\"mediamart.csv\", index_col=0)"
      ]
    },
    {
      "cell_type": "code",
      "execution_count": 101,
      "metadata": {},
      "outputs": [],
      "source": [
        "df[\"Thương hiệu\"] = df[\"Thương hiệu\"].apply(lambda line : str(line).strip())\n",
        "df[\"Mã sản phẩm\"] = df[\"Mã sản phẩm\"].apply(lambda line : str(line).strip())\n",
        "df[\"price\"] = df[\"price\"].apply(lambda line : str(line).strip()).apply(lambda line: int(line.split(\"\\n\")[0].strip()[:-2].replace(\".\",\"\")))"
      ]
    },
    {
      "cell_type": "code",
      "execution_count": 102,
      "metadata": {},
      "outputs": [
        {
          "data": {
            "text/html": [
              "<div>\n",
              "<style scoped>\n",
              "    .dataframe tbody tr th:only-of-type {\n",
              "        vertical-align: middle;\n",
              "    }\n",
              "\n",
              "    .dataframe tbody tr th {\n",
              "        vertical-align: top;\n",
              "    }\n",
              "\n",
              "    .dataframe thead th {\n",
              "        text-align: right;\n",
              "    }\n",
              "</style>\n",
              "<table border=\"1\" class=\"dataframe\">\n",
              "  <thead>\n",
              "    <tr style=\"text-align: right;\">\n",
              "      <th></th>\n",
              "      <th>name</th>\n",
              "      <th>url</th>\n",
              "      <th>image_link</th>\n",
              "      <th>Thương hiệu</th>\n",
              "      <th>Mã sản phẩm</th>\n",
              "      <th>Hộp máy gồm</th>\n",
              "      <th>Công nghệ màn hình</th>\n",
              "      <th>Độ phân giải</th>\n",
              "      <th>Màn hình</th>\n",
              "      <th>Cảm ứng</th>\n",
              "      <th>...</th>\n",
              "      <th>Mali-T720MP2</th>\n",
              "      <th>1 GB</th>\n",
              "      <th>8 GB</th>\n",
              "      <th>32 GB</th>\n",
              "      <th>1 Nano + 1 Micro</th>\n",
              "      <th>Có</th>\n",
              "      <th>CóA-GPS</th>\n",
              "      <th>Micro USB</th>\n",
              "      <th>2050 mAh</th>\n",
              "      <th>Pin chuẩn Li-Ion</th>\n",
              "    </tr>\n",
              "  </thead>\n",
              "  <tbody>\n",
              "    <tr>\n",
              "      <th>0</th>\n",
              "      <td>Apple Iphone 11 64G White</td>\n",
              "      <td>https://mediamart.vn/smartphones/apple-iphone-...</td>\n",
              "      <td>https://cdn.mediamart.vn/thumb/images/product/...</td>\n",
              "      <td>Apple</td>\n",
              "      <td>Iphone 11</td>\n",
              "      <td>Sách hướng dẫnCáp Lightning - Type CCây lấy sim</td>\n",
              "      <td>Retina</td>\n",
              "      <td>1792 x 828 pixels</td>\n",
              "      <td>6.1 inch</td>\n",
              "      <td>Đa điểm</td>\n",
              "      <td>...</td>\n",
              "      <td>NaN</td>\n",
              "      <td>NaN</td>\n",
              "      <td>NaN</td>\n",
              "      <td>NaN</td>\n",
              "      <td>NaN</td>\n",
              "      <td>NaN</td>\n",
              "      <td>NaN</td>\n",
              "      <td>NaN</td>\n",
              "      <td>NaN</td>\n",
              "      <td>NaN</td>\n",
              "    </tr>\n",
              "    <tr>\n",
              "      <th>1</th>\n",
              "      <td>Điện thoại Samsung Galaxy A13 (4G+128G) A135F Đen</td>\n",
              "      <td>https://mediamart.vn/smartphones/dien-thoai-ga...</td>\n",
              "      <td>https://cdn.mediamart.vn/thumb/images/product/...</td>\n",
              "      <td>Samsung</td>\n",
              "      <td>A13</td>\n",
              "      <td>NaN</td>\n",
              "      <td>TFT LCD</td>\n",
              "      <td>Full HD+ (1080x2408 pixels)</td>\n",
              "      <td>6.6 inch</td>\n",
              "      <td>NaN</td>\n",
              "      <td>...</td>\n",
              "      <td>NaN</td>\n",
              "      <td>NaN</td>\n",
              "      <td>NaN</td>\n",
              "      <td>NaN</td>\n",
              "      <td>NaN</td>\n",
              "      <td>NaN</td>\n",
              "      <td>NaN</td>\n",
              "      <td>NaN</td>\n",
              "      <td>NaN</td>\n",
              "      <td>NaN</td>\n",
              "    </tr>\n",
              "    <tr>\n",
              "      <th>2</th>\n",
              "      <td>Apple iphone 11 128G Black</td>\n",
              "      <td>https://mediamart.vn/smartphones/apple-iphone-...</td>\n",
              "      <td>https://cdn.mediamart.vn/thumb/images/product/...</td>\n",
              "      <td>Apple</td>\n",
              "      <td>iphone 11</td>\n",
              "      <td>Sách hướng dẫnCáp Lightning - Type CCây lấy sim</td>\n",
              "      <td>Retina</td>\n",
              "      <td>1792 x 828 pixels</td>\n",
              "      <td>6.1 inch</td>\n",
              "      <td>Đa điểm</td>\n",
              "      <td>...</td>\n",
              "      <td>NaN</td>\n",
              "      <td>NaN</td>\n",
              "      <td>NaN</td>\n",
              "      <td>NaN</td>\n",
              "      <td>NaN</td>\n",
              "      <td>NaN</td>\n",
              "      <td>NaN</td>\n",
              "      <td>NaN</td>\n",
              "      <td>NaN</td>\n",
              "      <td>NaN</td>\n",
              "    </tr>\n",
              "    <tr>\n",
              "      <th>3</th>\n",
              "      <td>Điện thoại OPPO CPH2325 - A55 Đen Mạnh Mẽ</td>\n",
              "      <td>https://mediamart.vn/smartphones/dien-thoai-op...</td>\n",
              "      <td>https://cdn.mediamart.vn/thumb/images/product/...</td>\n",
              "      <td>Oppo</td>\n",
              "      <td>A55</td>\n",
              "      <td>NaN</td>\n",
              "      <td>IPS LCD</td>\n",
              "      <td>700 x 1600 Pixel</td>\n",
              "      <td>6.51 inch</td>\n",
              "      <td>Đa điểm</td>\n",
              "      <td>...</td>\n",
              "      <td>NaN</td>\n",
              "      <td>NaN</td>\n",
              "      <td>NaN</td>\n",
              "      <td>NaN</td>\n",
              "      <td>NaN</td>\n",
              "      <td>NaN</td>\n",
              "      <td>NaN</td>\n",
              "      <td>NaN</td>\n",
              "      <td>NaN</td>\n",
              "      <td>NaN</td>\n",
              "    </tr>\n",
              "    <tr>\n",
              "      <th>4</th>\n",
              "      <td>Điện thoại Xiaomi REDMI 9A (2+32) Xanh lá</td>\n",
              "      <td>https://mediamart.vn/smartphones/dien-thoai-xi...</td>\n",
              "      <td>https://cdn.mediamart.vn/thumb/images/product/...</td>\n",
              "      <td>Xiaomi</td>\n",
              "      <td>Redmi 9A</td>\n",
              "      <td>Sách hướng dẫnCáp Micro USBCây lấy simCủ sạc n...</td>\n",
              "      <td>IPS LCD</td>\n",
              "      <td>700 x 1600 Pixel</td>\n",
              "      <td>6.53 inch</td>\n",
              "      <td>Đa điểm</td>\n",
              "      <td>...</td>\n",
              "      <td>NaN</td>\n",
              "      <td>NaN</td>\n",
              "      <td>NaN</td>\n",
              "      <td>NaN</td>\n",
              "      <td>NaN</td>\n",
              "      <td>NaN</td>\n",
              "      <td>NaN</td>\n",
              "      <td>NaN</td>\n",
              "      <td>NaN</td>\n",
              "      <td>NaN</td>\n",
              "    </tr>\n",
              "  </tbody>\n",
              "</table>\n",
              "<p>5 rows × 101 columns</p>\n",
              "</div>"
            ],
            "text/plain": [
              "                                                name  \\\n",
              "0                          Apple Iphone 11 64G White   \n",
              "1  Điện thoại Samsung Galaxy A13 (4G+128G) A135F Đen   \n",
              "2                         Apple iphone 11 128G Black   \n",
              "3          Điện thoại OPPO CPH2325 - A55 Đen Mạnh Mẽ   \n",
              "4          Điện thoại Xiaomi REDMI 9A (2+32) Xanh lá   \n",
              "\n",
              "                                                 url  \\\n",
              "0  https://mediamart.vn/smartphones/apple-iphone-...   \n",
              "1  https://mediamart.vn/smartphones/dien-thoai-ga...   \n",
              "2  https://mediamart.vn/smartphones/apple-iphone-...   \n",
              "3  https://mediamart.vn/smartphones/dien-thoai-op...   \n",
              "4  https://mediamart.vn/smartphones/dien-thoai-xi...   \n",
              "\n",
              "                                          image_link Thương hiệu Mã sản phẩm  \\\n",
              "0  https://cdn.mediamart.vn/thumb/images/product/...       Apple   Iphone 11   \n",
              "1  https://cdn.mediamart.vn/thumb/images/product/...     Samsung         A13   \n",
              "2  https://cdn.mediamart.vn/thumb/images/product/...       Apple   iphone 11   \n",
              "3  https://cdn.mediamart.vn/thumb/images/product/...        Oppo         A55   \n",
              "4  https://cdn.mediamart.vn/thumb/images/product/...      Xiaomi    Redmi 9A   \n",
              "\n",
              "                                         Hộp máy gồm Công nghệ màn hình  \\\n",
              "0    Sách hướng dẫnCáp Lightning - Type CCây lấy sim             Retina   \n",
              "1                                                NaN            TFT LCD   \n",
              "2    Sách hướng dẫnCáp Lightning - Type CCây lấy sim             Retina   \n",
              "3                                                NaN            IPS LCD   \n",
              "4  Sách hướng dẫnCáp Micro USBCây lấy simCủ sạc n...            IPS LCD   \n",
              "\n",
              "                  Độ phân giải   Màn hình  Cảm ứng  ... Mali-T720MP2 1 GB  \\\n",
              "0            1792 x 828 pixels   6.1 inch  Đa điểm  ...          NaN  NaN   \n",
              "1  Full HD+ (1080x2408 pixels)   6.6 inch      NaN  ...          NaN  NaN   \n",
              "2            1792 x 828 pixels   6.1 inch  Đa điểm  ...          NaN  NaN   \n",
              "3             700 x 1600 Pixel  6.51 inch  Đa điểm  ...          NaN  NaN   \n",
              "4             700 x 1600 Pixel  6.53 inch  Đa điểm  ...          NaN  NaN   \n",
              "\n",
              "  8 GB 32 GB 1 Nano + 1 Micro   Có CóA-GPS Micro USB 2050 mAh Pin chuẩn Li-Ion  \n",
              "0  NaN   NaN              NaN  NaN     NaN       NaN      NaN              NaN  \n",
              "1  NaN   NaN              NaN  NaN     NaN       NaN      NaN              NaN  \n",
              "2  NaN   NaN              NaN  NaN     NaN       NaN      NaN              NaN  \n",
              "3  NaN   NaN              NaN  NaN     NaN       NaN      NaN              NaN  \n",
              "4  NaN   NaN              NaN  NaN     NaN       NaN      NaN              NaN  \n",
              "\n",
              "[5 rows x 101 columns]"
            ]
          },
          "execution_count": 102,
          "metadata": {},
          "output_type": "execute_result"
        }
      ],
      "source": [
        "df.head()"
      ]
    },
    {
      "cell_type": "code",
      "execution_count": 105,
      "metadata": {},
      "outputs": [
        {
          "name": "stdout",
          "output_type": "stream",
          "text": [
            "name 0\n",
            "url 0\n",
            "image_link 0\n",
            "Thương hiệu 0\n",
            "Mã sản phẩm 0\n",
            "price 0\n",
            "RAM 2\n",
            "GPS 3\n",
            "Màn hình 3\n",
            "Bộ nhớ 4\n",
            "Số khe sim 5\n",
            "Công nghệ màn hình 5\n",
            "Camera trước 5\n",
            "Độ phân giải 5\n",
            "Bảo hành 5\n",
            "Hệ điều hành 5\n",
            "Wifi 6\n",
            "Bluetooth 6\n",
            "Số nhân 7\n",
            "Thiết kế 7\n",
            "Camera sau 7\n",
            "Cổng kết nối/sạc 9\n",
            "Chụp ảnh nâng cao 11\n",
            "CPU 11\n",
            "Quay phim 16\n",
            "Tính năng đặc biệt 22\n",
            "Jack tai nghe 23\n",
            "Thông tin khác 24\n",
            "Mặt kính cảm ứng 24\n",
            "Videocall 26\n",
            "Dung lượng pin 27\n",
            "Nền tảng 27\n",
            "Đèn Flash 29\n",
            "Kết nối khác 29\n",
            "Chức năng khác 29\n",
            "Loại pin 30\n",
            "Chip đồ họa (GPU) 33\n",
            "Chất liệu 40\n",
            "Tốc độ tối đa 60\n",
            "Hộp máy gồm 65\n",
            "Hỗ trợ 4G 73\n",
            "Thẻ nhớ ngoài 82\n",
            "Hỗ Trợ 5G 88\n",
            "Xuất xứ 90\n",
            "Tần số quét 94\n",
            "Ghi âm 96\n",
            "Hỗ trợ thẻ tối đa 99\n",
            "Loại Sim 105\n",
            "Chống nước 106\n",
            "Cảm ứng 108\n",
            "Nghe nhạc 112\n",
            "Xem phim 112\n",
            "Băng tần 3G 120\n",
            "Radio 122\n",
            "Băng tần 2G 123\n",
            "NFC 134\n",
            "2050mAh 144\n",
            "5.0 MP 144\n",
            "Li-ion 144\n",
            "Itel 144\n",
            "Itel A32F 144\n",
            "CápTai ngheSạcỐp lưng 144\n",
            "5.0 inch 144\n",
            "Cảm ứng điện dung 144\n",
            "Android 8.1 Oreo 144\n",
            "1 GB 144\n",
            "1.3 GHz 144\n",
            "Mali-T720MP2 144\n",
            "PIN 144\n",
            "8 GB 144\n",
            "32 GB 144\n",
            "1 Nano + 1 Micro 144\n",
            "Có 144\n",
            "CóA-GPS 144\n",
            "Micro USB 144\n",
            "MT6737 144\n",
            "Kích thước 144\n",
            "4G 144\n",
            "3GP, Mp4, MPEG4, H.263, H.264 player 144\n",
            "2050 mAh 144\n",
            "IPS LCD 144\n",
            "16M colors 144\n",
            "640 x 480 pixels 144\n",
            "5 inch 144\n",
            "Chipset 144\n",
            "Số nhân CPU 144\n",
            "Chip đồ họa (GPU) 144\n",
            "Camera 144\n",
            "MP3, AAC, AAC+, eAAC+, WMA, MIDI, WAV, AC3, FLAC 144\n",
            "5 MP 144\n",
            "Bộ nhớ trong 144\n",
            "Hỗ trợ thẻ nhớ tối đa 144\n",
            "SIM 144\n",
            "Nano + Micro 144\n",
            "2 144\n",
            "2G 144\n",
            "3G 144\n",
            "Kết nối USB 144\n",
            "Giải trí & Ứng dụng 144\n",
            "2 MP 144\n",
            "Pin chuẩn Li-Ion 144\n"
          ]
        }
      ],
      "source": [
        "for column, value in df.isnull().sum().sort_values(ascending=True).items():\n",
        "    print(column, value)"
      ]
    },
    {
      "cell_type": "code",
      "execution_count": 106,
      "metadata": {},
      "outputs": [],
      "source": [
        "df = df.loc[:, df.isnull().sum() < 144]"
      ]
    },
    {
      "cell_type": "code",
      "execution_count": 108,
      "metadata": {},
      "outputs": [
        {
          "data": {
            "text/plain": [
              "name                      0\n",
              "url                       0\n",
              "image_link                0\n",
              "Thương hiệu               0\n",
              "Mã sản phẩm               0\n",
              "price                     0\n",
              "RAM                       2\n",
              "GPS                       3\n",
              "Màn hình                  3\n",
              "Bộ nhớ                    4\n",
              "Bảo hành                  5\n",
              "Hệ điều hành              5\n",
              "Camera trước              5\n",
              "Số khe sim                5\n",
              "Công nghệ màn hình        5\n",
              "Độ phân giải              5\n",
              "Bluetooth                 6\n",
              "Wifi                      6\n",
              "Thiết kế                  7\n",
              "Camera sau                7\n",
              "Số nhân                   7\n",
              "Cổng kết nối/sạc      9\n",
              "Chụp ảnh nâng cao        11\n",
              "CPU                      11\n",
              "Quay phim                16\n",
              "Tính năng đặc biệt       22\n",
              "Jack tai nghe            23\n",
              "Mặt kính cảm ứng         24\n",
              "Thông tin khác           24\n",
              "Videocall                26\n",
              "Nền tảng                 27\n",
              "Dung lượng pin           27\n",
              "Chức năng khác           29\n",
              "Kết nối khác             29\n",
              "Đèn Flash                29\n",
              "Loại pin                 30\n",
              "Chip đồ họa (GPU)        33\n",
              "Chất liệu                40\n",
              "Tốc độ tối đa            60\n",
              "Hộp máy gồm              65\n",
              "Hỗ trợ 4G              73\n",
              "Thẻ nhớ ngoài            82\n",
              "Hỗ Trợ 5G                88\n",
              "Xuất xứ                  90\n",
              "Tần số quét              94\n",
              "Ghi âm                   96\n",
              "Hỗ trợ thẻ tối đa        99\n",
              "Loại Sim                105\n",
              "Chống nước              106\n",
              "Cảm ứng                 108\n",
              "Xem phim                112\n",
              "Nghe nhạc               112\n",
              "Băng tần 3G             120\n",
              "Radio                   122\n",
              "Băng tần 2G             123\n",
              "NFC                     134\n",
              "dtype: int64"
            ]
          },
          "execution_count": 108,
          "metadata": {},
          "output_type": "execute_result"
        }
      ],
      "source": [
        "df.isnull().sum().sort_values(ascending=True)"
      ]
    },
    {
      "cell_type": "code",
      "execution_count": 110,
      "metadata": {},
      "outputs": [],
      "source": [
        "df.to_csv(\"mediamart.csv\", index=0)"
      ]
    },
    {
      "cell_type": "code",
      "execution_count": 111,
      "metadata": {},
      "outputs": [],
      "source": [
        "df_new = pd.read_csv(\"mediamart.csv\")"
      ]
    },
    {
      "cell_type": "code",
      "execution_count": 113,
      "metadata": {},
      "outputs": [
        {
          "data": {
            "text/plain": [
              "0       6.1 inch\n",
              "1       6.6 inch\n",
              "2       6.1 inch\n",
              "3      6.51 inch\n",
              "4      6.53 inch\n",
              "         ...    \n",
              "142     6.1 inch\n",
              "143     6.1 inch\n",
              "144     5.4 inch\n",
              "145     5.4 inch\n",
              "146     6.7 inch\n",
              "Name: Màn hình, Length: 147, dtype: object"
            ]
          },
          "execution_count": 113,
          "metadata": {},
          "output_type": "execute_result"
        }
      ],
      "source": [
        "df_new[\"Màn hình\"]"
      ]
    },
    {
      "cell_type": "code",
      "execution_count": null,
      "metadata": {},
      "outputs": [],
      "source": []
    }
  ],
  "metadata": {
    "colab": {
      "name": "Bản sao của Crawl MediaMart.ipynb",
      "provenance": []
    },
    "kernelspec": {
      "display_name": "Python 3.9.7 64-bit",
      "language": "python",
      "name": "python3"
    },
    "language_info": {
      "codemirror_mode": {
        "name": "ipython",
        "version": 3
      },
      "file_extension": ".py",
      "mimetype": "text/x-python",
      "name": "python",
      "nbconvert_exporter": "python",
      "pygments_lexer": "ipython3",
      "version": "3.9.7"
    },
    "vscode": {
      "interpreter": {
        "hash": "0d591c6e422414675974e227c13f5382000c440fedd3c5006ef2be5d887f0ba7"
      }
    }
  },
  "nbformat": 4,
  "nbformat_minor": 0
}
