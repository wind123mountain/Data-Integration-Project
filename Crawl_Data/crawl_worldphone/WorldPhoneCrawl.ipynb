{
 "cells": [
  {
   "cell_type": "code",
   "execution_count": null,
   "id": "3909bb91-958a-4e8d-9f36-865e373d66ac",
   "metadata": {},
   "outputs": [],
   "source": [
    "from bs4 import BeautifulSoup as bs\n",
    "import requests"
   ]
  },
  {
   "cell_type": "code",
   "execution_count": null,
   "id": "e76b1d54-8b03-4255-b1f3-68ec91c831ab",
   "metadata": {},
   "outputs": [],
   "source": [
    "r = requests.get('https://worldphone.vn/htc-u12-plus-moi')\n",
    "soup = bs(r.content)\n",
    "contents = soup.prettify()"
   ]
  },
  {
   "cell_type": "code",
   "execution_count": null,
   "id": "eecece8d-c8cd-4083-824f-bd6aa1c33625",
   "metadata": {
    "scrolled": true,
    "tags": []
   },
   "outputs": [],
   "source": [
    "soup"
   ]
  },
  {
   "cell_type": "code",
   "execution_count": null,
   "id": "547cdb8a-ceae-4775-bf45-79c577eee489",
   "metadata": {},
   "outputs": [],
   "source": [
    "phone_name = soup.find(class_=\"title-head\")"
   ]
  },
  {
   "cell_type": "code",
   "execution_count": null,
   "id": "83a21227-1ce6-46a8-af69-d95f41a165f0",
   "metadata": {},
   "outputs": [],
   "source": [
    "phone_name.get_text()"
   ]
  },
  {
   "cell_type": "code",
   "execution_count": null,
   "id": "3e64ee04-ac4b-478f-bfcb-9a6c0a5fce33",
   "metadata": {},
   "outputs": [],
   "source": [
    "price = soup.select(\".price.product-price\")"
   ]
  },
  {
   "cell_type": "code",
   "execution_count": null,
   "id": "0c12651d-bbfe-49d3-a030-f778b816e425",
   "metadata": {},
   "outputs": [],
   "source": [
    "price[0].get_text()"
   ]
  },
  {
   "cell_type": "code",
   "execution_count": null,
   "id": "225b90b8-64a7-4055-9f90-c7d5283ffd53",
   "metadata": {},
   "outputs": [],
   "source": [
    "all_info = soup.find(class_=\"modal-body\")"
   ]
  },
  {
   "cell_type": "code",
   "execution_count": null,
   "id": "dff299ec-d25d-457a-b4a1-dd37e78a3e59",
   "metadata": {},
   "outputs": [],
   "source": [
    "phone_details = {}\n",
    "for li in all_info.find_all(\"li\"):\n",
    "    info = li.get_text()\n",
    "    info = info.replace('\\xa0',' ')\n",
    "    info_list = info.split(': ')\n",
    "    if len(info_list) == 2:\n",
    "        phone_details[info_list[0]] = info_list[1]"
   ]
  },
  {
   "cell_type": "code",
   "execution_count": null,
   "id": "e3ff0903-de79-48fc-942b-0b7898de8069",
   "metadata": {},
   "outputs": [],
   "source": []
  },
  {
   "cell_type": "code",
   "execution_count": null,
   "id": "9af0ae29-ee18-4c3a-a2a1-e28dc1b4a744",
   "metadata": {},
   "outputs": [],
   "source": [
    "def get_all_data(root=\"https://worldphone.vn\", names=['htc','lg','samsung','google','motorola', 'dien-thoai-sony', 'dien-thoai-2-sim']):\n",
    "    all_data = []\n",
    "    for name in names:\n",
    "        mobile_link = root + '/' + name\n",
    "        r = requests.get(mobile_link)\n",
    "        soup = bs(r.content)\n",
    "        all_phones = soup.find_all(class_=\"news-item-products\")\n",
    "        if len(all_phones) > 0:\n",
    "            for phone in all_phones:\n",
    "                phone_info = {}\n",
    "                new_link = root + phone.a['href']\n",
    "                r = requests.get(new_link)\n",
    "                soup = bs(r.content)\n",
    "                phone_name = soup.find(class_=\"title-head\")\n",
    "                phone_info[\"Tên điện thoại\"] = phone_name.get_text()\n",
    "                price = soup.select(\".price.product-price\")\n",
    "                if len(price) > 0:\n",
    "                    phone_info['Giá'] = price[0].get_text()\n",
    "                all_info = soup.find(class_=\"modal-body\")\n",
    "                if all_info is not None:\n",
    "                    for li in all_info.find_all(\"li\"):\n",
    "                        info = li.get_text()\n",
    "                        info = info.replace('\\xa0',' ')\n",
    "                        info_list = info.split(': ')\n",
    "                        if len(info_list) == 2:\n",
    "                            phone_info[info_list[0]] = info_list[1]\n",
    "                    all_data.append(phone_info)\n",
    "    return all_data"
   ]
  },
  {
   "cell_type": "code",
   "execution_count": null,
   "id": "1efa3df6-f145-4d0c-af3b-ebd9d4e9b058",
   "metadata": {},
   "outputs": [],
   "source": []
  },
  {
   "cell_type": "code",
   "execution_count": null,
   "id": "9607dbe2-6d7d-4bed-a35a-7a4ee715c1d5",
   "metadata": {},
   "outputs": [],
   "source": [
    "all_data = get_all_data()"
   ]
  },
  {
   "cell_type": "code",
   "execution_count": null,
   "id": "2ef1dbe3-26a8-4122-b01c-d914576e813f",
   "metadata": {},
   "outputs": [],
   "source": [
    "len(all_data)"
   ]
  },
  {
   "cell_type": "code",
   "execution_count": null,
   "id": "5a16c71a-e38f-48aa-9a2a-8c7c30a71826",
   "metadata": {},
   "outputs": [],
   "source": [
    "all_data_2 = get_all_data(names=[\"iphone-12-12-pro-12-pro-max\",\n",
    "                                \"iphone-xs-xs-max\",\n",
    "                                \"iphone-11-11-pro-11-pro-max\",\n",
    "                                \"iphone-x-iphone-xr\",\n",
    "                                \"iphone-8-8-plus\",\n",
    "                                \"iphone-7-7-plus\"])"
   ]
  },
  {
   "cell_type": "code",
   "execution_count": null,
   "id": "4757ce49-b339-44b6-bc7d-e4181aaa1a01",
   "metadata": {},
   "outputs": [],
   "source": [
    "len(all_data_2)"
   ]
  },
  {
   "cell_type": "code",
   "execution_count": null,
   "id": "eb2ab661-b223-40c1-b1f2-51942dbcff38",
   "metadata": {},
   "outputs": [],
   "source": [
    "all_phones = all_data + all_data_2"
   ]
  },
  {
   "cell_type": "code",
   "execution_count": null,
   "id": "1a44011a-557d-41dd-a30f-69ee868fc7d9",
   "metadata": {},
   "outputs": [],
   "source": [
    "len(all_phones)"
   ]
  },
  {
   "cell_type": "code",
   "execution_count": null,
   "id": "b4ba41a6-f510-4eae-a4c4-535fddf5d53e",
   "metadata": {},
   "outputs": [],
   "source": [
    "import json\n",
    "with open(\"worldphone.json\", \"w\", encoding='utf-8') as outfile:\n",
    "        json.dump(all_phones, outfile, ensure_ascii=False, indent=2)"
   ]
  },
  {
   "cell_type": "code",
   "execution_count": 4,
   "id": "401df21b-a38c-4044-8d07-3b21b963400a",
   "metadata": {},
   "outputs": [],
   "source": [
    "import json\n",
    "\n",
    "with open('worldphone.json', \"r\", encoding=\"utf-8\") as infile:\n",
    "    data = json.load(infile)"
   ]
  },
  {
   "cell_type": "code",
   "execution_count": 5,
   "id": "efd15e68",
   "metadata": {},
   "outputs": [],
   "source": [
    "import pandas as pd\n",
    "import numpy as np\n",
    "\n",
    "df = pd.DataFrame.from_dict(data)"
   ]
  },
  {
   "cell_type": "code",
   "execution_count": 6,
   "id": "7ba8fff6",
   "metadata": {},
   "outputs": [],
   "source": [
    "for i in list(df.index):\n",
    "    if df['Chipset (hãng SX CPU)'].iloc[i] != df['Chipset (hãng SX CPU)'].iloc[i]:\n",
    "        if df['Chip xử lý (CPU)'].iloc[i] == df['Chip xử lý (CPU)'].iloc[i]:\n",
    "            df.loc[i, ['Chipset (hãng SX CPU)']] = df['Chip xử lý (CPU)'].iloc[i]\n",
    "        if df['Chipset'].iloc[i] == df['Chipset'].iloc[i]:\n",
    "            df.loc[i, ['Chipset (hãng SX CPU)']] = df['Chipset'].iloc[i]"
   ]
  },
  {
   "cell_type": "code",
   "execution_count": 14,
   "id": "549e94c5",
   "metadata": {},
   "outputs": [],
   "source": [
    "import os\n",
    "\n",
    "df.to_csv (os.path.realpath('../../Data/Worldphone.csv'), index=False, header=True)"
   ]
  },
  {
   "cell_type": "code",
   "execution_count": null,
   "id": "f90fa0a4",
   "metadata": {},
   "outputs": [],
   "source": [
    "df.info()"
   ]
  }
 ],
 "metadata": {
  "kernelspec": {
   "display_name": "Python 3.8.8 ('base')",
   "language": "python",
   "name": "python3"
  },
  "language_info": {
   "codemirror_mode": {
    "name": "ipython",
    "version": 3
   },
   "file_extension": ".py",
   "mimetype": "text/x-python",
   "name": "python",
   "nbconvert_exporter": "python",
   "pygments_lexer": "ipython3",
   "version": "3.8.8"
  },
  "vscode": {
   "interpreter": {
    "hash": "bb0ca4744550a54ef6d6f0223fbdf8af236b117fd1588dc9b614ba2a4e01e5ad"
   }
  }
 },
 "nbformat": 4,
 "nbformat_minor": 5
}
